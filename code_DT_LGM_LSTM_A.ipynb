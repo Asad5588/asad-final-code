{
  "cells": [
    {
      "cell_type": "code",
      "source": [
        "from google.colab import drive\n",
        "drive.mount('/content/drive')"
      ],
      "metadata": {
        "colab": {
          "base_uri": "https://localhost:8080/"
        },
        "id": "uc3ZX0n-5fqP",
        "outputId": "464e26b0-204e-4243-d263-a63c4243d8d3"
      },
      "id": "uc3ZX0n-5fqP",
      "execution_count": null,
      "outputs": [
        {
          "output_type": "stream",
          "name": "stdout",
          "text": [
            "Mounted at /content/drive\n"
          ]
        }
      ]
    },
    {
      "cell_type": "code",
      "source": [],
      "metadata": {
        "id": "so7uLdy-533_"
      },
      "id": "so7uLdy-533_",
      "execution_count": null,
      "outputs": []
    },
    {
      "cell_type": "code",
      "execution_count": null,
      "id": "2626faa2",
      "metadata": {
        "_cell_guid": "b1076dfc-b9ad-4769-8c92-a6c4dae69d19",
        "_uuid": "8f2839f25d086af736a60e9eeb907d3b93b6e0e5",
        "execution": {
          "iopub.execute_input": "2024-01-18T09:22:18.666450Z",
          "iopub.status.busy": "2024-01-18T09:22:18.664940Z",
          "iopub.status.idle": "2024-01-18T09:22:31.542927Z",
          "shell.execute_reply": "2024-01-18T09:22:31.541692Z"
        },
        "papermill": {
          "duration": 12.901996,
          "end_time": "2024-01-18T09:22:31.546142",
          "exception": false,
          "start_time": "2024-01-18T09:22:18.644146",
          "status": "completed"
        },
        "tags": [],
        "id": "2626faa2"
      },
      "outputs": [],
      "source": [
        "# This Python 3 environment comes with many helpful analytics libraries installed\n",
        "# It is defined by the kaggle/python Docker image: https://github.com/kaggle/docker-python\n",
        "# For example, here's several helpful packages to load\n",
        "\n",
        "\n",
        "import numpy as np # linear algebra\n",
        "import pandas as pd # data processing, CSV file I/O (e.g. pd.read_csv)\n",
        "from sklearn.model_selection import train_test_split\n",
        "import matplotlib.pyplot as plt\n",
        "import seaborn as sns\n",
        "import time\n",
        "from sklearn.preprocessing import LabelEncoder\n",
        "from sklearn.preprocessing import StandardScaler\n",
        "from sklearn.ensemble import RandomForestClassifier\n",
        "from sklearn.linear_model import LogisticRegression\n",
        "from sklearn.cluster import KMeans\n",
        "from sklearn.metrics import accuracy_score, confusion_matrix, ConfusionMatrixDisplay, RocCurveDisplay, auc\n",
        "from sklearn.metrics import precision_score, recall_score, f1_score, roc_curve\n",
        "from sklearn.feature_selection import RFE\n",
        "from sklearn.tree import DecisionTreeClassifier\n",
        "from sklearn.naive_bayes import GaussianNB\n",
        "from sklearn.feature_selection import mutual_info_classif\n",
        "import xgboost as xgb\n",
        "from lightgbm import LGBMClassifier\n",
        "\n",
        "import keras\n",
        "from numpy import array\n",
        "# Input data files are available in the read-only \"../input/\" directory\n",
        "# For example, running this (by clicking run or pressing Shift+Enter) will list all files under the input directory\n",
        "\n",
        "import os\n"
      ]
    },
    {
      "cell_type": "code",
      "source": [],
      "metadata": {
        "id": "4dUVKto-5ePP"
      },
      "id": "4dUVKto-5ePP",
      "execution_count": null,
      "outputs": []
    },
    {
      "cell_type": "markdown",
      "id": "3cf34d38",
      "metadata": {
        "papermill": {
          "duration": 0.017358,
          "end_time": "2024-01-18T09:22:31.581729",
          "exception": false,
          "start_time": "2024-01-18T09:22:31.564371",
          "status": "completed"
        },
        "tags": [],
        "id": "3cf34d38"
      },
      "source": [
        "**Concatinate train and test to make some data precessing and cleaning before splitting**"
      ]
    },
    {
      "cell_type": "code",
      "execution_count": null,
      "id": "9cf52e4d",
      "metadata": {
        "execution": {
          "iopub.execute_input": "2024-01-18T09:22:31.620503Z",
          "iopub.status.busy": "2024-01-18T09:22:31.618841Z",
          "iopub.status.idle": "2024-01-18T09:22:33.744147Z",
          "shell.execute_reply": "2024-01-18T09:22:33.742791Z"
        },
        "papermill": {
          "duration": 2.147976,
          "end_time": "2024-01-18T09:22:33.747353",
          "exception": false,
          "start_time": "2024-01-18T09:22:31.599377",
          "status": "completed"
        },
        "tags": [],
        "colab": {
          "base_uri": "https://localhost:8080/",
          "height": 443
        },
        "id": "9cf52e4d",
        "outputId": "f6f61f38-7346-4013-a5d3-fb2edc6a1565"
      },
      "outputs": [
        {
          "output_type": "execute_result",
          "data": {
            "text/plain": [
              "          id       dur proto service state  spkts  dpkts  sbytes  dbytes  \\\n",
              "0          1  0.121478   tcp       -   FIN      6      4     258     172   \n",
              "1          2  0.649902   tcp       -   FIN     14     38     734   42014   \n",
              "2          3  1.623129   tcp       -   FIN      8     16     364   13186   \n",
              "3          4  1.681642   tcp     ftp   FIN     12     12     628     770   \n",
              "4          5  0.449454   tcp       -   FIN     10      6     534     268   \n",
              "...      ...       ...   ...     ...   ...    ...    ...     ...     ...   \n",
              "82327  82328  0.000005   udp       -   INT      2      0     104       0   \n",
              "82328  82329  1.106101   tcp       -   FIN     20      8   18062     354   \n",
              "82329  82330  0.000000   arp       -   INT      1      0      46       0   \n",
              "82330  82331  0.000000   arp       -   INT      1      0      46       0   \n",
              "82331  82332  0.000009   udp       -   INT      2      0     104       0   \n",
              "\n",
              "                rate  sttl  dttl         sload          dload  sloss  dloss  \\\n",
              "0          74.087490   252   254  1.415894e+04    8495.365234      0      0   \n",
              "1          78.473372    62   252  8.395112e+03  503571.312500      2     17   \n",
              "2          14.170161    62   252  1.572272e+03   60929.230470      1      6   \n",
              "3          13.677108    62   252  2.740179e+03    3358.622070      1      3   \n",
              "4          33.373826   254   252  8.561499e+03    3987.059814      2      1   \n",
              "...              ...   ...   ...           ...            ...    ...    ...   \n",
              "82327  200000.005100   254     0  8.320000e+07       0.000000      0      0   \n",
              "82328      24.410067   254   252  1.241044e+05    2242.109863      7      1   \n",
              "82329       0.000000     0     0  0.000000e+00       0.000000      0      0   \n",
              "82330       0.000000     0     0  0.000000e+00       0.000000      0      0   \n",
              "82331  111111.107200   254     0  4.622222e+07       0.000000      0      0   \n",
              "\n",
              "             sinpkt      dinpkt          sjit          djit  swin       stcpb  \\\n",
              "0         24.295600    8.375000     30.177547     11.830604   255   621772692   \n",
              "1         49.915000   15.432865     61.426934   1387.778330   255  1417884146   \n",
              "2        231.875571  102.737203  17179.586860  11420.926230   255  2116150707   \n",
              "3        152.876547   90.235726    259.080172   4991.784669   255  1107119177   \n",
              "4         47.750333   75.659602   2415.837634    115.807000   255  2436137549   \n",
              "...             ...         ...           ...           ...   ...         ...   \n",
              "82327      0.005000    0.000000      0.000000      0.000000     0           0   \n",
              "82328     55.880051  143.700000   4798.130981    190.980813   255  1072535109   \n",
              "82329  60000.720000    0.000000      0.000000      0.000000     0           0   \n",
              "82330  60000.732000    0.000000     10.954518      0.000000     0           0   \n",
              "82331      0.009000    0.000000      0.000000      0.000000     0           0   \n",
              "\n",
              "            dtcpb  dwin    tcprtt    synack    ackdat  smean  dmean  \\\n",
              "0      2202533631   255  0.000000  0.000000  0.000000     43     43   \n",
              "1      3077387971   255  0.000000  0.000000  0.000000     52   1106   \n",
              "2      2963114973   255  0.111897  0.061458  0.050439     46    824   \n",
              "3      1047442890   255  0.000000  0.000000  0.000000     52     64   \n",
              "4      1977154190   255  0.128381  0.071147  0.057234     53     45   \n",
              "...           ...   ...       ...       ...       ...    ...    ...   \n",
              "82327           0     0  0.000000  0.000000  0.000000     52      0   \n",
              "82328  3284291478   255  0.173208  0.100191  0.073017    903     44   \n",
              "82329           0     0  0.000000  0.000000  0.000000     46      0   \n",
              "82330           0     0  0.000000  0.000000  0.000000     46      0   \n",
              "82331           0     0  0.000000  0.000000  0.000000     52      0   \n",
              "\n",
              "       trans_depth  response_body_len  ct_srv_src  ct_state_ttl  ct_dst_ltm  \\\n",
              "0                0                  0           1             0           1   \n",
              "1                0                  0          43             1           1   \n",
              "2                0                  0           7             1           2   \n",
              "3                0                  0           1             1           2   \n",
              "4                0                  0          43             1           2   \n",
              "...            ...                ...         ...           ...         ...   \n",
              "82327            0                  0           1             2           2   \n",
              "82328            0                  0           1             1           2   \n",
              "82329            0                  0           1             2           1   \n",
              "82330            0                  0           1             2           1   \n",
              "82331            0                  0           1             2           1   \n",
              "\n",
              "       ct_src_dport_ltm  ct_dst_sport_ltm  ct_dst_src_ltm  is_ftp_login  \\\n",
              "0                     1                 1               1             0   \n",
              "1                     1                 1               2             0   \n",
              "2                     1                 1               3             0   \n",
              "3                     1                 1               3             1   \n",
              "4                     2                 1              40             0   \n",
              "...                 ...               ...             ...           ...   \n",
              "82327                 1                 1               2             0   \n",
              "82328                 1                 1               1             0   \n",
              "82329                 1                 1               1             0   \n",
              "82330                 1                 1               1             0   \n",
              "82331                 1                 1               1             0   \n",
              "\n",
              "       ct_ftp_cmd  ct_flw_http_mthd  ct_src_ltm  ct_srv_dst  is_sm_ips_ports  \\\n",
              "0               0                 0           1           1                0   \n",
              "1               0                 0           1           6                0   \n",
              "2               0                 0           2           6                0   \n",
              "3               1                 0           2           1                0   \n",
              "4               0                 0           2          39                0   \n",
              "...           ...               ...         ...         ...              ...   \n",
              "82327           0                 0           2           1                0   \n",
              "82328           0                 0           3           2                0   \n",
              "82329           0                 0           1           1                1   \n",
              "82330           0                 0           1           1                1   \n",
              "82331           0                 0           1           1                0   \n",
              "\n",
              "      attack_cat  label  \n",
              "0         Normal      0  \n",
              "1         Normal      0  \n",
              "2         Normal      0  \n",
              "3         Normal      0  \n",
              "4         Normal      0  \n",
              "...          ...    ...  \n",
              "82327     Normal      0  \n",
              "82328     Normal      0  \n",
              "82329     Normal      0  \n",
              "82330     Normal      0  \n",
              "82331     Normal      0  \n",
              "\n",
              "[257673 rows x 45 columns]"
            ],
            "text/html": [
              "\n",
              "  <div id=\"df-fe391920-d8ae-4c46-a10c-5e276077ced1\" class=\"colab-df-container\">\n",
              "    <div>\n",
              "<style scoped>\n",
              "    .dataframe tbody tr th:only-of-type {\n",
              "        vertical-align: middle;\n",
              "    }\n",
              "\n",
              "    .dataframe tbody tr th {\n",
              "        vertical-align: top;\n",
              "    }\n",
              "\n",
              "    .dataframe thead th {\n",
              "        text-align: right;\n",
              "    }\n",
              "</style>\n",
              "<table border=\"1\" class=\"dataframe\">\n",
              "  <thead>\n",
              "    <tr style=\"text-align: right;\">\n",
              "      <th></th>\n",
              "      <th>id</th>\n",
              "      <th>dur</th>\n",
              "      <th>proto</th>\n",
              "      <th>service</th>\n",
              "      <th>state</th>\n",
              "      <th>spkts</th>\n",
              "      <th>dpkts</th>\n",
              "      <th>sbytes</th>\n",
              "      <th>dbytes</th>\n",
              "      <th>rate</th>\n",
              "      <th>sttl</th>\n",
              "      <th>dttl</th>\n",
              "      <th>sload</th>\n",
              "      <th>dload</th>\n",
              "      <th>sloss</th>\n",
              "      <th>dloss</th>\n",
              "      <th>sinpkt</th>\n",
              "      <th>dinpkt</th>\n",
              "      <th>sjit</th>\n",
              "      <th>djit</th>\n",
              "      <th>swin</th>\n",
              "      <th>stcpb</th>\n",
              "      <th>dtcpb</th>\n",
              "      <th>dwin</th>\n",
              "      <th>tcprtt</th>\n",
              "      <th>synack</th>\n",
              "      <th>ackdat</th>\n",
              "      <th>smean</th>\n",
              "      <th>dmean</th>\n",
              "      <th>trans_depth</th>\n",
              "      <th>response_body_len</th>\n",
              "      <th>ct_srv_src</th>\n",
              "      <th>ct_state_ttl</th>\n",
              "      <th>ct_dst_ltm</th>\n",
              "      <th>ct_src_dport_ltm</th>\n",
              "      <th>ct_dst_sport_ltm</th>\n",
              "      <th>ct_dst_src_ltm</th>\n",
              "      <th>is_ftp_login</th>\n",
              "      <th>ct_ftp_cmd</th>\n",
              "      <th>ct_flw_http_mthd</th>\n",
              "      <th>ct_src_ltm</th>\n",
              "      <th>ct_srv_dst</th>\n",
              "      <th>is_sm_ips_ports</th>\n",
              "      <th>attack_cat</th>\n",
              "      <th>label</th>\n",
              "    </tr>\n",
              "  </thead>\n",
              "  <tbody>\n",
              "    <tr>\n",
              "      <th>0</th>\n",
              "      <td>1</td>\n",
              "      <td>0.121478</td>\n",
              "      <td>tcp</td>\n",
              "      <td>-</td>\n",
              "      <td>FIN</td>\n",
              "      <td>6</td>\n",
              "      <td>4</td>\n",
              "      <td>258</td>\n",
              "      <td>172</td>\n",
              "      <td>74.087490</td>\n",
              "      <td>252</td>\n",
              "      <td>254</td>\n",
              "      <td>1.415894e+04</td>\n",
              "      <td>8495.365234</td>\n",
              "      <td>0</td>\n",
              "      <td>0</td>\n",
              "      <td>24.295600</td>\n",
              "      <td>8.375000</td>\n",
              "      <td>30.177547</td>\n",
              "      <td>11.830604</td>\n",
              "      <td>255</td>\n",
              "      <td>621772692</td>\n",
              "      <td>2202533631</td>\n",
              "      <td>255</td>\n",
              "      <td>0.000000</td>\n",
              "      <td>0.000000</td>\n",
              "      <td>0.000000</td>\n",
              "      <td>43</td>\n",
              "      <td>43</td>\n",
              "      <td>0</td>\n",
              "      <td>0</td>\n",
              "      <td>1</td>\n",
              "      <td>0</td>\n",
              "      <td>1</td>\n",
              "      <td>1</td>\n",
              "      <td>1</td>\n",
              "      <td>1</td>\n",
              "      <td>0</td>\n",
              "      <td>0</td>\n",
              "      <td>0</td>\n",
              "      <td>1</td>\n",
              "      <td>1</td>\n",
              "      <td>0</td>\n",
              "      <td>Normal</td>\n",
              "      <td>0</td>\n",
              "    </tr>\n",
              "    <tr>\n",
              "      <th>1</th>\n",
              "      <td>2</td>\n",
              "      <td>0.649902</td>\n",
              "      <td>tcp</td>\n",
              "      <td>-</td>\n",
              "      <td>FIN</td>\n",
              "      <td>14</td>\n",
              "      <td>38</td>\n",
              "      <td>734</td>\n",
              "      <td>42014</td>\n",
              "      <td>78.473372</td>\n",
              "      <td>62</td>\n",
              "      <td>252</td>\n",
              "      <td>8.395112e+03</td>\n",
              "      <td>503571.312500</td>\n",
              "      <td>2</td>\n",
              "      <td>17</td>\n",
              "      <td>49.915000</td>\n",
              "      <td>15.432865</td>\n",
              "      <td>61.426934</td>\n",
              "      <td>1387.778330</td>\n",
              "      <td>255</td>\n",
              "      <td>1417884146</td>\n",
              "      <td>3077387971</td>\n",
              "      <td>255</td>\n",
              "      <td>0.000000</td>\n",
              "      <td>0.000000</td>\n",
              "      <td>0.000000</td>\n",
              "      <td>52</td>\n",
              "      <td>1106</td>\n",
              "      <td>0</td>\n",
              "      <td>0</td>\n",
              "      <td>43</td>\n",
              "      <td>1</td>\n",
              "      <td>1</td>\n",
              "      <td>1</td>\n",
              "      <td>1</td>\n",
              "      <td>2</td>\n",
              "      <td>0</td>\n",
              "      <td>0</td>\n",
              "      <td>0</td>\n",
              "      <td>1</td>\n",
              "      <td>6</td>\n",
              "      <td>0</td>\n",
              "      <td>Normal</td>\n",
              "      <td>0</td>\n",
              "    </tr>\n",
              "    <tr>\n",
              "      <th>2</th>\n",
              "      <td>3</td>\n",
              "      <td>1.623129</td>\n",
              "      <td>tcp</td>\n",
              "      <td>-</td>\n",
              "      <td>FIN</td>\n",
              "      <td>8</td>\n",
              "      <td>16</td>\n",
              "      <td>364</td>\n",
              "      <td>13186</td>\n",
              "      <td>14.170161</td>\n",
              "      <td>62</td>\n",
              "      <td>252</td>\n",
              "      <td>1.572272e+03</td>\n",
              "      <td>60929.230470</td>\n",
              "      <td>1</td>\n",
              "      <td>6</td>\n",
              "      <td>231.875571</td>\n",
              "      <td>102.737203</td>\n",
              "      <td>17179.586860</td>\n",
              "      <td>11420.926230</td>\n",
              "      <td>255</td>\n",
              "      <td>2116150707</td>\n",
              "      <td>2963114973</td>\n",
              "      <td>255</td>\n",
              "      <td>0.111897</td>\n",
              "      <td>0.061458</td>\n",
              "      <td>0.050439</td>\n",
              "      <td>46</td>\n",
              "      <td>824</td>\n",
              "      <td>0</td>\n",
              "      <td>0</td>\n",
              "      <td>7</td>\n",
              "      <td>1</td>\n",
              "      <td>2</td>\n",
              "      <td>1</td>\n",
              "      <td>1</td>\n",
              "      <td>3</td>\n",
              "      <td>0</td>\n",
              "      <td>0</td>\n",
              "      <td>0</td>\n",
              "      <td>2</td>\n",
              "      <td>6</td>\n",
              "      <td>0</td>\n",
              "      <td>Normal</td>\n",
              "      <td>0</td>\n",
              "    </tr>\n",
              "    <tr>\n",
              "      <th>3</th>\n",
              "      <td>4</td>\n",
              "      <td>1.681642</td>\n",
              "      <td>tcp</td>\n",
              "      <td>ftp</td>\n",
              "      <td>FIN</td>\n",
              "      <td>12</td>\n",
              "      <td>12</td>\n",
              "      <td>628</td>\n",
              "      <td>770</td>\n",
              "      <td>13.677108</td>\n",
              "      <td>62</td>\n",
              "      <td>252</td>\n",
              "      <td>2.740179e+03</td>\n",
              "      <td>3358.622070</td>\n",
              "      <td>1</td>\n",
              "      <td>3</td>\n",
              "      <td>152.876547</td>\n",
              "      <td>90.235726</td>\n",
              "      <td>259.080172</td>\n",
              "      <td>4991.784669</td>\n",
              "      <td>255</td>\n",
              "      <td>1107119177</td>\n",
              "      <td>1047442890</td>\n",
              "      <td>255</td>\n",
              "      <td>0.000000</td>\n",
              "      <td>0.000000</td>\n",
              "      <td>0.000000</td>\n",
              "      <td>52</td>\n",
              "      <td>64</td>\n",
              "      <td>0</td>\n",
              "      <td>0</td>\n",
              "      <td>1</td>\n",
              "      <td>1</td>\n",
              "      <td>2</td>\n",
              "      <td>1</td>\n",
              "      <td>1</td>\n",
              "      <td>3</td>\n",
              "      <td>1</td>\n",
              "      <td>1</td>\n",
              "      <td>0</td>\n",
              "      <td>2</td>\n",
              "      <td>1</td>\n",
              "      <td>0</td>\n",
              "      <td>Normal</td>\n",
              "      <td>0</td>\n",
              "    </tr>\n",
              "    <tr>\n",
              "      <th>4</th>\n",
              "      <td>5</td>\n",
              "      <td>0.449454</td>\n",
              "      <td>tcp</td>\n",
              "      <td>-</td>\n",
              "      <td>FIN</td>\n",
              "      <td>10</td>\n",
              "      <td>6</td>\n",
              "      <td>534</td>\n",
              "      <td>268</td>\n",
              "      <td>33.373826</td>\n",
              "      <td>254</td>\n",
              "      <td>252</td>\n",
              "      <td>8.561499e+03</td>\n",
              "      <td>3987.059814</td>\n",
              "      <td>2</td>\n",
              "      <td>1</td>\n",
              "      <td>47.750333</td>\n",
              "      <td>75.659602</td>\n",
              "      <td>2415.837634</td>\n",
              "      <td>115.807000</td>\n",
              "      <td>255</td>\n",
              "      <td>2436137549</td>\n",
              "      <td>1977154190</td>\n",
              "      <td>255</td>\n",
              "      <td>0.128381</td>\n",
              "      <td>0.071147</td>\n",
              "      <td>0.057234</td>\n",
              "      <td>53</td>\n",
              "      <td>45</td>\n",
              "      <td>0</td>\n",
              "      <td>0</td>\n",
              "      <td>43</td>\n",
              "      <td>1</td>\n",
              "      <td>2</td>\n",
              "      <td>2</td>\n",
              "      <td>1</td>\n",
              "      <td>40</td>\n",
              "      <td>0</td>\n",
              "      <td>0</td>\n",
              "      <td>0</td>\n",
              "      <td>2</td>\n",
              "      <td>39</td>\n",
              "      <td>0</td>\n",
              "      <td>Normal</td>\n",
              "      <td>0</td>\n",
              "    </tr>\n",
              "    <tr>\n",
              "      <th>...</th>\n",
              "      <td>...</td>\n",
              "      <td>...</td>\n",
              "      <td>...</td>\n",
              "      <td>...</td>\n",
              "      <td>...</td>\n",
              "      <td>...</td>\n",
              "      <td>...</td>\n",
              "      <td>...</td>\n",
              "      <td>...</td>\n",
              "      <td>...</td>\n",
              "      <td>...</td>\n",
              "      <td>...</td>\n",
              "      <td>...</td>\n",
              "      <td>...</td>\n",
              "      <td>...</td>\n",
              "      <td>...</td>\n",
              "      <td>...</td>\n",
              "      <td>...</td>\n",
              "      <td>...</td>\n",
              "      <td>...</td>\n",
              "      <td>...</td>\n",
              "      <td>...</td>\n",
              "      <td>...</td>\n",
              "      <td>...</td>\n",
              "      <td>...</td>\n",
              "      <td>...</td>\n",
              "      <td>...</td>\n",
              "      <td>...</td>\n",
              "      <td>...</td>\n",
              "      <td>...</td>\n",
              "      <td>...</td>\n",
              "      <td>...</td>\n",
              "      <td>...</td>\n",
              "      <td>...</td>\n",
              "      <td>...</td>\n",
              "      <td>...</td>\n",
              "      <td>...</td>\n",
              "      <td>...</td>\n",
              "      <td>...</td>\n",
              "      <td>...</td>\n",
              "      <td>...</td>\n",
              "      <td>...</td>\n",
              "      <td>...</td>\n",
              "      <td>...</td>\n",
              "      <td>...</td>\n",
              "    </tr>\n",
              "    <tr>\n",
              "      <th>82327</th>\n",
              "      <td>82328</td>\n",
              "      <td>0.000005</td>\n",
              "      <td>udp</td>\n",
              "      <td>-</td>\n",
              "      <td>INT</td>\n",
              "      <td>2</td>\n",
              "      <td>0</td>\n",
              "      <td>104</td>\n",
              "      <td>0</td>\n",
              "      <td>200000.005100</td>\n",
              "      <td>254</td>\n",
              "      <td>0</td>\n",
              "      <td>8.320000e+07</td>\n",
              "      <td>0.000000</td>\n",
              "      <td>0</td>\n",
              "      <td>0</td>\n",
              "      <td>0.005000</td>\n",
              "      <td>0.000000</td>\n",
              "      <td>0.000000</td>\n",
              "      <td>0.000000</td>\n",
              "      <td>0</td>\n",
              "      <td>0</td>\n",
              "      <td>0</td>\n",
              "      <td>0</td>\n",
              "      <td>0.000000</td>\n",
              "      <td>0.000000</td>\n",
              "      <td>0.000000</td>\n",
              "      <td>52</td>\n",
              "      <td>0</td>\n",
              "      <td>0</td>\n",
              "      <td>0</td>\n",
              "      <td>1</td>\n",
              "      <td>2</td>\n",
              "      <td>2</td>\n",
              "      <td>1</td>\n",
              "      <td>1</td>\n",
              "      <td>2</td>\n",
              "      <td>0</td>\n",
              "      <td>0</td>\n",
              "      <td>0</td>\n",
              "      <td>2</td>\n",
              "      <td>1</td>\n",
              "      <td>0</td>\n",
              "      <td>Normal</td>\n",
              "      <td>0</td>\n",
              "    </tr>\n",
              "    <tr>\n",
              "      <th>82328</th>\n",
              "      <td>82329</td>\n",
              "      <td>1.106101</td>\n",
              "      <td>tcp</td>\n",
              "      <td>-</td>\n",
              "      <td>FIN</td>\n",
              "      <td>20</td>\n",
              "      <td>8</td>\n",
              "      <td>18062</td>\n",
              "      <td>354</td>\n",
              "      <td>24.410067</td>\n",
              "      <td>254</td>\n",
              "      <td>252</td>\n",
              "      <td>1.241044e+05</td>\n",
              "      <td>2242.109863</td>\n",
              "      <td>7</td>\n",
              "      <td>1</td>\n",
              "      <td>55.880051</td>\n",
              "      <td>143.700000</td>\n",
              "      <td>4798.130981</td>\n",
              "      <td>190.980813</td>\n",
              "      <td>255</td>\n",
              "      <td>1072535109</td>\n",
              "      <td>3284291478</td>\n",
              "      <td>255</td>\n",
              "      <td>0.173208</td>\n",
              "      <td>0.100191</td>\n",
              "      <td>0.073017</td>\n",
              "      <td>903</td>\n",
              "      <td>44</td>\n",
              "      <td>0</td>\n",
              "      <td>0</td>\n",
              "      <td>1</td>\n",
              "      <td>1</td>\n",
              "      <td>2</td>\n",
              "      <td>1</td>\n",
              "      <td>1</td>\n",
              "      <td>1</td>\n",
              "      <td>0</td>\n",
              "      <td>0</td>\n",
              "      <td>0</td>\n",
              "      <td>3</td>\n",
              "      <td>2</td>\n",
              "      <td>0</td>\n",
              "      <td>Normal</td>\n",
              "      <td>0</td>\n",
              "    </tr>\n",
              "    <tr>\n",
              "      <th>82329</th>\n",
              "      <td>82330</td>\n",
              "      <td>0.000000</td>\n",
              "      <td>arp</td>\n",
              "      <td>-</td>\n",
              "      <td>INT</td>\n",
              "      <td>1</td>\n",
              "      <td>0</td>\n",
              "      <td>46</td>\n",
              "      <td>0</td>\n",
              "      <td>0.000000</td>\n",
              "      <td>0</td>\n",
              "      <td>0</td>\n",
              "      <td>0.000000e+00</td>\n",
              "      <td>0.000000</td>\n",
              "      <td>0</td>\n",
              "      <td>0</td>\n",
              "      <td>60000.720000</td>\n",
              "      <td>0.000000</td>\n",
              "      <td>0.000000</td>\n",
              "      <td>0.000000</td>\n",
              "      <td>0</td>\n",
              "      <td>0</td>\n",
              "      <td>0</td>\n",
              "      <td>0</td>\n",
              "      <td>0.000000</td>\n",
              "      <td>0.000000</td>\n",
              "      <td>0.000000</td>\n",
              "      <td>46</td>\n",
              "      <td>0</td>\n",
              "      <td>0</td>\n",
              "      <td>0</td>\n",
              "      <td>1</td>\n",
              "      <td>2</td>\n",
              "      <td>1</td>\n",
              "      <td>1</td>\n",
              "      <td>1</td>\n",
              "      <td>1</td>\n",
              "      <td>0</td>\n",
              "      <td>0</td>\n",
              "      <td>0</td>\n",
              "      <td>1</td>\n",
              "      <td>1</td>\n",
              "      <td>1</td>\n",
              "      <td>Normal</td>\n",
              "      <td>0</td>\n",
              "    </tr>\n",
              "    <tr>\n",
              "      <th>82330</th>\n",
              "      <td>82331</td>\n",
              "      <td>0.000000</td>\n",
              "      <td>arp</td>\n",
              "      <td>-</td>\n",
              "      <td>INT</td>\n",
              "      <td>1</td>\n",
              "      <td>0</td>\n",
              "      <td>46</td>\n",
              "      <td>0</td>\n",
              "      <td>0.000000</td>\n",
              "      <td>0</td>\n",
              "      <td>0</td>\n",
              "      <td>0.000000e+00</td>\n",
              "      <td>0.000000</td>\n",
              "      <td>0</td>\n",
              "      <td>0</td>\n",
              "      <td>60000.732000</td>\n",
              "      <td>0.000000</td>\n",
              "      <td>10.954518</td>\n",
              "      <td>0.000000</td>\n",
              "      <td>0</td>\n",
              "      <td>0</td>\n",
              "      <td>0</td>\n",
              "      <td>0</td>\n",
              "      <td>0.000000</td>\n",
              "      <td>0.000000</td>\n",
              "      <td>0.000000</td>\n",
              "      <td>46</td>\n",
              "      <td>0</td>\n",
              "      <td>0</td>\n",
              "      <td>0</td>\n",
              "      <td>1</td>\n",
              "      <td>2</td>\n",
              "      <td>1</td>\n",
              "      <td>1</td>\n",
              "      <td>1</td>\n",
              "      <td>1</td>\n",
              "      <td>0</td>\n",
              "      <td>0</td>\n",
              "      <td>0</td>\n",
              "      <td>1</td>\n",
              "      <td>1</td>\n",
              "      <td>1</td>\n",
              "      <td>Normal</td>\n",
              "      <td>0</td>\n",
              "    </tr>\n",
              "    <tr>\n",
              "      <th>82331</th>\n",
              "      <td>82332</td>\n",
              "      <td>0.000009</td>\n",
              "      <td>udp</td>\n",
              "      <td>-</td>\n",
              "      <td>INT</td>\n",
              "      <td>2</td>\n",
              "      <td>0</td>\n",
              "      <td>104</td>\n",
              "      <td>0</td>\n",
              "      <td>111111.107200</td>\n",
              "      <td>254</td>\n",
              "      <td>0</td>\n",
              "      <td>4.622222e+07</td>\n",
              "      <td>0.000000</td>\n",
              "      <td>0</td>\n",
              "      <td>0</td>\n",
              "      <td>0.009000</td>\n",
              "      <td>0.000000</td>\n",
              "      <td>0.000000</td>\n",
              "      <td>0.000000</td>\n",
              "      <td>0</td>\n",
              "      <td>0</td>\n",
              "      <td>0</td>\n",
              "      <td>0</td>\n",
              "      <td>0.000000</td>\n",
              "      <td>0.000000</td>\n",
              "      <td>0.000000</td>\n",
              "      <td>52</td>\n",
              "      <td>0</td>\n",
              "      <td>0</td>\n",
              "      <td>0</td>\n",
              "      <td>1</td>\n",
              "      <td>2</td>\n",
              "      <td>1</td>\n",
              "      <td>1</td>\n",
              "      <td>1</td>\n",
              "      <td>1</td>\n",
              "      <td>0</td>\n",
              "      <td>0</td>\n",
              "      <td>0</td>\n",
              "      <td>1</td>\n",
              "      <td>1</td>\n",
              "      <td>0</td>\n",
              "      <td>Normal</td>\n",
              "      <td>0</td>\n",
              "    </tr>\n",
              "  </tbody>\n",
              "</table>\n",
              "<p>257673 rows × 45 columns</p>\n",
              "</div>\n",
              "    <div class=\"colab-df-buttons\">\n",
              "\n",
              "  <div class=\"colab-df-container\">\n",
              "    <button class=\"colab-df-convert\" onclick=\"convertToInteractive('df-fe391920-d8ae-4c46-a10c-5e276077ced1')\"\n",
              "            title=\"Convert this dataframe to an interactive table.\"\n",
              "            style=\"display:none;\">\n",
              "\n",
              "  <svg xmlns=\"http://www.w3.org/2000/svg\" height=\"24px\" viewBox=\"0 -960 960 960\">\n",
              "    <path d=\"M120-120v-720h720v720H120Zm60-500h600v-160H180v160Zm220 220h160v-160H400v160Zm0 220h160v-160H400v160ZM180-400h160v-160H180v160Zm440 0h160v-160H620v160ZM180-180h160v-160H180v160Zm440 0h160v-160H620v160Z\"/>\n",
              "  </svg>\n",
              "    </button>\n",
              "\n",
              "  <style>\n",
              "    .colab-df-container {\n",
              "      display:flex;\n",
              "      gap: 12px;\n",
              "    }\n",
              "\n",
              "    .colab-df-convert {\n",
              "      background-color: #E8F0FE;\n",
              "      border: none;\n",
              "      border-radius: 50%;\n",
              "      cursor: pointer;\n",
              "      display: none;\n",
              "      fill: #1967D2;\n",
              "      height: 32px;\n",
              "      padding: 0 0 0 0;\n",
              "      width: 32px;\n",
              "    }\n",
              "\n",
              "    .colab-df-convert:hover {\n",
              "      background-color: #E2EBFA;\n",
              "      box-shadow: 0px 1px 2px rgba(60, 64, 67, 0.3), 0px 1px 3px 1px rgba(60, 64, 67, 0.15);\n",
              "      fill: #174EA6;\n",
              "    }\n",
              "\n",
              "    .colab-df-buttons div {\n",
              "      margin-bottom: 4px;\n",
              "    }\n",
              "\n",
              "    [theme=dark] .colab-df-convert {\n",
              "      background-color: #3B4455;\n",
              "      fill: #D2E3FC;\n",
              "    }\n",
              "\n",
              "    [theme=dark] .colab-df-convert:hover {\n",
              "      background-color: #434B5C;\n",
              "      box-shadow: 0px 1px 3px 1px rgba(0, 0, 0, 0.15);\n",
              "      filter: drop-shadow(0px 1px 2px rgba(0, 0, 0, 0.3));\n",
              "      fill: #FFFFFF;\n",
              "    }\n",
              "  </style>\n",
              "\n",
              "    <script>\n",
              "      const buttonEl =\n",
              "        document.querySelector('#df-fe391920-d8ae-4c46-a10c-5e276077ced1 button.colab-df-convert');\n",
              "      buttonEl.style.display =\n",
              "        google.colab.kernel.accessAllowed ? 'block' : 'none';\n",
              "\n",
              "      async function convertToInteractive(key) {\n",
              "        const element = document.querySelector('#df-fe391920-d8ae-4c46-a10c-5e276077ced1');\n",
              "        const dataTable =\n",
              "          await google.colab.kernel.invokeFunction('convertToInteractive',\n",
              "                                                    [key], {});\n",
              "        if (!dataTable) return;\n",
              "\n",
              "        const docLinkHtml = 'Like what you see? Visit the ' +\n",
              "          '<a target=\"_blank\" href=https://colab.research.google.com/notebooks/data_table.ipynb>data table notebook</a>'\n",
              "          + ' to learn more about interactive tables.';\n",
              "        element.innerHTML = '';\n",
              "        dataTable['output_type'] = 'display_data';\n",
              "        await google.colab.output.renderOutput(dataTable, element);\n",
              "        const docLink = document.createElement('div');\n",
              "        docLink.innerHTML = docLinkHtml;\n",
              "        element.appendChild(docLink);\n",
              "      }\n",
              "    </script>\n",
              "  </div>\n",
              "\n",
              "\n",
              "<div id=\"df-a8865178-a2f7-4e39-a8b9-e4a83f3d2fa2\">\n",
              "  <button class=\"colab-df-quickchart\" onclick=\"quickchart('df-a8865178-a2f7-4e39-a8b9-e4a83f3d2fa2')\"\n",
              "            title=\"Suggest charts\"\n",
              "            style=\"display:none;\">\n",
              "\n",
              "<svg xmlns=\"http://www.w3.org/2000/svg\" height=\"24px\"viewBox=\"0 0 24 24\"\n",
              "     width=\"24px\">\n",
              "    <g>\n",
              "        <path d=\"M19 3H5c-1.1 0-2 .9-2 2v14c0 1.1.9 2 2 2h14c1.1 0 2-.9 2-2V5c0-1.1-.9-2-2-2zM9 17H7v-7h2v7zm4 0h-2V7h2v10zm4 0h-2v-4h2v4z\"/>\n",
              "    </g>\n",
              "</svg>\n",
              "  </button>\n",
              "\n",
              "<style>\n",
              "  .colab-df-quickchart {\n",
              "      --bg-color: #E8F0FE;\n",
              "      --fill-color: #1967D2;\n",
              "      --hover-bg-color: #E2EBFA;\n",
              "      --hover-fill-color: #174EA6;\n",
              "      --disabled-fill-color: #AAA;\n",
              "      --disabled-bg-color: #DDD;\n",
              "  }\n",
              "\n",
              "  [theme=dark] .colab-df-quickchart {\n",
              "      --bg-color: #3B4455;\n",
              "      --fill-color: #D2E3FC;\n",
              "      --hover-bg-color: #434B5C;\n",
              "      --hover-fill-color: #FFFFFF;\n",
              "      --disabled-bg-color: #3B4455;\n",
              "      --disabled-fill-color: #666;\n",
              "  }\n",
              "\n",
              "  .colab-df-quickchart {\n",
              "    background-color: var(--bg-color);\n",
              "    border: none;\n",
              "    border-radius: 50%;\n",
              "    cursor: pointer;\n",
              "    display: none;\n",
              "    fill: var(--fill-color);\n",
              "    height: 32px;\n",
              "    padding: 0;\n",
              "    width: 32px;\n",
              "  }\n",
              "\n",
              "  .colab-df-quickchart:hover {\n",
              "    background-color: var(--hover-bg-color);\n",
              "    box-shadow: 0 1px 2px rgba(60, 64, 67, 0.3), 0 1px 3px 1px rgba(60, 64, 67, 0.15);\n",
              "    fill: var(--button-hover-fill-color);\n",
              "  }\n",
              "\n",
              "  .colab-df-quickchart-complete:disabled,\n",
              "  .colab-df-quickchart-complete:disabled:hover {\n",
              "    background-color: var(--disabled-bg-color);\n",
              "    fill: var(--disabled-fill-color);\n",
              "    box-shadow: none;\n",
              "  }\n",
              "\n",
              "  .colab-df-spinner {\n",
              "    border: 2px solid var(--fill-color);\n",
              "    border-color: transparent;\n",
              "    border-bottom-color: var(--fill-color);\n",
              "    animation:\n",
              "      spin 1s steps(1) infinite;\n",
              "  }\n",
              "\n",
              "  @keyframes spin {\n",
              "    0% {\n",
              "      border-color: transparent;\n",
              "      border-bottom-color: var(--fill-color);\n",
              "      border-left-color: var(--fill-color);\n",
              "    }\n",
              "    20% {\n",
              "      border-color: transparent;\n",
              "      border-left-color: var(--fill-color);\n",
              "      border-top-color: var(--fill-color);\n",
              "    }\n",
              "    30% {\n",
              "      border-color: transparent;\n",
              "      border-left-color: var(--fill-color);\n",
              "      border-top-color: var(--fill-color);\n",
              "      border-right-color: var(--fill-color);\n",
              "    }\n",
              "    40% {\n",
              "      border-color: transparent;\n",
              "      border-right-color: var(--fill-color);\n",
              "      border-top-color: var(--fill-color);\n",
              "    }\n",
              "    60% {\n",
              "      border-color: transparent;\n",
              "      border-right-color: var(--fill-color);\n",
              "    }\n",
              "    80% {\n",
              "      border-color: transparent;\n",
              "      border-right-color: var(--fill-color);\n",
              "      border-bottom-color: var(--fill-color);\n",
              "    }\n",
              "    90% {\n",
              "      border-color: transparent;\n",
              "      border-bottom-color: var(--fill-color);\n",
              "    }\n",
              "  }\n",
              "</style>\n",
              "\n",
              "  <script>\n",
              "    async function quickchart(key) {\n",
              "      const quickchartButtonEl =\n",
              "        document.querySelector('#' + key + ' button');\n",
              "      quickchartButtonEl.disabled = true;  // To prevent multiple clicks.\n",
              "      quickchartButtonEl.classList.add('colab-df-spinner');\n",
              "      try {\n",
              "        const charts = await google.colab.kernel.invokeFunction(\n",
              "            'suggestCharts', [key], {});\n",
              "      } catch (error) {\n",
              "        console.error('Error during call to suggestCharts:', error);\n",
              "      }\n",
              "      quickchartButtonEl.classList.remove('colab-df-spinner');\n",
              "      quickchartButtonEl.classList.add('colab-df-quickchart-complete');\n",
              "    }\n",
              "    (() => {\n",
              "      let quickchartButtonEl =\n",
              "        document.querySelector('#df-a8865178-a2f7-4e39-a8b9-e4a83f3d2fa2 button');\n",
              "      quickchartButtonEl.style.display =\n",
              "        google.colab.kernel.accessAllowed ? 'block' : 'none';\n",
              "    })();\n",
              "  </script>\n",
              "</div>\n",
              "    </div>\n",
              "  </div>\n"
            ],
            "application/vnd.google.colaboratory.intrinsic+json": {
              "type": "dataframe",
              "variable_name": "df"
            }
          },
          "metadata": {},
          "execution_count": 3
        }
      ],
      "source": [
        "df_train = pd.read_csv(\"/content/drive/MyDrive/code/UNSW_NB15_testing-set.csv\")\n",
        "df_test = pd.read_csv(\"/content/drive/MyDrive/code/UNSW_NB15_training-set.csv\")\n",
        "df = pd.concat([df_train, df_test])\n",
        "# information about the dataset\n",
        "pd.set_option('display.max_columns', None)\n",
        "df"
      ]
    },
    {
      "cell_type": "markdown",
      "id": "de3e4a50",
      "metadata": {
        "papermill": {
          "duration": 0.019629,
          "end_time": "2024-01-18T09:22:33.786423",
          "exception": false,
          "start_time": "2024-01-18T09:22:33.766794",
          "status": "completed"
        },
        "tags": [],
        "id": "de3e4a50"
      },
      "source": [
        "**Get all Data with \"Backdoor Attack\"\n",
        "and get 2329 Normal data as the same number as the Backdoor Attack**"
      ]
    },
    {
      "cell_type": "code",
      "execution_count": null,
      "id": "50c85923",
      "metadata": {
        "execution": {
          "iopub.execute_input": "2024-01-18T09:22:33.828544Z",
          "iopub.status.busy": "2024-01-18T09:22:33.828104Z",
          "iopub.status.idle": "2024-01-18T09:22:33.960168Z",
          "shell.execute_reply": "2024-01-18T09:22:33.959042Z"
        },
        "papermill": {
          "duration": 0.156964,
          "end_time": "2024-01-18T09:22:33.962850",
          "exception": false,
          "start_time": "2024-01-18T09:22:33.805886",
          "status": "completed"
        },
        "tags": [],
        "colab": {
          "base_uri": "https://localhost:8080/"
        },
        "id": "50c85923",
        "outputId": "d208a45e-4827-4013-b8ce-de35274bc491"
      },
      "outputs": [
        {
          "output_type": "execute_result",
          "data": {
            "text/plain": [
              "array(['INT', 'FIN', 'CON', 'REQ', 'RST'], dtype=object)"
            ]
          },
          "metadata": {},
          "execution_count": 4
        }
      ],
      "source": [
        "# Filter the DataFrame to include only \"Backdoor\" and \"Normal\" rows\n",
        "backdoor_data = df[df['attack_cat'] == 'Backdoor']\n",
        "normal_data = df[df['attack_cat'] == 'Normal']\n",
        "\n",
        "# Randomly sample 2329 rows from the \"Normal\" category\n",
        "sampled_normal_data = normal_data.sample(n=2329, random_state=42)  # You can adjust the random_state if needed\n",
        "\n",
        "# Combine the \"Backdoor\" and sampled \"Normal\" data\n",
        "balanced_data = pd.concat([backdoor_data, sampled_normal_data])\n",
        "\n",
        "# Shuffle the balanced data\n",
        "balanced_data_shuffled = balanced_data.sample(frac=1, random_state=42)  # Shuffle with random_state for reproducibility\n",
        "unique_sttl_values = balanced_data_shuffled['state'].unique()\n",
        "unique_sttl_values"
      ]
    },
    {
      "cell_type": "markdown",
      "id": "0c898556",
      "metadata": {
        "papermill": {
          "duration": 0.01965,
          "end_time": "2024-01-18T09:22:34.002374",
          "exception": false,
          "start_time": "2024-01-18T09:22:33.982724",
          "status": "completed"
        },
        "tags": [],
        "id": "0c898556"
      },
      "source": [
        "**Check Any missing Value**"
      ]
    },
    {
      "cell_type": "code",
      "execution_count": null,
      "id": "370d3eda",
      "metadata": {
        "execution": {
          "iopub.execute_input": "2024-01-18T09:22:34.044212Z",
          "iopub.status.busy": "2024-01-18T09:22:34.043734Z",
          "iopub.status.idle": "2024-01-18T09:22:34.057887Z",
          "shell.execute_reply": "2024-01-18T09:22:34.056499Z"
        },
        "papermill": {
          "duration": 0.037905,
          "end_time": "2024-01-18T09:22:34.060561",
          "exception": false,
          "start_time": "2024-01-18T09:22:34.022656",
          "status": "completed"
        },
        "tags": [],
        "colab": {
          "base_uri": "https://localhost:8080/"
        },
        "id": "370d3eda",
        "outputId": "7c0715ef-1f34-47ed-a6d6-a7074554d3a7"
      },
      "outputs": [
        {
          "output_type": "stream",
          "name": "stdout",
          "text": [
            "Missing values in the dataset:\n",
            "id                   0\n",
            "dur                  0\n",
            "proto                0\n",
            "service              0\n",
            "state                0\n",
            "spkts                0\n",
            "dpkts                0\n",
            "sbytes               0\n",
            "dbytes               0\n",
            "rate                 0\n",
            "sttl                 0\n",
            "dttl                 0\n",
            "sload                0\n",
            "dload                0\n",
            "sloss                0\n",
            "dloss                0\n",
            "sinpkt               0\n",
            "dinpkt               0\n",
            "sjit                 0\n",
            "djit                 0\n",
            "swin                 0\n",
            "stcpb                0\n",
            "dtcpb                0\n",
            "dwin                 0\n",
            "tcprtt               0\n",
            "synack               0\n",
            "ackdat               0\n",
            "smean                0\n",
            "dmean                0\n",
            "trans_depth          0\n",
            "response_body_len    0\n",
            "ct_srv_src           0\n",
            "ct_state_ttl         0\n",
            "ct_dst_ltm           0\n",
            "ct_src_dport_ltm     0\n",
            "ct_dst_sport_ltm     0\n",
            "ct_dst_src_ltm       0\n",
            "is_ftp_login         0\n",
            "ct_ftp_cmd           0\n",
            "ct_flw_http_mthd     0\n",
            "ct_src_ltm           0\n",
            "ct_srv_dst           0\n",
            "is_sm_ips_ports      0\n",
            "attack_cat           0\n",
            "label                0\n",
            "dtype: int64\n"
          ]
        }
      ],
      "source": [
        "# Check for missing values in the dataset\n",
        "missing_values = balanced_data_shuffled.isnull().sum()\n",
        "print(\"Missing values in the dataset:\")\n",
        "print(missing_values)\n"
      ]
    },
    {
      "cell_type": "code",
      "execution_count": null,
      "id": "955f8085",
      "metadata": {
        "execution": {
          "iopub.execute_input": "2024-01-18T09:22:34.101971Z",
          "iopub.status.busy": "2024-01-18T09:22:34.101563Z",
          "iopub.status.idle": "2024-01-18T09:22:34.433740Z",
          "shell.execute_reply": "2024-01-18T09:22:34.431504Z"
        },
        "papermill": {
          "duration": 0.356642,
          "end_time": "2024-01-18T09:22:34.437231",
          "exception": false,
          "start_time": "2024-01-18T09:22:34.080589",
          "status": "completed"
        },
        "tags": [],
        "colab": {
          "base_uri": "https://localhost:8080/",
          "height": 718
        },
        "id": "955f8085",
        "outputId": "075c44de-eb0b-44ba-f234-c9d735a2b94d"
      },
      "outputs": [
        {
          "output_type": "display_data",
          "data": {
            "text/plain": [
              "<Figure size 1200x800 with 1 Axes>"
            ],
            "image/png": "[encoded data removed]"
          },
          "metadata": {}
        }
      ],
      "source": [
        "target_variable = balanced_data_shuffled['label']\n",
        "plt.figure(figsize=(12, 8))\n",
        "sns.boxplot(x=target_variable, y=balanced_data_shuffled['sttl'], data=balanced_data_shuffled)\n",
        "plt.title('Box Plot for sttl')\n",
        "plt.show()\n"
      ]
    },
    {
      "cell_type": "code",
      "execution_count": null,
      "id": "dae323aa",
      "metadata": {
        "execution": {
          "iopub.execute_input": "2024-01-18T09:22:34.481792Z",
          "iopub.status.busy": "2024-01-18T09:22:34.480449Z",
          "iopub.status.idle": "2024-01-18T09:22:34.974268Z",
          "shell.execute_reply": "2024-01-18T09:22:34.973178Z"
        },
        "papermill": {
          "duration": 0.518349,
          "end_time": "2024-01-18T09:22:34.976778",
          "exception": false,
          "start_time": "2024-01-18T09:22:34.458429",
          "status": "completed"
        },
        "tags": [],
        "colab": {
          "base_uri": "https://localhost:8080/",
          "height": 487
        },
        "id": "dae323aa",
        "outputId": "cd4a9f1d-489d-47b1-dcf1-1a554fc6c879"
      },
      "outputs": [
        {
          "output_type": "display_data",
          "data": {
            "text/plain": [
              "<Figure size 640x480 with 1 Axes>"
            ],
            "image/png": "[encoded data removed]"
          },
          "metadata": {}
        }
      ],
      "source": [
        "\n",
        "plt.hist(backdoor_data['sttl'], bins=20, color='red', alpha=0.7, label='Backdoor', edgecolor='black')\n",
        "plt.hist(normal_data['sttl'], bins=20, color='blue', alpha=0.5, label='Normal', edgecolor='black')\n",
        "plt.title('Histogram of sttl')\n",
        "plt.xlabel('Total TTL')\n",
        "plt.ylabel('Frequency')\n",
        "plt.legend()\n",
        "\n",
        "plt.tight_layout()\n",
        "plt.show()"
      ]
    },
    {
      "cell_type": "code",
      "execution_count": null,
      "id": "0c1b5a25",
      "metadata": {
        "execution": {
          "iopub.execute_input": "2024-01-18T09:22:35.019127Z",
          "iopub.status.busy": "2024-01-18T09:22:35.017989Z",
          "iopub.status.idle": "2024-01-18T09:22:35.512382Z",
          "shell.execute_reply": "2024-01-18T09:22:35.511457Z"
        },
        "papermill": {
          "duration": 0.517949,
          "end_time": "2024-01-18T09:22:35.514690",
          "exception": false,
          "start_time": "2024-01-18T09:22:34.996741",
          "status": "completed"
        },
        "tags": [],
        "colab": {
          "base_uri": "https://localhost:8080/",
          "height": 487
        },
        "id": "0c1b5a25",
        "outputId": "6041a4e2-42fb-4e3e-c6d2-2ee6fb9582c9"
      },
      "outputs": [
        {
          "output_type": "display_data",
          "data": {
            "text/plain": [
              "<Figure size 640x480 with 1 Axes>"
            ],
            "image/png": "[encoded data removed]"
          },
          "metadata": {}
        }
      ],
      "source": [
        "plt.hist(backdoor_data['dttl'], bins=20, color='red', alpha=0.7, label='Backdoor', edgecolor='black')\n",
        "plt.hist(normal_data['dttl'], bins=20, color='blue', alpha=0.5, label='Normal', edgecolor='black')\n",
        "plt.title('Histogram of dttl')\n",
        "plt.xlabel('Total TTL')\n",
        "plt.ylabel('Frequency')\n",
        "plt.legend()\n",
        "\n",
        "plt.tight_layout()\n",
        "plt.show()"
      ]
    },
    {
      "cell_type": "code",
      "execution_count": null,
      "id": "23d49dbd",
      "metadata": {
        "execution": {
          "iopub.execute_input": "2024-01-18T09:22:35.560225Z",
          "iopub.status.busy": "2024-01-18T09:22:35.559087Z",
          "iopub.status.idle": "2024-01-18T09:22:36.002355Z",
          "shell.execute_reply": "2024-01-18T09:22:36.001195Z"
        },
        "papermill": {
          "duration": 0.46906,
          "end_time": "2024-01-18T09:22:36.005526",
          "exception": false,
          "start_time": "2024-01-18T09:22:35.536466",
          "status": "completed"
        },
        "tags": [],
        "colab": {
          "base_uri": "https://localhost:8080/",
          "height": 564
        },
        "id": "23d49dbd",
        "outputId": "25497398-790e-44ce-dcef-89ca7e80f973"
      },
      "outputs": [
        {
          "output_type": "display_data",
          "data": {
            "text/plain": [
              "<Figure size 1000x600 with 1 Axes>"
            ],
            "image/png": "[encoded data removed]"
          },
          "metadata": {}
        }
      ],
      "source": [
        "normal_data = balanced_data_shuffled[balanced_data_shuffled['label'] == 0]\n",
        "backdoor_data = balanced_data_shuffled[balanced_data_shuffled['label'] == 1]\n",
        "# Scatter plot for Duration vs Packet Count\n",
        "plt.figure(figsize=(10, 6))\n",
        "\n",
        "# Backdoor traffic\n",
        "plt.scatter(backdoor_data['dur'], backdoor_data['sbytes'], color='red', label='Backdoor', alpha=0.7)\n",
        "\n",
        "# Normal traffic\n",
        "plt.scatter(normal_data['dur'], normal_data['sbytes'], color='blue', label='Normal', alpha=0.5)\n",
        "\n",
        "plt.title('Scatter Plot - Duration vs sbytes')\n",
        "plt.xlabel('Duration')\n",
        "plt.ylabel('Packet Count')\n",
        "plt.legend()\n",
        "plt.grid(True)\n",
        "plt.show()"
      ]
    },
    {
      "cell_type": "code",
      "execution_count": null,
      "id": "0a066934",
      "metadata": {
        "execution": {
          "iopub.execute_input": "2024-01-18T09:22:36.143196Z",
          "iopub.status.busy": "2024-01-18T09:22:36.142808Z",
          "iopub.status.idle": "2024-01-18T09:22:37.712026Z",
          "shell.execute_reply": "2024-01-18T09:22:37.710670Z"
        },
        "papermill": {
          "duration": 1.59739,
          "end_time": "2024-01-18T09:22:37.715872",
          "exception": false,
          "start_time": "2024-01-18T09:22:36.118482",
          "status": "completed"
        },
        "tags": [],
        "colab": {
          "base_uri": "https://localhost:8080/",
          "height": 654
        },
        "id": "0a066934",
        "outputId": "886acbe4-02e6-4aaa-87f1-11e2d2c0e55a"
      },
      "outputs": [
        {
          "output_type": "stream",
          "name": "stdout",
          "text": [
            "['unas' 'nvp' 'ddx' 'pup' 'tcp' 'irtp' 'idpr' 'bna' 'ospf' 'sctp' 'snp'\n",
            " 'vmtp' 'cpnx' 'a/n' 'any' 'zero' 'ip' 'leaf-1' 'kryptolan' 'compaq-peer'\n",
            " 'ipcv' 'aes-sp3-d' 'pim' 'i-nlsp' 'ippc' 'mtp' 'sat-mon' 'hmp' 'xnet'\n",
            " 'qnx' 'udp' 'ipx-n-ip' 'gre' 'wsn' 'uti' 'pipe' 'narp' 'argus' 'ipv6-no'\n",
            " 'ib' 'xtp' 'emcon' 'vrrp' 'igp' 'tp++' 'iso-ip' 'cphb' 'ipnip' 'encap'\n",
            " 'etherip' 'ipv6-route' 'l2tp' 'crudp' 'trunk-1' 'rvd' 'sat-expak'\n",
            " 'mobile' 'prm' 'eigrp' 'rsvp' 'pgm' 'merit-inp' 'sdrp' 'sep' 'ipv6'\n",
            " 'ax.25' 'smp' 'sun-nd' 'iplt' 'netblt' 'fire' 'isis' 'wb-expak' 'srp'\n",
            " 'idrp' 'rdp' 'trunk-2' 'ipip' 'skip' 'sprite-rpc' 'bbn-rcc' 'ipv6-opts'\n",
            " 'visa' 'dgp' 'mhrp' 'leaf-2' 'iatp' 'br-sat-mon' 'iso-tp4' 'cftp' 'ddp'\n",
            " 'pnni' 'nsfnet-igp' 'sps' 'chaos' 'sccopmce' 'secure-vmtp' 'ggp' 'scps'\n",
            " 'dcn' 'tcf' 'tlsp' 'wb-mon' 'crtp' '3pc' 'stp' 'swipe' 'cbt' 'sm' 'pvp'\n",
            " 'ttp' 'egp' 'ipcomp' 'ptp' 'larp' 'ipv6-frag' 'idpr-cmtp' 'st2' 'vines'\n",
            " 'fc' 'aris' 'mux' 'pri-enc' 'gmtp' 'micp' 'ifmp' 'mfe-nsp' 'xns-idp' 'il']\n"
          ]
        },
        {
          "output_type": "display_data",
          "data": {
            "text/plain": [
              "<Figure size 1000x500 with 2 Axes>"
            ],
            "image/png": "[encoded data removed]"
          },
          "metadata": {}
        }
      ],
      "source": [
        "normal_data = balanced_data_shuffled[balanced_data_shuffled['label'] == 0]['proto'].value_counts()\n",
        "print ( balanced_data_shuffled[balanced_data_shuffled['label'] == 1]['proto'].unique())\n",
        "backdoor_data = balanced_data_shuffled[balanced_data_shuffled['label'] == 1]['proto'].value_counts()\n",
        "\n",
        "# Calculate percentages\n",
        "total_normal = normal_data.sum()\n",
        "normal_percentages = [(count / total_normal) * 100 for count in normal_data]\n",
        "\n",
        "total_backdoor = backdoor_data.sum()\n",
        "backdoor_percentages = [(count / total_backdoor) * 100 for count in backdoor_data]\n",
        "\n",
        "# Create Pie Charts\n",
        "fig, axes = plt.subplots(nrows=1, ncols=2, figsize=(10, 5))\n",
        "\n",
        "# Pie chart for Normal Traffic\n",
        "axes[0].pie(normal_percentages, labels=normal_data.index, autopct='%1.1f%%', startangle=90)\n",
        "axes[0].set_title('Normal Traffic Distribution')\n",
        "\n",
        "# Pie chart for Backdoor Traffic\n",
        "axes[1].pie(backdoor_percentages, labels=backdoor_data.index, autopct='%1.1f%%', startangle=90)\n",
        "axes[1].set_title('Backdoor Traffic Distribution')\n",
        "\n",
        "plt.show()\n"
      ]
    },
    {
      "cell_type": "code",
      "execution_count": null,
      "id": "74482124",
      "metadata": {
        "execution": {
          "iopub.execute_input": "2024-01-18T09:22:37.766833Z",
          "iopub.status.busy": "2024-01-18T09:22:37.766295Z",
          "iopub.status.idle": "2024-01-18T09:22:38.175872Z",
          "shell.execute_reply": "2024-01-18T09:22:38.174661Z"
        },
        "papermill": {
          "duration": 0.438105,
          "end_time": "2024-01-18T09:22:38.178610",
          "exception": false,
          "start_time": "2024-01-18T09:22:37.740505",
          "status": "completed"
        },
        "tags": [],
        "colab": {
          "base_uri": "https://localhost:8080/",
          "height": 718
        },
        "id": "74482124",
        "outputId": "d8e260ff-fb74-493d-cff8-8c95ee22c65f"
      },
      "outputs": [
        {
          "output_type": "display_data",
          "data": {
            "text/plain": [
              "<Figure size 1200x800 with 1 Axes>"
            ],
            "image/png": "[encoded data removed]"
          },
          "metadata": {}
        }
      ],
      "source": [
        "target_variable = balanced_data_shuffled['label']\n",
        "plt.figure(figsize=(12, 8))\n",
        "sns.violinplot(x=target_variable, y=balanced_data_shuffled['sttl'], data=balanced_data_shuffled)\n",
        "plt.title('Box Plot for sttl')\n",
        "plt.show()\n"
      ]
    },
    {
      "cell_type": "code",
      "execution_count": null,
      "id": "87d4bea1",
      "metadata": {
        "execution": {
          "iopub.execute_input": "2024-01-18T09:22:38.231147Z",
          "iopub.status.busy": "2024-01-18T09:22:38.230721Z",
          "iopub.status.idle": "2024-01-18T09:22:38.239952Z",
          "shell.execute_reply": "2024-01-18T09:22:38.238533Z"
        },
        "papermill": {
          "duration": 0.040344,
          "end_time": "2024-01-18T09:22:38.244019",
          "exception": false,
          "start_time": "2024-01-18T09:22:38.203675",
          "status": "completed"
        },
        "tags": [],
        "colab": {
          "base_uri": "https://localhost:8080/"
        },
        "id": "87d4bea1",
        "outputId": "f108dfd4-682c-4eb2-a732-9088153f46de"
      },
      "outputs": [
        {
          "output_type": "execute_result",
          "data": {
            "text/plain": [
              "array([0.      , 0.000129, 0.000161, ..., 0.06085 , 0.054865, 0.125041])"
            ]
          },
          "metadata": {},
          "execution_count": 12
        }
      ],
      "source": [
        "unique_sttl_values = balanced_data_shuffled['ackdat'].unique()\n",
        "unique_sttl_values"
      ]
    },
    {
      "cell_type": "code",
      "execution_count": null,
      "id": "1ea1354a",
      "metadata": {
        "execution": {
          "iopub.execute_input": "2024-01-18T09:22:38.298153Z",
          "iopub.status.busy": "2024-01-18T09:22:38.297717Z",
          "iopub.status.idle": "2024-01-18T09:22:38.604725Z",
          "shell.execute_reply": "2024-01-18T09:22:38.603402Z"
        },
        "papermill": {
          "duration": 0.337439,
          "end_time": "2024-01-18T09:22:38.607322",
          "exception": false,
          "start_time": "2024-01-18T09:22:38.269883",
          "status": "completed"
        },
        "tags": [],
        "colab": {
          "base_uri": "https://localhost:8080/",
          "height": 718
        },
        "id": "1ea1354a",
        "outputId": "19d5c8ec-19d8-41c1-eb73-c76ae7edc7d1"
      },
      "outputs": [
        {
          "output_type": "display_data",
          "data": {
            "text/plain": [
              "<Figure size 1200x800 with 1 Axes>"
            ],
            "image/png": "[encoded data removed]"
          },
          "metadata": {}
        }
      ],
      "source": [
        "target_variable = balanced_data_shuffled['label']\n",
        "plt.figure(figsize=(12, 8))\n",
        "sns.boxplot(x=target_variable, y=balanced_data_shuffled['ct_state_ttl'], data=balanced_data_shuffled)\n",
        "plt.title('Box Plot for ct_state_ttl')\n",
        "plt.show()\n"
      ]
    },
    {
      "cell_type": "code",
      "execution_count": null,
      "id": "fc869523",
      "metadata": {
        "execution": {
          "iopub.execute_input": "2024-01-18T09:22:38.662001Z",
          "iopub.status.busy": "2024-01-18T09:22:38.661514Z",
          "iopub.status.idle": "2024-01-18T09:22:38.671459Z",
          "shell.execute_reply": "2024-01-18T09:22:38.669925Z"
        },
        "papermill": {
          "duration": 0.040538,
          "end_time": "2024-01-18T09:22:38.674010",
          "exception": false,
          "start_time": "2024-01-18T09:22:38.633472",
          "status": "completed"
        },
        "tags": [],
        "colab": {
          "base_uri": "https://localhost:8080/"
        },
        "id": "fc869523",
        "outputId": "9a421932-1fb2-4f3f-a591-54d697422f88"
      },
      "outputs": [
        {
          "output_type": "execute_result",
          "data": {
            "text/plain": [
              "array(['INT', 'FIN', 'CON', 'REQ', 'RST'], dtype=object)"
            ]
          },
          "metadata": {},
          "execution_count": 14
        }
      ],
      "source": [
        "unique_sttl_values = balanced_data_shuffled['state'].unique()\n",
        "unique_sttl_values"
      ]
    },
    {
      "cell_type": "code",
      "execution_count": null,
      "id": "8d4f2e8f",
      "metadata": {
        "execution": {
          "iopub.execute_input": "2024-01-18T09:22:38.730613Z",
          "iopub.status.busy": "2024-01-18T09:22:38.729881Z",
          "iopub.status.idle": "2024-01-18T09:22:38.736691Z",
          "shell.execute_reply": "2024-01-18T09:22:38.735609Z"
        },
        "papermill": {
          "duration": 0.038384,
          "end_time": "2024-01-18T09:22:38.739109",
          "exception": false,
          "start_time": "2024-01-18T09:22:38.700725",
          "status": "completed"
        },
        "tags": [],
        "colab": {
          "base_uri": "https://localhost:8080/"
        },
        "id": "8d4f2e8f",
        "outputId": "96207bba-7eef-454a-d77f-33bd75a70fbc"
      },
      "outputs": [
        {
          "output_type": "execute_result",
          "data": {
            "text/plain": [
              "Index(['id', 'dur', 'proto', 'service', 'state', 'spkts', 'dpkts', 'sbytes',\n",
              "       'dbytes', 'rate', 'sttl', 'dttl', 'sload', 'dload', 'sloss', 'dloss',\n",
              "       'sinpkt', 'dinpkt', 'sjit', 'djit', 'swin', 'stcpb', 'dtcpb', 'dwin',\n",
              "       'tcprtt', 'synack', 'ackdat', 'smean', 'dmean', 'trans_depth',\n",
              "       'response_body_len', 'ct_srv_src', 'ct_state_ttl', 'ct_dst_ltm',\n",
              "       'ct_src_dport_ltm', 'ct_dst_sport_ltm', 'ct_dst_src_ltm',\n",
              "       'is_ftp_login', 'ct_ftp_cmd', 'ct_flw_http_mthd', 'ct_src_ltm',\n",
              "       'ct_srv_dst', 'is_sm_ips_ports', 'attack_cat', 'label'],\n",
              "      dtype='object')"
            ]
          },
          "metadata": {},
          "execution_count": 15
        }
      ],
      "source": [
        "df.columns"
      ]
    },
    {
      "cell_type": "code",
      "execution_count": null,
      "id": "959923fd",
      "metadata": {
        "execution": {
          "iopub.execute_input": "2024-01-18T09:22:38.794851Z",
          "iopub.status.busy": "2024-01-18T09:22:38.794138Z",
          "iopub.status.idle": "2024-01-18T09:22:40.812094Z",
          "shell.execute_reply": "2024-01-18T09:22:40.810589Z"
        },
        "papermill": {
          "duration": 2.053193,
          "end_time": "2024-01-18T09:22:40.819171",
          "exception": false,
          "start_time": "2024-01-18T09:22:38.765978",
          "status": "completed"
        },
        "tags": [],
        "colab": {
          "base_uri": "https://localhost:8080/"
        },
        "id": "959923fd",
        "outputId": "bb26a85a-488f-4edf-812c-30d556f687b2"
      },
      "outputs": [
        {
          "output_type": "stream",
          "name": "stdout",
          "text": [
            "                            OLS Regression Results                            \n",
            "==============================================================================\n",
            "Dep. Variable:           ct_state_ttl   R-squared:                       0.471\n",
            "Model:                            OLS   Adj. R-squared:                  0.471\n",
            "Method:                 Least Squares   F-statistic:                     2074.\n",
            "Date:                Thu, 16 May 2024   Prob (F-statistic):               0.00\n",
            "Time:                        13:13:39   Log-Likelihood:                -5835.8\n",
            "No. Observations:                4658   AIC:                         1.168e+04\n",
            "Df Residuals:                    4655   BIC:                         1.170e+04\n",
            "Df Model:                           2                                         \n",
            "Covariance Type:            nonrobust                                         \n",
            "==============================================================================\n",
            "                 coef    std err          t      P>|t|      [0.025      0.975]\n",
            "------------------------------------------------------------------------------\n",
            "const          0.2183      0.024      9.100      0.000       0.171       0.265\n",
            "sttl           0.0072      0.000     62.339      0.000       0.007       0.007\n",
            "dttl          -0.0027      0.000    -20.695      0.000      -0.003      -0.002\n",
            "==============================================================================\n",
            "Omnibus:                     3089.305   Durbin-Watson:                   2.030\n",
            "Prob(Omnibus):                  0.000   Jarque-Bera (JB):            32898.264\n",
            "Skew:                           3.149   Prob(JB):                         0.00\n",
            "Kurtosis:                      14.395   Cond. No.                         406.\n",
            "==============================================================================\n",
            "\n",
            "Notes:\n",
            "[1] Standard Errors assume that the covariance matrix of the errors is correctly specified.\n"
          ]
        },
        {
          "output_type": "stream",
          "name": "stderr",
          "text": [
            "<ipython-input-16-0718612f28ea>:14: SettingWithCopyWarning: \n",
            "A value is trying to be set on a copy of a slice from a DataFrame.\n",
            "Try using .loc[row_indexer,col_indexer] = value instead\n",
            "\n",
            "See the caveats in the documentation: https://pandas.pydata.org/pandas-docs/stable/user_guide/indexing.html#returning-a-view-versus-a-copy\n",
            "  selected_df['state'] = pd.to_numeric(selected_df['state'], errors='coerce')\n"
          ]
        }
      ],
      "source": [
        "import pandas as pd\n",
        "import statsmodels.api as sm\n",
        "\n",
        "# Assuming your DataFrame is named 'df'\n",
        "# Replace 'YourColumnName' with the actual column names in your DataFrame\n",
        "\n",
        "# Select the columns of interest\n",
        "selected_columns = ['state', 'sttl', 'dttl', 'ct_state_ttl']\n",
        "\n",
        "# Create a new DataFrame with only the selected columns\n",
        "selected_df = balanced_data_shuffled[selected_columns]\n",
        "\n",
        "# Convert 'state' column to numeric\n",
        "selected_df['state'] = pd.to_numeric(selected_df['state'], errors='coerce')\n",
        "\n",
        "# Encode categorical variable 'state' into numerical values\n",
        "selected_df = pd.get_dummies(selected_df, columns=['state'], prefix='state', drop_first=True)\n",
        "\n",
        "# Convert all columns to numeric, handle any non-numeric values\n",
        "selected_df = selected_df.apply(pd.to_numeric, errors='coerce')\n",
        "\n",
        "# Drop rows with missing values\n",
        "selected_df = selected_df.dropna()\n",
        "\n",
        "# Add a constant term for the intercept\n",
        "selected_df = sm.add_constant(selected_df)\n",
        "\n",
        "# Separate independent variables (X) and dependent variable (y)\n",
        "X = selected_df.drop('ct_state_ttl', axis=1)  # Exclude the dependent variable\n",
        "y = selected_df['ct_state_ttl']\n",
        "\n",
        "# Fit the linear regression model\n",
        "model = sm.OLS(y, X).fit()\n",
        "\n",
        "# Print the model summary\n",
        "print(model.summary())\n"
      ]
    },
    {
      "cell_type": "markdown",
      "id": "4928a072",
      "metadata": {
        "papermill": {
          "duration": 0.045039,
          "end_time": "2024-01-18T09:22:40.922455",
          "exception": false,
          "start_time": "2024-01-18T09:22:40.877416",
          "status": "completed"
        },
        "tags": [],
        "id": "4928a072"
      },
      "source": [
        "**Drop unecessary Features**"
      ]
    },
    {
      "cell_type": "code",
      "execution_count": null,
      "id": "f6d08228",
      "metadata": {
        "execution": {
          "iopub.execute_input": "2024-01-18T09:22:40.979483Z",
          "iopub.status.busy": "2024-01-18T09:22:40.979074Z",
          "iopub.status.idle": "2024-01-18T09:22:41.006838Z",
          "shell.execute_reply": "2024-01-18T09:22:41.005210Z"
        },
        "papermill": {
          "duration": 0.060153,
          "end_time": "2024-01-18T09:22:41.010287",
          "exception": false,
          "start_time": "2024-01-18T09:22:40.950134",
          "status": "completed"
        },
        "tags": [],
        "colab": {
          "base_uri": "https://localhost:8080/"
        },
        "id": "f6d08228",
        "outputId": "4a1de281-d74f-4645-dcab-7945019c92b9"
      },
      "outputs": [
        {
          "output_type": "stream",
          "name": "stdout",
          "text": [
            "<class 'pandas.core.frame.DataFrame'>\n",
            "Index: 4658 entries, 109826 to 90614\n",
            "Data columns (total 43 columns):\n",
            " #   Column             Non-Null Count  Dtype  \n",
            "---  ------             --------------  -----  \n",
            " 0   dur                4658 non-null   float64\n",
            " 1   proto              4658 non-null   object \n",
            " 2   service            4658 non-null   object \n",
            " 3   state              4658 non-null   object \n",
            " 4   spkts              4658 non-null   int64  \n",
            " 5   dpkts              4658 non-null   int64  \n",
            " 6   sbytes             4658 non-null   int64  \n",
            " 7   dbytes             4658 non-null   int64  \n",
            " 8   rate               4658 non-null   float64\n",
            " 9   sttl               4658 non-null   int64  \n",
            " 10  dttl               4658 non-null   int64  \n",
            " 11  sload              4658 non-null   float64\n",
            " 12  dload              4658 non-null   float64\n",
            " 13  sloss              4658 non-null   int64  \n",
            " 14  dloss              4658 non-null   int64  \n",
            " 15  sinpkt             4658 non-null   float64\n",
            " 16  dinpkt             4658 non-null   float64\n",
            " 17  sjit               4658 non-null   float64\n",
            " 18  djit               4658 non-null   float64\n",
            " 19  swin               4658 non-null   int64  \n",
            " 20  stcpb              4658 non-null   int64  \n",
            " 21  dtcpb              4658 non-null   int64  \n",
            " 22  dwin               4658 non-null   int64  \n",
            " 23  tcprtt             4658 non-null   float64\n",
            " 24  synack             4658 non-null   float64\n",
            " 25  ackdat             4658 non-null   float64\n",
            " 26  smean              4658 non-null   int64  \n",
            " 27  dmean              4658 non-null   int64  \n",
            " 28  trans_depth        4658 non-null   int64  \n",
            " 29  response_body_len  4658 non-null   int64  \n",
            " 30  ct_srv_src         4658 non-null   int64  \n",
            " 31  ct_state_ttl       4658 non-null   int64  \n",
            " 32  ct_dst_ltm         4658 non-null   int64  \n",
            " 33  ct_src_dport_ltm   4658 non-null   int64  \n",
            " 34  ct_dst_sport_ltm   4658 non-null   int64  \n",
            " 35  ct_dst_src_ltm     4658 non-null   int64  \n",
            " 36  is_ftp_login       4658 non-null   int64  \n",
            " 37  ct_ftp_cmd         4658 non-null   int64  \n",
            " 38  ct_flw_http_mthd   4658 non-null   int64  \n",
            " 39  ct_src_ltm         4658 non-null   int64  \n",
            " 40  ct_srv_dst         4658 non-null   int64  \n",
            " 41  is_sm_ips_ports    4658 non-null   int64  \n",
            " 42  label              4658 non-null   int64  \n",
            "dtypes: float64(11), int64(29), object(3)\n",
            "memory usage: 1.6+ MB\n"
          ]
        }
      ],
      "source": [
        "# # Drop features that don't belong to the \"Backdoor\" attack category\n",
        "# balanced_data_shuffled =  balanced_data_shuffled.drop(['swin', 'dwin', 'stcpb', 'dtcpb',\n",
        "#            'trans_depth', 'tcprtt', 'synack', 'ackdat', 'is_sm_ips_ports',\n",
        "#            'ct_flw_http_mthd', 'is_ftp_login', 'ct_ftp_cmd',\n",
        "#            'attack_cat','id'], axis=1)\n",
        "# balanced_data_shuffled.info()\n",
        "# Drop features that don't belong to the \"Backdoor\" attack category\n",
        "balanced_data_shuffled =  balanced_data_shuffled.drop(['attack_cat','id'], axis=1)\n",
        "balanced_data_shuffled.info()"
      ]
    },
    {
      "cell_type": "markdown",
      "id": "b56961ba",
      "metadata": {
        "papermill": {
          "duration": 0.02627,
          "end_time": "2024-01-18T09:22:41.062952",
          "exception": false,
          "start_time": "2024-01-18T09:22:41.036682",
          "status": "completed"
        },
        "tags": [],
        "id": "b56961ba"
      },
      "source": [
        "Shuffel"
      ]
    },
    {
      "cell_type": "code",
      "execution_count": null,
      "id": "707eccaf",
      "metadata": {
        "execution": {
          "iopub.execute_input": "2024-01-18T09:22:41.118183Z",
          "iopub.status.busy": "2024-01-18T09:22:41.117771Z",
          "iopub.status.idle": "2024-01-18T09:22:41.128879Z",
          "shell.execute_reply": "2024-01-18T09:22:41.127464Z"
        },
        "papermill": {
          "duration": 0.042087,
          "end_time": "2024-01-18T09:22:41.131142",
          "exception": false,
          "start_time": "2024-01-18T09:22:41.089055",
          "status": "completed"
        },
        "tags": [],
        "colab": {
          "base_uri": "https://localhost:8080/"
        },
        "id": "707eccaf",
        "outputId": "27fe945d-f60e-4ecf-c8b9-f0acbbdc3b08"
      },
      "outputs": [
        {
          "output_type": "stream",
          "name": "stdout",
          "text": [
            "['None' 'dns' 'ftp' 'smtp' 'http' 'ftp-data' 'irc' 'ssh']\n"
          ]
        }
      ],
      "source": [
        "balanced_data_shuffled['service'].unique() #Here, we'll deal with the type of service that is '-'\n",
        "balanced_data_shuffled['service']= np.where(balanced_data_shuffled['service'] == '-', 'None', balanced_data_shuffled['service'])\n",
        "print(balanced_data_shuffled['service'].unique())\n"
      ]
    },
    {
      "cell_type": "code",
      "execution_count": null,
      "id": "b4758f63",
      "metadata": {
        "execution": {
          "iopub.execute_input": "2024-01-18T09:22:41.187779Z",
          "iopub.status.busy": "2024-01-18T09:22:41.186697Z",
          "iopub.status.idle": "2024-01-18T09:22:41.195660Z",
          "shell.execute_reply": "2024-01-18T09:22:41.194578Z"
        },
        "papermill": {
          "duration": 0.039697,
          "end_time": "2024-01-18T09:22:41.197874",
          "exception": false,
          "start_time": "2024-01-18T09:22:41.158177",
          "status": "completed"
        },
        "tags": [],
        "colab": {
          "base_uri": "https://localhost:8080/"
        },
        "id": "b4758f63",
        "outputId": "1e3c1559-6cae-4c56-f239-52b51b0dc4b2"
      },
      "outputs": [
        {
          "output_type": "execute_result",
          "data": {
            "text/plain": [
              "array(['unas', 'tcp', 'nvp', 'udp', 'arp', 'ddx', 'pup', 'irtp', 'idpr',\n",
              "       'bna', 'ospf', 'sctp', 'snp', 'vmtp', 'cpnx', 'a/n', 'any', 'zero',\n",
              "       'ip', 'leaf-1', 'kryptolan', 'compaq-peer', 'ipcv', 'aes-sp3-d',\n",
              "       'pim', 'i-nlsp', 'ippc', 'mtp', 'sat-mon', 'hmp', 'xnet', 'qnx',\n",
              "       'ipx-n-ip', 'gre', 'wsn', 'uti', 'pipe', 'narp', 'argus',\n",
              "       'ipv6-no', 'ib', 'xtp', 'emcon', 'vrrp', 'igp', 'tp++', 'iso-ip',\n",
              "       'cphb', 'ipnip', 'encap', 'etherip', 'igmp', 'ipv6-route', 'l2tp',\n",
              "       'crudp', 'trunk-1', 'rvd', 'sat-expak', 'mobile', 'prm', 'eigrp',\n",
              "       'rsvp', 'pgm', 'merit-inp', 'sdrp', 'sep', 'ipv6', 'ax.25', 'smp',\n",
              "       'sun-nd', 'iplt', 'netblt', 'fire', 'isis', 'wb-expak', 'srp',\n",
              "       'idrp', 'rdp', 'trunk-2', 'ipip', 'skip', 'sprite-rpc', 'bbn-rcc',\n",
              "       'ipv6-opts', 'visa', 'dgp', 'mhrp', 'leaf-2', 'iatp', 'br-sat-mon',\n",
              "       'iso-tp4', 'cftp', 'ddp', 'pnni', 'nsfnet-igp', 'sps', 'chaos',\n",
              "       'sccopmce', 'secure-vmtp', 'ggp', 'scps', 'dcn', 'tcf', 'tlsp',\n",
              "       'wb-mon', 'crtp', '3pc', 'stp', 'swipe', 'cbt', 'sm', 'pvp', 'ttp',\n",
              "       'egp', 'ipcomp', 'ptp', 'larp', 'ipv6-frag', 'idpr-cmtp', 'st2',\n",
              "       'vines', 'fc', 'aris', 'mux', 'pri-enc', 'gmtp', 'micp', 'ifmp',\n",
              "       'mfe-nsp', 'xns-idp', 'il'], dtype=object)"
            ]
          },
          "metadata": {},
          "execution_count": 19
        }
      ],
      "source": [
        "balanced_data_shuffled['proto'].unique() #This is definitely a categorical feature."
      ]
    },
    {
      "cell_type": "code",
      "execution_count": null,
      "id": "170ba484",
      "metadata": {
        "execution": {
          "iopub.execute_input": "2024-01-18T09:22:41.255841Z",
          "iopub.status.busy": "2024-01-18T09:22:41.254515Z",
          "iopub.status.idle": "2024-01-18T09:22:41.262935Z",
          "shell.execute_reply": "2024-01-18T09:22:41.261835Z"
        },
        "papermill": {
          "duration": 0.040289,
          "end_time": "2024-01-18T09:22:41.265638",
          "exception": false,
          "start_time": "2024-01-18T09:22:41.225349",
          "status": "completed"
        },
        "tags": [],
        "colab": {
          "base_uri": "https://localhost:8080/"
        },
        "id": "170ba484",
        "outputId": "b7c79968-7fae-4738-be6a-70b09fe80f04"
      },
      "outputs": [
        {
          "output_type": "execute_result",
          "data": {
            "text/plain": [
              "array(['INT', 'FIN', 'CON', 'REQ', 'RST'], dtype=object)"
            ]
          },
          "metadata": {},
          "execution_count": 20
        }
      ],
      "source": [
        "balanced_data_shuffled['state'].unique() #Keep it."
      ]
    },
    {
      "cell_type": "code",
      "execution_count": null,
      "id": "cd5ab30c",
      "metadata": {
        "execution": {
          "iopub.execute_input": "2024-01-18T09:22:41.322076Z",
          "iopub.status.busy": "2024-01-18T09:22:41.321474Z",
          "iopub.status.idle": "2024-01-18T09:22:41.327026Z",
          "shell.execute_reply": "2024-01-18T09:22:41.326238Z"
        },
        "papermill": {
          "duration": 0.036678,
          "end_time": "2024-01-18T09:22:41.329662",
          "exception": false,
          "start_time": "2024-01-18T09:22:41.292984",
          "status": "completed"
        },
        "tags": [],
        "id": "cd5ab30c"
      },
      "outputs": [],
      "source": [
        "def Remove_dump_values(data, cols):\n",
        "    for col in cols:\n",
        "        data[col] = np.where(data[col] == '-', 'None', data[col])\n",
        "    return data"
      ]
    },
    {
      "cell_type": "code",
      "execution_count": null,
      "id": "c31646fa",
      "metadata": {
        "execution": {
          "iopub.execute_input": "2024-01-18T09:22:41.385136Z",
          "iopub.status.busy": "2024-01-18T09:22:41.384513Z",
          "iopub.status.idle": "2024-01-18T09:22:41.620841Z",
          "shell.execute_reply": "2024-01-18T09:22:41.619721Z"
        },
        "papermill": {
          "duration": 0.267665,
          "end_time": "2024-01-18T09:22:41.623961",
          "exception": false,
          "start_time": "2024-01-18T09:22:41.356296",
          "status": "completed"
        },
        "tags": [],
        "id": "c31646fa"
      },
      "outputs": [],
      "source": [
        "cols = balanced_data_shuffled.columns\n",
        "data_bin = Remove_dump_values(balanced_data_shuffled, cols)"
      ]
    },
    {
      "cell_type": "markdown",
      "id": "b4f66ce1",
      "metadata": {
        "papermill": {
          "duration": 0.027433,
          "end_time": "2024-01-18T09:22:41.680756",
          "exception": false,
          "start_time": "2024-01-18T09:22:41.653323",
          "status": "completed"
        },
        "tags": [],
        "id": "b4f66ce1"
      },
      "source": [
        " **I need OneHotEncoding Proto, Service, state**"
      ]
    },
    {
      "cell_type": "code",
      "execution_count": null,
      "id": "f74567eb",
      "metadata": {
        "execution": {
          "iopub.execute_input": "2024-01-18T09:22:41.739949Z",
          "iopub.status.busy": "2024-01-18T09:22:41.739542Z",
          "iopub.status.idle": "2024-01-18T09:22:41.930204Z",
          "shell.execute_reply": "2024-01-18T09:22:41.929072Z"
        },
        "papermill": {
          "duration": 0.22355,
          "end_time": "2024-01-18T09:22:41.933363",
          "exception": false,
          "start_time": "2024-01-18T09:22:41.709813",
          "status": "completed"
        },
        "tags": [],
        "id": "f74567eb"
      },
      "outputs": [],
      "source": [
        "df_cat = data_bin.select_dtypes(exclude=[np.number])\n",
        "from sklearn.preprocessing import LabelEncoder\n",
        "import joblib\n",
        "\n",
        "# Assuming df_cat is your DataFrame with categorical columns\n",
        "for feature in df_cat.columns:\n",
        "    le = LabelEncoder()\n",
        "    data_bin[feature] = le.fit_transform(data_bin[feature])\n",
        "\n",
        "    # Save the LabelEncoder\n",
        "    encoder_filename = f'{feature}_encoder.joblib'\n",
        "    joblib.dump(le, encoder_filename)\n",
        "\n",
        "# Now you can use encoder_filename to load the encoder later"
      ]
    },
    {
      "cell_type": "code",
      "execution_count": null,
      "id": "1aa77581",
      "metadata": {
        "execution": {
          "iopub.execute_input": "2024-01-18T09:22:41.991793Z",
          "iopub.status.busy": "2024-01-18T09:22:41.991365Z",
          "iopub.status.idle": "2024-01-18T09:22:42.020702Z",
          "shell.execute_reply": "2024-01-18T09:22:42.019500Z"
        },
        "papermill": {
          "duration": 0.062474,
          "end_time": "2024-01-18T09:22:42.023678",
          "exception": false,
          "start_time": "2024-01-18T09:22:41.961204",
          "status": "completed"
        },
        "tags": [],
        "colab": {
          "base_uri": "https://localhost:8080/",
          "height": 226
        },
        "id": "1aa77581",
        "outputId": "50e69491-d23e-40b4-c5ad-1470c3af7bdb"
      },
      "outputs": [
        {
          "output_type": "execute_result",
          "data": {
            "text/plain": [
              "         dur  proto  service  state  spkts  dpkts  sbytes  dbytes  rate  sttl  \\\n",
              "109826  2393    118        0      2     20      0     161       0  1015     2   \n",
              "5930     499    111        0      1     16     15     107     133   570     4   \n",
              "4293    2463    111        0      1     64     60     193      22   757     4   \n",
              "50552   2012     76        0      2     20      0     132       0  2466     2   \n",
              "27365    500    111        0      1     16     15     107     133   569     4   \n",
              "\n",
              "        dttl  sload  dload  sloss  dloss  sinpkt  dinpkt  sjit  djit  swin  \\\n",
              "109826     0    762      0      0      0       4       0     0     0     0   \n",
              "5930       2   2100   1876     24     37     560     542  1920   875     1   \n",
              "4293       2   1161    285     22     36     922    1746  1653  1355     1   \n",
              "50552      0   2169      0      0      0      11       0     0     0     0   \n",
              "27365      2   2098   1874     24     37     561     544  1919   890     1   \n",
              "\n",
              "        stcpb  dtcpb  dwin  tcprtt  synack  ackdat  smean  dmean  trans_depth  \\\n",
              "109826      0      0     0       0       0       0      0      0            0   \n",
              "5930     1262    217     1      33      17      26    245    212            0   \n",
              "4293     1365    339     1     288     228      58    154     28            0   \n",
              "50552       0      0     0       0       0       0    235      0            0   \n",
              "27365      33   1069     1      26      16      20    245    212            0   \n",
              "\n",
              "        response_body_len  ct_srv_src  ct_state_ttl  ct_dst_ltm  \\\n",
              "109826                  0          33             2          17   \n",
              "5930                    0           5             0          28   \n",
              "4293                    0          37             0          29   \n",
              "50552                   0          38             2          11   \n",
              "27365                   0          35             0          26   \n",
              "\n",
              "        ct_src_dport_ltm  ct_dst_sport_ltm  ct_dst_src_ltm  is_ftp_login  \\\n",
              "109826                11                 5              33             0   \n",
              "5930                  17                 0               1             0   \n",
              "4293                   8                 0              35             0   \n",
              "50552                  8                 3              11             0   \n",
              "27365                 17                 0              35             0   \n",
              "\n",
              "        ct_ftp_cmd  ct_flw_http_mthd  ct_src_ltm  ct_srv_dst  is_sm_ips_ports  \\\n",
              "109826           0                 0          20          32                0   \n",
              "5930             0                 0          32           3                0   \n",
              "4293             0                 0          20           3                0   \n",
              "50552            0                 0          11          34                0   \n",
              "27365            0                 0          32          35                0   \n",
              "\n",
              "        label  \n",
              "109826      1  \n",
              "5930        0  \n",
              "4293        0  \n",
              "50552       1  \n",
              "27365       0  "
            ],
            "text/html": [
              "\n",
              "  <div id=\"df-01cc2fe4-a4fb-496b-ae0b-b3143019401a\" class=\"colab-df-container\">\n",
              "    <div>\n",
              "<style scoped>\n",
              "    .dataframe tbody tr th:only-of-type {\n",
              "        vertical-align: middle;\n",
              "    }\n",
              "\n",
              "    .dataframe tbody tr th {\n",
              "        vertical-align: top;\n",
              "    }\n",
              "\n",
              "    .dataframe thead th {\n",
              "        text-align: right;\n",
              "    }\n",
              "</style>\n",
              "<table border=\"1\" class=\"dataframe\">\n",
              "  <thead>\n",
              "    <tr style=\"text-align: right;\">\n",
              "      <th></th>\n",
              "      <th>dur</th>\n",
              "      <th>proto</th>\n",
              "      <th>service</th>\n",
              "      <th>state</th>\n",
              "      <th>spkts</th>\n",
              "      <th>dpkts</th>\n",
              "      <th>sbytes</th>\n",
              "      <th>dbytes</th>\n",
              "      <th>rate</th>\n",
              "      <th>sttl</th>\n",
              "      <th>dttl</th>\n",
              "      <th>sload</th>\n",
              "      <th>dload</th>\n",
              "      <th>sloss</th>\n",
              "      <th>dloss</th>\n",
              "      <th>sinpkt</th>\n",
              "      <th>dinpkt</th>\n",
              "      <th>sjit</th>\n",
              "      <th>djit</th>\n",
              "      <th>swin</th>\n",
              "      <th>stcpb</th>\n",
              "      <th>dtcpb</th>\n",
              "      <th>dwin</th>\n",
              "      <th>tcprtt</th>\n",
              "      <th>synack</th>\n",
              "      <th>ackdat</th>\n",
              "      <th>smean</th>\n",
              "      <th>dmean</th>\n",
              "      <th>trans_depth</th>\n",
              "      <th>response_body_len</th>\n",
              "      <th>ct_srv_src</th>\n",
              "      <th>ct_state_ttl</th>\n",
              "      <th>ct_dst_ltm</th>\n",
              "      <th>ct_src_dport_ltm</th>\n",
              "      <th>ct_dst_sport_ltm</th>\n",
              "      <th>ct_dst_src_ltm</th>\n",
              "      <th>is_ftp_login</th>\n",
              "      <th>ct_ftp_cmd</th>\n",
              "      <th>ct_flw_http_mthd</th>\n",
              "      <th>ct_src_ltm</th>\n",
              "      <th>ct_srv_dst</th>\n",
              "      <th>is_sm_ips_ports</th>\n",
              "      <th>label</th>\n",
              "    </tr>\n",
              "  </thead>\n",
              "  <tbody>\n",
              "    <tr>\n",
              "      <th>109826</th>\n",
              "      <td>2393</td>\n",
              "      <td>118</td>\n",
              "      <td>0</td>\n",
              "      <td>2</td>\n",
              "      <td>20</td>\n",
              "      <td>0</td>\n",
              "      <td>161</td>\n",
              "      <td>0</td>\n",
              "      <td>1015</td>\n",
              "      <td>2</td>\n",
              "      <td>0</td>\n",
              "      <td>762</td>\n",
              "      <td>0</td>\n",
              "      <td>0</td>\n",
              "      <td>0</td>\n",
              "      <td>4</td>\n",
              "      <td>0</td>\n",
              "      <td>0</td>\n",
              "      <td>0</td>\n",
              "      <td>0</td>\n",
              "      <td>0</td>\n",
              "      <td>0</td>\n",
              "      <td>0</td>\n",
              "      <td>0</td>\n",
              "      <td>0</td>\n",
              "      <td>0</td>\n",
              "      <td>0</td>\n",
              "      <td>0</td>\n",
              "      <td>0</td>\n",
              "      <td>0</td>\n",
              "      <td>33</td>\n",
              "      <td>2</td>\n",
              "      <td>17</td>\n",
              "      <td>11</td>\n",
              "      <td>5</td>\n",
              "      <td>33</td>\n",
              "      <td>0</td>\n",
              "      <td>0</td>\n",
              "      <td>0</td>\n",
              "      <td>20</td>\n",
              "      <td>32</td>\n",
              "      <td>0</td>\n",
              "      <td>1</td>\n",
              "    </tr>\n",
              "    <tr>\n",
              "      <th>5930</th>\n",
              "      <td>499</td>\n",
              "      <td>111</td>\n",
              "      <td>0</td>\n",
              "      <td>1</td>\n",
              "      <td>16</td>\n",
              "      <td>15</td>\n",
              "      <td>107</td>\n",
              "      <td>133</td>\n",
              "      <td>570</td>\n",
              "      <td>4</td>\n",
              "      <td>2</td>\n",
              "      <td>2100</td>\n",
              "      <td>1876</td>\n",
              "      <td>24</td>\n",
              "      <td>37</td>\n",
              "      <td>560</td>\n",
              "      <td>542</td>\n",
              "      <td>1920</td>\n",
              "      <td>875</td>\n",
              "      <td>1</td>\n",
              "      <td>1262</td>\n",
              "      <td>217</td>\n",
              "      <td>1</td>\n",
              "      <td>33</td>\n",
              "      <td>17</td>\n",
              "      <td>26</td>\n",
              "      <td>245</td>\n",
              "      <td>212</td>\n",
              "      <td>0</td>\n",
              "      <td>0</td>\n",
              "      <td>5</td>\n",
              "      <td>0</td>\n",
              "      <td>28</td>\n",
              "      <td>17</td>\n",
              "      <td>0</td>\n",
              "      <td>1</td>\n",
              "      <td>0</td>\n",
              "      <td>0</td>\n",
              "      <td>0</td>\n",
              "      <td>32</td>\n",
              "      <td>3</td>\n",
              "      <td>0</td>\n",
              "      <td>0</td>\n",
              "    </tr>\n",
              "    <tr>\n",
              "      <th>4293</th>\n",
              "      <td>2463</td>\n",
              "      <td>111</td>\n",
              "      <td>0</td>\n",
              "      <td>1</td>\n",
              "      <td>64</td>\n",
              "      <td>60</td>\n",
              "      <td>193</td>\n",
              "      <td>22</td>\n",
              "      <td>757</td>\n",
              "      <td>4</td>\n",
              "      <td>2</td>\n",
              "      <td>1161</td>\n",
              "      <td>285</td>\n",
              "      <td>22</td>\n",
              "      <td>36</td>\n",
              "      <td>922</td>\n",
              "      <td>1746</td>\n",
              "      <td>1653</td>\n",
              "      <td>1355</td>\n",
              "      <td>1</td>\n",
              "      <td>1365</td>\n",
              "      <td>339</td>\n",
              "      <td>1</td>\n",
              "      <td>288</td>\n",
              "      <td>228</td>\n",
              "      <td>58</td>\n",
              "      <td>154</td>\n",
              "      <td>28</td>\n",
              "      <td>0</td>\n",
              "      <td>0</td>\n",
              "      <td>37</td>\n",
              "      <td>0</td>\n",
              "      <td>29</td>\n",
              "      <td>8</td>\n",
              "      <td>0</td>\n",
              "      <td>35</td>\n",
              "      <td>0</td>\n",
              "      <td>0</td>\n",
              "      <td>0</td>\n",
              "      <td>20</td>\n",
              "      <td>3</td>\n",
              "      <td>0</td>\n",
              "      <td>0</td>\n",
              "    </tr>\n",
              "    <tr>\n",
              "      <th>50552</th>\n",
              "      <td>2012</td>\n",
              "      <td>76</td>\n",
              "      <td>0</td>\n",
              "      <td>2</td>\n",
              "      <td>20</td>\n",
              "      <td>0</td>\n",
              "      <td>132</td>\n",
              "      <td>0</td>\n",
              "      <td>2466</td>\n",
              "      <td>2</td>\n",
              "      <td>0</td>\n",
              "      <td>2169</td>\n",
              "      <td>0</td>\n",
              "      <td>0</td>\n",
              "      <td>0</td>\n",
              "      <td>11</td>\n",
              "      <td>0</td>\n",
              "      <td>0</td>\n",
              "      <td>0</td>\n",
              "      <td>0</td>\n",
              "      <td>0</td>\n",
              "      <td>0</td>\n",
              "      <td>0</td>\n",
              "      <td>0</td>\n",
              "      <td>0</td>\n",
              "      <td>0</td>\n",
              "      <td>235</td>\n",
              "      <td>0</td>\n",
              "      <td>0</td>\n",
              "      <td>0</td>\n",
              "      <td>38</td>\n",
              "      <td>2</td>\n",
              "      <td>11</td>\n",
              "      <td>8</td>\n",
              "      <td>3</td>\n",
              "      <td>11</td>\n",
              "      <td>0</td>\n",
              "      <td>0</td>\n",
              "      <td>0</td>\n",
              "      <td>11</td>\n",
              "      <td>34</td>\n",
              "      <td>0</td>\n",
              "      <td>1</td>\n",
              "    </tr>\n",
              "    <tr>\n",
              "      <th>27365</th>\n",
              "      <td>500</td>\n",
              "      <td>111</td>\n",
              "      <td>0</td>\n",
              "      <td>1</td>\n",
              "      <td>16</td>\n",
              "      <td>15</td>\n",
              "      <td>107</td>\n",
              "      <td>133</td>\n",
              "      <td>569</td>\n",
              "      <td>4</td>\n",
              "      <td>2</td>\n",
              "      <td>2098</td>\n",
              "      <td>1874</td>\n",
              "      <td>24</td>\n",
              "      <td>37</td>\n",
              "      <td>561</td>\n",
              "      <td>544</td>\n",
              "      <td>1919</td>\n",
              "      <td>890</td>\n",
              "      <td>1</td>\n",
              "      <td>33</td>\n",
              "      <td>1069</td>\n",
              "      <td>1</td>\n",
              "      <td>26</td>\n",
              "      <td>16</td>\n",
              "      <td>20</td>\n",
              "      <td>245</td>\n",
              "      <td>212</td>\n",
              "      <td>0</td>\n",
              "      <td>0</td>\n",
              "      <td>35</td>\n",
              "      <td>0</td>\n",
              "      <td>26</td>\n",
              "      <td>17</td>\n",
              "      <td>0</td>\n",
              "      <td>35</td>\n",
              "      <td>0</td>\n",
              "      <td>0</td>\n",
              "      <td>0</td>\n",
              "      <td>32</td>\n",
              "      <td>35</td>\n",
              "      <td>0</td>\n",
              "      <td>0</td>\n",
              "    </tr>\n",
              "  </tbody>\n",
              "</table>\n",
              "</div>\n",
              "    <div class=\"colab-df-buttons\">\n",
              "\n",
              "  <div class=\"colab-df-container\">\n",
              "    <button class=\"colab-df-convert\" onclick=\"convertToInteractive('df-01cc2fe4-a4fb-496b-ae0b-b3143019401a')\"\n",
              "            title=\"Convert this dataframe to an interactive table.\"\n",
              "            style=\"display:none;\">\n",
              "\n",
              "  <svg xmlns=\"http://www.w3.org/2000/svg\" height=\"24px\" viewBox=\"0 -960 960 960\">\n",
              "    <path d=\"M120-120v-720h720v720H120Zm60-500h600v-160H180v160Zm220 220h160v-160H400v160Zm0 220h160v-160H400v160ZM180-400h160v-160H180v160Zm440 0h160v-160H620v160ZM180-180h160v-160H180v160Zm440 0h160v-160H620v160Z\"/>\n",
              "  </svg>\n",
              "    </button>\n",
              "\n",
              "  <style>\n",
              "    .colab-df-container {\n",
              "      display:flex;\n",
              "      gap: 12px;\n",
              "    }\n",
              "\n",
              "    .colab-df-convert {\n",
              "      background-color: #E8F0FE;\n",
              "      border: none;\n",
              "      border-radius: 50%;\n",
              "      cursor: pointer;\n",
              "      display: none;\n",
              "      fill: #1967D2;\n",
              "      height: 32px;\n",
              "      padding: 0 0 0 0;\n",
              "      width: 32px;\n",
              "    }\n",
              "\n",
              "    .colab-df-convert:hover {\n",
              "      background-color: #E2EBFA;\n",
              "      box-shadow: 0px 1px 2px rgba(60, 64, 67, 0.3), 0px 1px 3px 1px rgba(60, 64, 67, 0.15);\n",
              "      fill: #174EA6;\n",
              "    }\n",
              "\n",
              "    .colab-df-buttons div {\n",
              "      margin-bottom: 4px;\n",
              "    }\n",
              "\n",
              "    [theme=dark] .colab-df-convert {\n",
              "      background-color: #3B4455;\n",
              "      fill: #D2E3FC;\n",
              "    }\n",
              "\n",
              "    [theme=dark] .colab-df-convert:hover {\n",
              "      background-color: #434B5C;\n",
              "      box-shadow: 0px 1px 3px 1px rgba(0, 0, 0, 0.15);\n",
              "      filter: drop-shadow(0px 1px 2px rgba(0, 0, 0, 0.3));\n",
              "      fill: #FFFFFF;\n",
              "    }\n",
              "  </style>\n",
              "\n",
              "    <script>\n",
              "      const buttonEl =\n",
              "        document.querySelector('#df-01cc2fe4-a4fb-496b-ae0b-b3143019401a button.colab-df-convert');\n",
              "      buttonEl.style.display =\n",
              "        google.colab.kernel.accessAllowed ? 'block' : 'none';\n",
              "\n",
              "      async function convertToInteractive(key) {\n",
              "        const element = document.querySelector('#df-01cc2fe4-a4fb-496b-ae0b-b3143019401a');\n",
              "        const dataTable =\n",
              "          await google.colab.kernel.invokeFunction('convertToInteractive',\n",
              "                                                    [key], {});\n",
              "        if (!dataTable) return;\n",
              "\n",
              "        const docLinkHtml = 'Like what you see? Visit the ' +\n",
              "          '<a target=\"_blank\" href=https://colab.research.google.com/notebooks/data_table.ipynb>data table notebook</a>'\n",
              "          + ' to learn more about interactive tables.';\n",
              "        element.innerHTML = '';\n",
              "        dataTable['output_type'] = 'display_data';\n",
              "        await google.colab.output.renderOutput(dataTable, element);\n",
              "        const docLink = document.createElement('div');\n",
              "        docLink.innerHTML = docLinkHtml;\n",
              "        element.appendChild(docLink);\n",
              "      }\n",
              "    </script>\n",
              "  </div>\n",
              "\n",
              "\n",
              "<div id=\"df-02934dac-305f-4789-9eb1-abca5b673154\">\n",
              "  <button class=\"colab-df-quickchart\" onclick=\"quickchart('df-02934dac-305f-4789-9eb1-abca5b673154')\"\n",
              "            title=\"Suggest charts\"\n",
              "            style=\"display:none;\">\n",
              "\n",
              "<svg xmlns=\"http://www.w3.org/2000/svg\" height=\"24px\"viewBox=\"0 0 24 24\"\n",
              "     width=\"24px\">\n",
              "    <g>\n",
              "        <path d=\"M19 3H5c-1.1 0-2 .9-2 2v14c0 1.1.9 2 2 2h14c1.1 0 2-.9 2-2V5c0-1.1-.9-2-2-2zM9 17H7v-7h2v7zm4 0h-2V7h2v10zm4 0h-2v-4h2v4z\"/>\n",
              "    </g>\n",
              "</svg>\n",
              "  </button>\n",
              "\n",
              "<style>\n",
              "  .colab-df-quickchart {\n",
              "      --bg-color: #E8F0FE;\n",
              "      --fill-color: #1967D2;\n",
              "      --hover-bg-color: #E2EBFA;\n",
              "      --hover-fill-color: #174EA6;\n",
              "      --disabled-fill-color: #AAA;\n",
              "      --disabled-bg-color: #DDD;\n",
              "  }\n",
              "\n",
              "  [theme=dark] .colab-df-quickchart {\n",
              "      --bg-color: #3B4455;\n",
              "      --fill-color: #D2E3FC;\n",
              "      --hover-bg-color: #434B5C;\n",
              "      --hover-fill-color: #FFFFFF;\n",
              "      --disabled-bg-color: #3B4455;\n",
              "      --disabled-fill-color: #666;\n",
              "  }\n",
              "\n",
              "  .colab-df-quickchart {\n",
              "    background-color: var(--bg-color);\n",
              "    border: none;\n",
              "    border-radius: 50%;\n",
              "    cursor: pointer;\n",
              "    display: none;\n",
              "    fill: var(--fill-color);\n",
              "    height: 32px;\n",
              "    padding: 0;\n",
              "    width: 32px;\n",
              "  }\n",
              "\n",
              "  .colab-df-quickchart:hover {\n",
              "    background-color: var(--hover-bg-color);\n",
              "    box-shadow: 0 1px 2px rgba(60, 64, 67, 0.3), 0 1px 3px 1px rgba(60, 64, 67, 0.15);\n",
              "    fill: var(--button-hover-fill-color);\n",
              "  }\n",
              "\n",
              "  .colab-df-quickchart-complete:disabled,\n",
              "  .colab-df-quickchart-complete:disabled:hover {\n",
              "    background-color: var(--disabled-bg-color);\n",
              "    fill: var(--disabled-fill-color);\n",
              "    box-shadow: none;\n",
              "  }\n",
              "\n",
              "  .colab-df-spinner {\n",
              "    border: 2px solid var(--fill-color);\n",
              "    border-color: transparent;\n",
              "    border-bottom-color: var(--fill-color);\n",
              "    animation:\n",
              "      spin 1s steps(1) infinite;\n",
              "  }\n",
              "\n",
              "  @keyframes spin {\n",
              "    0% {\n",
              "      border-color: transparent;\n",
              "      border-bottom-color: var(--fill-color);\n",
              "      border-left-color: var(--fill-color);\n",
              "    }\n",
              "    20% {\n",
              "      border-color: transparent;\n",
              "      border-left-color: var(--fill-color);\n",
              "      border-top-color: var(--fill-color);\n",
              "    }\n",
              "    30% {\n",
              "      border-color: transparent;\n",
              "      border-left-color: var(--fill-color);\n",
              "      border-top-color: var(--fill-color);\n",
              "      border-right-color: var(--fill-color);\n",
              "    }\n",
              "    40% {\n",
              "      border-color: transparent;\n",
              "      border-right-color: var(--fill-color);\n",
              "      border-top-color: var(--fill-color);\n",
              "    }\n",
              "    60% {\n",
              "      border-color: transparent;\n",
              "      border-right-color: var(--fill-color);\n",
              "    }\n",
              "    80% {\n",
              "      border-color: transparent;\n",
              "      border-right-color: var(--fill-color);\n",
              "      border-bottom-color: var(--fill-color);\n",
              "    }\n",
              "    90% {\n",
              "      border-color: transparent;\n",
              "      border-bottom-color: var(--fill-color);\n",
              "    }\n",
              "  }\n",
              "</style>\n",
              "\n",
              "  <script>\n",
              "    async function quickchart(key) {\n",
              "      const quickchartButtonEl =\n",
              "        document.querySelector('#' + key + ' button');\n",
              "      quickchartButtonEl.disabled = true;  // To prevent multiple clicks.\n",
              "      quickchartButtonEl.classList.add('colab-df-spinner');\n",
              "      try {\n",
              "        const charts = await google.colab.kernel.invokeFunction(\n",
              "            'suggestCharts', [key], {});\n",
              "      } catch (error) {\n",
              "        console.error('Error during call to suggestCharts:', error);\n",
              "      }\n",
              "      quickchartButtonEl.classList.remove('colab-df-spinner');\n",
              "      quickchartButtonEl.classList.add('colab-df-quickchart-complete');\n",
              "    }\n",
              "    (() => {\n",
              "      let quickchartButtonEl =\n",
              "        document.querySelector('#df-02934dac-305f-4789-9eb1-abca5b673154 button');\n",
              "      quickchartButtonEl.style.display =\n",
              "        google.colab.kernel.accessAllowed ? 'block' : 'none';\n",
              "    })();\n",
              "  </script>\n",
              "</div>\n",
              "    </div>\n",
              "  </div>\n"
            ],
            "application/vnd.google.colaboratory.intrinsic+json": {
              "type": "dataframe",
              "variable_name": "data_bin"
            }
          },
          "metadata": {},
          "execution_count": 24
        }
      ],
      "source": [
        "data_bin.head()"
      ]
    },
    {
      "cell_type": "markdown",
      "id": "3783699e",
      "metadata": {
        "papermill": {
          "duration": 0.029228,
          "end_time": "2024-01-18T09:22:42.082410",
          "exception": false,
          "start_time": "2024-01-18T09:22:42.053182",
          "status": "completed"
        },
        "tags": [],
        "id": "3783699e"
      },
      "source": [
        "**Corrolation Matrix**"
      ]
    },
    {
      "cell_type": "code",
      "execution_count": null,
      "id": "3917bcad",
      "metadata": {
        "execution": {
          "iopub.execute_input": "2024-01-18T09:22:42.142727Z",
          "iopub.status.busy": "2024-01-18T09:22:42.142322Z",
          "iopub.status.idle": "2024-01-18T09:22:42.754797Z",
          "shell.execute_reply": "2024-01-18T09:22:42.753724Z"
        },
        "papermill": {
          "duration": 0.646464,
          "end_time": "2024-01-18T09:22:42.757788",
          "exception": false,
          "start_time": "2024-01-18T09:22:42.111324",
          "status": "completed"
        },
        "tags": [],
        "colab": {
          "base_uri": "https://localhost:8080/",
          "height": 541
        },
        "id": "3917bcad",
        "outputId": "f81dd647-d8a2-464b-d2fa-1cc353dcba08"
      },
      "outputs": [
        {
          "output_type": "display_data",
          "data": {
            "text/plain": [
              "<Figure size 640x480 with 2 Axes>"
            ],
            "image/png": "[encoded data removed]"
          },
          "metadata": {}
        }
      ],
      "source": [
        "sns.heatmap(data_bin.corr())\n",
        "plt.show()"
      ]
    },
    {
      "cell_type": "code",
      "execution_count": null,
      "id": "774686b4",
      "metadata": {
        "execution": {
          "iopub.execute_input": "2024-01-18T09:22:42.826048Z",
          "iopub.status.busy": "2024-01-18T09:22:42.823993Z",
          "iopub.status.idle": "2024-01-18T09:22:42.870932Z",
          "shell.execute_reply": "2024-01-18T09:22:42.869791Z"
        },
        "papermill": {
          "duration": 0.083572,
          "end_time": "2024-01-18T09:22:42.873831",
          "exception": false,
          "start_time": "2024-01-18T09:22:42.790259",
          "status": "completed"
        },
        "tags": [],
        "colab": {
          "base_uri": "https://localhost:8080/"
        },
        "id": "774686b4",
        "outputId": "316fe248-2ba6-4daa-f45c-317683736d37"
      },
      "outputs": [
        {
          "output_type": "stream",
          "name": "stdout",
          "text": [
            "swin dwin 0.9717936124274676\n",
            "tcprtt synack 0.9828973866750446\n",
            "is_ftp_login ct_ftp_cmd 1.0\n"
          ]
        }
      ],
      "source": [
        "columns = data_bin.columns.tolist()\n",
        "corr = data_bin.corr()\n",
        "correlated_vars = []\n",
        "for i in range(len(columns) - 1):\n",
        "    for j in range(i+1, len(columns)):\n",
        "        if corr[columns[i]][columns[j]] > 0.95:\n",
        "            print(columns[i], columns[j], corr[columns[i]][columns[j]])\n",
        "            correlated_vars.append(columns[j])"
      ]
    },
    {
      "cell_type": "code",
      "execution_count": null,
      "id": "7b202ff5",
      "metadata": {
        "execution": {
          "iopub.execute_input": "2024-01-18T09:22:42.934376Z",
          "iopub.status.busy": "2024-01-18T09:22:42.933931Z",
          "iopub.status.idle": "2024-01-18T09:22:42.960097Z",
          "shell.execute_reply": "2024-01-18T09:22:42.958975Z"
        },
        "papermill": {
          "duration": 0.060365,
          "end_time": "2024-01-18T09:22:42.963438",
          "exception": false,
          "start_time": "2024-01-18T09:22:42.903073",
          "status": "completed"
        },
        "tags": [],
        "colab": {
          "base_uri": "https://localhost:8080/"
        },
        "id": "7b202ff5",
        "outputId": "bdcbaf1d-e8e9-49bf-894b-a7c02deda78c"
      },
      "outputs": [
        {
          "output_type": "stream",
          "name": "stdout",
          "text": [
            "<class 'pandas.core.frame.DataFrame'>\n",
            "Index: 4658 entries, 109826 to 90614\n",
            "Data columns (total 40 columns):\n",
            " #   Column             Non-Null Count  Dtype\n",
            "---  ------             --------------  -----\n",
            " 0   dur                4658 non-null   int64\n",
            " 1   proto              4658 non-null   int64\n",
            " 2   service            4658 non-null   int64\n",
            " 3   state              4658 non-null   int64\n",
            " 4   spkts              4658 non-null   int64\n",
            " 5   dpkts              4658 non-null   int64\n",
            " 6   sbytes             4658 non-null   int64\n",
            " 7   dbytes             4658 non-null   int64\n",
            " 8   rate               4658 non-null   int64\n",
            " 9   sttl               4658 non-null   int64\n",
            " 10  dttl               4658 non-null   int64\n",
            " 11  sload              4658 non-null   int64\n",
            " 12  dload              4658 non-null   int64\n",
            " 13  sloss              4658 non-null   int64\n",
            " 14  dloss              4658 non-null   int64\n",
            " 15  sinpkt             4658 non-null   int64\n",
            " 16  dinpkt             4658 non-null   int64\n",
            " 17  sjit               4658 non-null   int64\n",
            " 18  djit               4658 non-null   int64\n",
            " 19  swin               4658 non-null   int64\n",
            " 20  stcpb              4658 non-null   int64\n",
            " 21  dtcpb              4658 non-null   int64\n",
            " 22  tcprtt             4658 non-null   int64\n",
            " 23  ackdat             4658 non-null   int64\n",
            " 24  smean              4658 non-null   int64\n",
            " 25  dmean              4658 non-null   int64\n",
            " 26  trans_depth        4658 non-null   int64\n",
            " 27  response_body_len  4658 non-null   int64\n",
            " 28  ct_srv_src         4658 non-null   int64\n",
            " 29  ct_state_ttl       4658 non-null   int64\n",
            " 30  ct_dst_ltm         4658 non-null   int64\n",
            " 31  ct_src_dport_ltm   4658 non-null   int64\n",
            " 32  ct_dst_sport_ltm   4658 non-null   int64\n",
            " 33  ct_dst_src_ltm     4658 non-null   int64\n",
            " 34  is_ftp_login       4658 non-null   int64\n",
            " 35  ct_flw_http_mthd   4658 non-null   int64\n",
            " 36  ct_src_ltm         4658 non-null   int64\n",
            " 37  ct_srv_dst         4658 non-null   int64\n",
            " 38  is_sm_ips_ports    4658 non-null   int64\n",
            " 39  label              4658 non-null   int64\n",
            "dtypes: int64(40)\n",
            "memory usage: 1.5 MB\n"
          ]
        }
      ],
      "source": [
        "data_bin = data_bin.drop(columns=correlated_vars)\n",
        "data_bin.info()"
      ]
    },
    {
      "cell_type": "markdown",
      "id": "ee79ea5e",
      "metadata": {
        "papermill": {
          "duration": 0.029245,
          "end_time": "2024-01-18T09:22:43.022826",
          "exception": false,
          "start_time": "2024-01-18T09:22:42.993581",
          "status": "completed"
        },
        "tags": [],
        "id": "ee79ea5e"
      },
      "source": [
        "**Mutual Information**"
      ]
    },
    {
      "cell_type": "code",
      "execution_count": null,
      "id": "ba37cc92",
      "metadata": {
        "execution": {
          "iopub.execute_input": "2024-01-18T09:22:43.084237Z",
          "iopub.status.busy": "2024-01-18T09:22:43.083816Z",
          "iopub.status.idle": "2024-01-18T09:22:43.092093Z",
          "shell.execute_reply": "2024-01-18T09:22:43.090892Z"
        },
        "papermill": {
          "duration": 0.042271,
          "end_time": "2024-01-18T09:22:43.094859",
          "exception": false,
          "start_time": "2024-01-18T09:22:43.052588",
          "status": "completed"
        },
        "tags": [],
        "id": "ba37cc92"
      },
      "outputs": [],
      "source": [
        "x = data_bin.drop(columns=['label'])\n",
        "y = data_bin['label']"
      ]
    },
    {
      "cell_type": "code",
      "execution_count": null,
      "id": "53dbcdb8",
      "metadata": {
        "execution": {
          "iopub.execute_input": "2024-01-18T09:22:43.158368Z",
          "iopub.status.busy": "2024-01-18T09:22:43.156596Z",
          "iopub.status.idle": "2024-01-18T09:22:44.020081Z",
          "shell.execute_reply": "2024-01-18T09:22:44.018606Z"
        },
        "papermill": {
          "duration": 0.897382,
          "end_time": "2024-01-18T09:22:44.022787",
          "exception": false,
          "start_time": "2024-01-18T09:22:43.125405",
          "status": "completed"
        },
        "tags": [],
        "colab": {
          "base_uri": "https://localhost:8080/"
        },
        "id": "53dbcdb8",
        "outputId": "03cc86db-2a08-4ced-9103-6c094878f022"
      },
      "outputs": [
        {
          "output_type": "stream",
          "name": "stdout",
          "text": [
            "                   MI Score\n",
            "sttl               0.340529\n",
            "ct_state_ttl       0.296365\n",
            "dttl               0.287698\n",
            "state              0.281312\n",
            "dur                0.228503\n",
            "dbytes             0.207949\n",
            "ct_dst_sport_ltm   0.206467\n",
            "swin               0.189075\n",
            "dmean              0.179829\n",
            "sloss              0.169954\n",
            "sbytes             0.166765\n",
            "smean              0.154678\n",
            "dload              0.131363\n",
            "proto              0.120646\n",
            "dtcpb              0.102317\n",
            "stcpb              0.095433\n",
            "dloss              0.090526\n",
            "djit               0.089411\n",
            "dpkts              0.083843\n",
            "ct_src_dport_ltm   0.073658\n",
            "sjit               0.068705\n",
            "dinpkt             0.065796\n",
            "spkts              0.058378\n",
            "rate               0.041513\n",
            "tcprtt             0.031194\n",
            "ct_dst_src_ltm     0.030651\n",
            "service            0.030499\n",
            "sinpkt             0.029448\n",
            "response_body_len  0.022770\n",
            "ackdat             0.021559\n",
            "ct_flw_http_mthd   0.021216\n",
            "is_sm_ips_ports    0.012049\n",
            "is_ftp_login       0.010502\n",
            "sload              0.009381\n",
            "ct_srv_dst         0.008621\n",
            "ct_src_ltm         0.002427\n",
            "ct_dst_ltm         0.000000\n",
            "trans_depth        0.000000\n",
            "ct_srv_src         0.000000\n"
          ]
        }
      ],
      "source": [
        "mi_scores = mutual_info_classif(x, y)\n",
        "mi_df = pd.DataFrame(mi_scores, index=x.columns, columns=['MI Score'])\n",
        "mi_df = mi_df.sort_values(by='MI Score', ascending=False)\n",
        "\n",
        "print(mi_df)"
      ]
    },
    {
      "cell_type": "code",
      "execution_count": null,
      "id": "eeff3fcf",
      "metadata": {
        "execution": {
          "iopub.execute_input": "2024-01-18T09:22:44.085022Z",
          "iopub.status.busy": "2024-01-18T09:22:44.084570Z",
          "iopub.status.idle": "2024-01-18T09:22:44.958011Z",
          "shell.execute_reply": "2024-01-18T09:22:44.956836Z"
        },
        "papermill": {
          "duration": 0.907962,
          "end_time": "2024-01-18T09:22:44.960735",
          "exception": false,
          "start_time": "2024-01-18T09:22:44.052773",
          "status": "completed"
        },
        "tags": [],
        "colab": {
          "base_uri": "https://localhost:8080/",
          "height": 894
        },
        "id": "eeff3fcf",
        "outputId": "9548412f-b0b4-489a-a7ed-32ecfa02e2f9"
      },
      "outputs": [
        {
          "output_type": "stream",
          "name": "stderr",
          "text": [
            "<ipython-input-30-857cbf82e5cd>:4: FutureWarning: \n",
            "\n",
            "Passing `palette` without assigning `hue` is deprecated and will be removed in v0.14.0. Assign the `y` variable to `hue` and set `legend=False` for the same effect.\n",
            "\n",
            "  sns.barplot(x='MI Score', y=mi_df_sorted.index, data=mi_df_sorted, palette='mako')\n"
          ]
        },
        {
          "output_type": "display_data",
          "data": {
            "text/plain": [
              "<Figure size 1000x800 with 1 Axes>"
            ],
            "image/png": "[encoded data removed]"
          },
          "metadata": {}
        }
      ],
      "source": [
        "mi_df_sorted = mi_df.sort_values(by='MI Score', ascending=True)\n",
        "\n",
        "plt.figure(figsize=(10, 8))\n",
        "sns.barplot(x='MI Score', y=mi_df_sorted.index, data=mi_df_sorted, palette='mako')\n",
        "plt.xlabel('Mutual Information Score')\n",
        "plt.ylabel('Features')\n",
        "plt.title('Mutual Information Scores per Feature')\n",
        "plt.tight_layout()\n",
        "plt.show()"
      ]
    },
    {
      "cell_type": "code",
      "execution_count": null,
      "id": "8dacf4c6",
      "metadata": {
        "execution": {
          "iopub.execute_input": "2024-01-18T09:22:45.024136Z",
          "iopub.status.busy": "2024-01-18T09:22:45.023703Z",
          "iopub.status.idle": "2024-01-18T09:22:45.046120Z",
          "shell.execute_reply": "2024-01-18T09:22:45.044806Z"
        },
        "papermill": {
          "duration": 0.057664,
          "end_time": "2024-01-18T09:22:45.048877",
          "exception": false,
          "start_time": "2024-01-18T09:22:44.991213",
          "status": "completed"
        },
        "tags": [],
        "colab": {
          "base_uri": "https://localhost:8080/"
        },
        "id": "8dacf4c6",
        "outputId": "52fb80bb-9bd9-4e5d-dd85-114b4bf5ce6b"
      },
      "outputs": [
        {
          "output_type": "stream",
          "name": "stdout",
          "text": [
            "<class 'pandas.core.frame.DataFrame'>\n",
            "Index: 4658 entries, 109826 to 90614\n",
            "Data columns (total 35 columns):\n",
            " #   Column             Non-Null Count  Dtype\n",
            "---  ------             --------------  -----\n",
            " 0   dur                4658 non-null   int64\n",
            " 1   proto              4658 non-null   int64\n",
            " 2   service            4658 non-null   int64\n",
            " 3   state              4658 non-null   int64\n",
            " 4   spkts              4658 non-null   int64\n",
            " 5   dpkts              4658 non-null   int64\n",
            " 6   sbytes             4658 non-null   int64\n",
            " 7   dbytes             4658 non-null   int64\n",
            " 8   sttl               4658 non-null   int64\n",
            " 9   dttl               4658 non-null   int64\n",
            " 10  sload              4658 non-null   int64\n",
            " 11  dload              4658 non-null   int64\n",
            " 12  sloss              4658 non-null   int64\n",
            " 13  dloss              4658 non-null   int64\n",
            " 14  sinpkt             4658 non-null   int64\n",
            " 15  dinpkt             4658 non-null   int64\n",
            " 16  sjit               4658 non-null   int64\n",
            " 17  djit               4658 non-null   int64\n",
            " 18  swin               4658 non-null   int64\n",
            " 19  stcpb              4658 non-null   int64\n",
            " 20  dtcpb              4658 non-null   int64\n",
            " 21  ackdat             4658 non-null   int64\n",
            " 22  smean              4658 non-null   int64\n",
            " 23  dmean              4658 non-null   int64\n",
            " 24  response_body_len  4658 non-null   int64\n",
            " 25  ct_srv_src         4658 non-null   int64\n",
            " 26  ct_dst_ltm         4658 non-null   int64\n",
            " 27  ct_src_dport_ltm   4658 non-null   int64\n",
            " 28  ct_dst_sport_ltm   4658 non-null   int64\n",
            " 29  ct_dst_src_ltm     4658 non-null   int64\n",
            " 30  is_ftp_login       4658 non-null   int64\n",
            " 31  ct_flw_http_mthd   4658 non-null   int64\n",
            " 32  ct_srv_dst         4658 non-null   int64\n",
            " 33  is_sm_ips_ports    4658 non-null   int64\n",
            " 34  label              4658 non-null   int64\n",
            "dtypes: int64(35)\n",
            "memory usage: 1.3 MB\n"
          ]
        }
      ],
      "source": [
        "data_bin =  data_bin.drop(['trans_depth','ct_src_ltm','tcprtt','rate','ct_state_ttl'], axis=1)\n",
        "data_bin.info()"
      ]
    },
    {
      "cell_type": "markdown",
      "id": "0e7d00df",
      "metadata": {
        "papermill": {
          "duration": 0.029994,
          "end_time": "2024-01-18T09:22:45.109217",
          "exception": false,
          "start_time": "2024-01-18T09:22:45.079223",
          "status": "completed"
        },
        "tags": [],
        "id": "0e7d00df"
      },
      "source": [
        "**Splitting training and testing sets**"
      ]
    },
    {
      "cell_type": "code",
      "execution_count": null,
      "id": "f8eacafa",
      "metadata": {
        "execution": {
          "iopub.execute_input": "2024-01-18T09:22:45.171328Z",
          "iopub.status.busy": "2024-01-18T09:22:45.170909Z",
          "iopub.status.idle": "2024-01-18T09:22:45.184641Z",
          "shell.execute_reply": "2024-01-18T09:22:45.183525Z"
        },
        "papermill": {
          "duration": 0.04738,
          "end_time": "2024-01-18T09:22:45.187170",
          "exception": false,
          "start_time": "2024-01-18T09:22:45.139790",
          "status": "completed"
        },
        "tags": [],
        "id": "f8eacafa"
      },
      "outputs": [],
      "source": [
        "selected_columns = ['dur', 'proto', 'spkts', 'dpkts', 'sbytes', 'dbytes',\n",
        "       'dload', 'sloss', 'dinpkt', 'ackdat', 'smean', 'dmean', 'ct_srv_src',\n",
        "       'ct_dst_src_ltm', 'ct_srv_dst','label']\n",
        "\n",
        "dtt = data_bin[selected_columns]\n",
        "X = dtt.drop(columns=['label'])\n",
        "feature_list = list(X.columns)\n",
        "X = np.array(X)\n",
        "y = dtt['label']\n",
        "X_train, X_test, y_train, y_test = train_test_split(X, y, test_size = 0.25)\n"
      ]
    },
    {
      "cell_type": "code",
      "execution_count": null,
      "id": "8ad360e0",
      "metadata": {
        "execution": {
          "iopub.execute_input": "2024-01-18T09:22:45.253004Z",
          "iopub.status.busy": "2024-01-18T09:22:45.252542Z",
          "iopub.status.idle": "2024-01-18T09:22:45.258775Z",
          "shell.execute_reply": "2024-01-18T09:22:45.257519Z"
        },
        "papermill": {
          "duration": 0.043339,
          "end_time": "2024-01-18T09:22:45.261875",
          "exception": false,
          "start_time": "2024-01-18T09:22:45.218536",
          "status": "completed"
        },
        "tags": [],
        "colab": {
          "base_uri": "https://localhost:8080/"
        },
        "id": "8ad360e0",
        "outputId": "e68f26fa-d13e-4abf-a084-d4217d9056ab"
      },
      "outputs": [
        {
          "output_type": "stream",
          "name": "stdout",
          "text": [
            "Training set: 3493\n",
            "Testing set: 1165\n"
          ]
        }
      ],
      "source": [
        "print(\"Training set:\", len(X_train))\n",
        "print(\"Testing set:\", len(X_test))"
      ]
    },
    {
      "cell_type": "markdown",
      "id": "51f83d75",
      "metadata": {
        "papermill": {
          "duration": 0.030601,
          "end_time": "2024-01-18T09:22:45.324122",
          "exception": false,
          "start_time": "2024-01-18T09:22:45.293521",
          "status": "completed"
        },
        "tags": [],
        "id": "51f83d75"
      },
      "source": [
        "# **Algorithms**"
      ]
    },
    {
      "cell_type": "code",
      "source": [
        "from sklearn.ensemble import RandomForestClassifier"
      ],
      "metadata": {
        "id": "SpKmFVUB5-PY"
      },
      "id": "SpKmFVUB5-PY",
      "execution_count": null,
      "outputs": []
    },
    {
      "cell_type": "code",
      "execution_count": null,
      "id": "b24b99f1",
      "metadata": {
        "execution": {
          "iopub.execute_input": "2024-01-18T09:22:45.389337Z",
          "iopub.status.busy": "2024-01-18T09:22:45.388313Z",
          "iopub.status.idle": "2024-01-18T09:22:45.396410Z",
          "shell.execute_reply": "2024-01-18T09:22:45.394865Z"
        },
        "papermill": {
          "duration": 0.043547,
          "end_time": "2024-01-18T09:22:45.398983",
          "exception": false,
          "start_time": "2024-01-18T09:22:45.355436",
          "status": "completed"
        },
        "tags": [],
        "id": "b24b99f1"
      },
      "outputs": [],
      "source": [
        "params = {\n",
        "    'max_depth': 10,\n",
        "    'objective': 'multi:softmax',  # error evaluation for multiclass training\n",
        "    'num_class': 2,                # Number of classes\n",
        "    'n_gpus': 4\n",
        "}\n",
        "models = {}\n",
        "models['Naive Bayes'] = DecisionTreeClassifier()\n",
        "#models['LGM'] =random_forest= LGBMClassifier()\n",
        "models['Random Forest '] = RandomForestClassifier()\n",
        "models['xgboost'] = xgb_classifier = xgb.XGBClassifier(**params)"
      ]
    },
    {
      "cell_type": "code",
      "execution_count": null,
      "id": "f37b0f65",
      "metadata": {
        "execution": {
          "iopub.execute_input": "2024-01-18T09:22:45.463501Z",
          "iopub.status.busy": "2024-01-18T09:22:45.463027Z",
          "iopub.status.idle": "2024-01-18T09:22:46.776479Z",
          "shell.execute_reply": "2024-01-18T09:22:46.775497Z"
        },
        "papermill": {
          "duration": 1.348862,
          "end_time": "2024-01-18T09:22:46.779229",
          "exception": false,
          "start_time": "2024-01-18T09:22:45.430367",
          "status": "completed"
        },
        "tags": [],
        "id": "f37b0f65",
        "colab": {
          "base_uri": "https://localhost:8080/"
        },
        "outputId": "7b7f7bb4-d373-416a-d310-591292aebb92"
      },
      "outputs": [
        {
          "output_type": "stream",
          "name": "stderr",
          "text": [
            "/usr/local/lib/python3.10/dist-packages/xgboost/core.py:160: UserWarning: [13:13:44] WARNING: /workspace/src/learner.cc:742: \n",
            "Parameters: { \"n_gpus\" } are not used.\n",
            "\n",
            "  warnings.warn(smsg, UserWarning)\n"
          ]
        }
      ],
      "source": [
        "train_score, accuracy, precision, recall, training_time, y_pred = {}, {}, {}, {}, {}, {}\n",
        "for key in models.keys():\n",
        "    start_time = time.time()\n",
        "    models[key].fit(X_train, y_train)\n",
        "    training_time[key] = time.time() - start_time\n",
        "    y_pred[key] = models[key].predict(X_test)\n",
        "    train_score[key] = models[key].score(X_train, y_train)\n",
        "    accuracy[key] = models[key].score(X_test, y_test)\n",
        "    precision[key] = precision_score(y_test, y_pred[key])\n",
        "    recall[key] = recall_score(y_test, y_pred[key])"
      ]
    },
    {
      "cell_type": "code",
      "execution_count": null,
      "id": "1db050e4",
      "metadata": {
        "execution": {
          "iopub.execute_input": "2024-01-18T09:22:46.843688Z",
          "iopub.status.busy": "2024-01-18T09:22:46.842687Z",
          "iopub.status.idle": "2024-01-18T09:22:46.852014Z",
          "shell.execute_reply": "2024-01-18T09:22:46.851083Z"
        },
        "papermill": {
          "duration": 0.044122,
          "end_time": "2024-01-18T09:22:46.854491",
          "exception": false,
          "start_time": "2024-01-18T09:22:46.810369",
          "status": "completed"
        },
        "tags": [],
        "id": "1db050e4"
      },
      "outputs": [],
      "source": [
        "df_models = pd.DataFrame(index=models.keys(), columns=['Training score', 'Accuracy', 'Precision', 'Recall', 'Training time'])\n",
        "df_models['Training score'] = train_score.values()\n",
        "df_models['Accuracy'] = accuracy.values()\n",
        "df_models['Precision'] = precision.values()\n",
        "df_models['Recall'] = recall.values()\n",
        "df_models['Training time'] = training_time.values()"
      ]
    },
    {
      "cell_type": "code",
      "execution_count": null,
      "id": "f1936aea",
      "metadata": {
        "execution": {
          "iopub.execute_input": "2024-01-18T09:22:46.918478Z",
          "iopub.status.busy": "2024-01-18T09:22:46.917031Z",
          "iopub.status.idle": "2024-01-18T09:22:46.930493Z",
          "shell.execute_reply": "2024-01-18T09:22:46.929619Z"
        },
        "papermill": {
          "duration": 0.047825,
          "end_time": "2024-01-18T09:22:46.932705",
          "exception": false,
          "start_time": "2024-01-18T09:22:46.884880",
          "status": "completed"
        },
        "tags": [],
        "colab": {
          "base_uri": "https://localhost:8080/",
          "height": 143
        },
        "id": "f1936aea",
        "outputId": "9a45dc2d-4cea-4222-c0d9-f6cef307bdc7"
      },
      "outputs": [
        {
          "output_type": "execute_result",
          "data": {
            "text/plain": [
              "                Training score  Accuracy  Precision    Recall  Training time\n",
              "Naive Bayes                1.0  0.977682   0.980198  0.976974       0.027631\n",
              "Random Forest              1.0  0.991416   0.991776  0.991776       0.422457\n",
              "xgboost                    1.0  0.990558   0.993388  0.988487       0.297844"
            ],
            "text/html": [
              "\n",
              "  <div id=\"df-5657f530-ab1d-4959-b80f-7d3ae277a8de\" class=\"colab-df-container\">\n",
              "    <div>\n",
              "<style scoped>\n",
              "    .dataframe tbody tr th:only-of-type {\n",
              "        vertical-align: middle;\n",
              "    }\n",
              "\n",
              "    .dataframe tbody tr th {\n",
              "        vertical-align: top;\n",
              "    }\n",
              "\n",
              "    .dataframe thead th {\n",
              "        text-align: right;\n",
              "    }\n",
              "</style>\n",
              "<table border=\"1\" class=\"dataframe\">\n",
              "  <thead>\n",
              "    <tr style=\"text-align: right;\">\n",
              "      <th></th>\n",
              "      <th>Training score</th>\n",
              "      <th>Accuracy</th>\n",
              "      <th>Precision</th>\n",
              "      <th>Recall</th>\n",
              "      <th>Training time</th>\n",
              "    </tr>\n",
              "  </thead>\n",
              "  <tbody>\n",
              "    <tr>\n",
              "      <th>Naive Bayes</th>\n",
              "      <td>1.0</td>\n",
              "      <td>0.977682</td>\n",
              "      <td>0.980198</td>\n",
              "      <td>0.976974</td>\n",
              "      <td>0.027631</td>\n",
              "    </tr>\n",
              "    <tr>\n",
              "      <th>Random Forest</th>\n",
              "      <td>1.0</td>\n",
              "      <td>0.991416</td>\n",
              "      <td>0.991776</td>\n",
              "      <td>0.991776</td>\n",
              "      <td>0.422457</td>\n",
              "    </tr>\n",
              "    <tr>\n",
              "      <th>xgboost</th>\n",
              "      <td>1.0</td>\n",
              "      <td>0.990558</td>\n",
              "      <td>0.993388</td>\n",
              "      <td>0.988487</td>\n",
              "      <td>0.297844</td>\n",
              "    </tr>\n",
              "  </tbody>\n",
              "</table>\n",
              "</div>\n",
              "    <div class=\"colab-df-buttons\">\n",
              "\n",
              "  <div class=\"colab-df-container\">\n",
              "    <button class=\"colab-df-convert\" onclick=\"convertToInteractive('df-5657f530-ab1d-4959-b80f-7d3ae277a8de')\"\n",
              "            title=\"Convert this dataframe to an interactive table.\"\n",
              "            style=\"display:none;\">\n",
              "\n",
              "  <svg xmlns=\"http://www.w3.org/2000/svg\" height=\"24px\" viewBox=\"0 -960 960 960\">\n",
              "    <path d=\"M120-120v-720h720v720H120Zm60-500h600v-160H180v160Zm220 220h160v-160H400v160Zm0 220h160v-160H400v160ZM180-400h160v-160H180v160Zm440 0h160v-160H620v160ZM180-180h160v-160H180v160Zm440 0h160v-160H620v160Z\"/>\n",
              "  </svg>\n",
              "    </button>\n",
              "\n",
              "  <style>\n",
              "    .colab-df-container {\n",
              "      display:flex;\n",
              "      gap: 12px;\n",
              "    }\n",
              "\n",
              "    .colab-df-convert {\n",
              "      background-color: #E8F0FE;\n",
              "      border: none;\n",
              "      border-radius: 50%;\n",
              "      cursor: pointer;\n",
              "      display: none;\n",
              "      fill: #1967D2;\n",
              "      height: 32px;\n",
              "      padding: 0 0 0 0;\n",
              "      width: 32px;\n",
              "    }\n",
              "\n",
              "    .colab-df-convert:hover {\n",
              "      background-color: #E2EBFA;\n",
              "      box-shadow: 0px 1px 2px rgba(60, 64, 67, 0.3), 0px 1px 3px 1px rgba(60, 64, 67, 0.15);\n",
              "      fill: #174EA6;\n",
              "    }\n",
              "\n",
              "    .colab-df-buttons div {\n",
              "      margin-bottom: 4px;\n",
              "    }\n",
              "\n",
              "    [theme=dark] .colab-df-convert {\n",
              "      background-color: #3B4455;\n",
              "      fill: #D2E3FC;\n",
              "    }\n",
              "\n",
              "    [theme=dark] .colab-df-convert:hover {\n",
              "      background-color: #434B5C;\n",
              "      box-shadow: 0px 1px 3px 1px rgba(0, 0, 0, 0.15);\n",
              "      filter: drop-shadow(0px 1px 2px rgba(0, 0, 0, 0.3));\n",
              "      fill: #FFFFFF;\n",
              "    }\n",
              "  </style>\n",
              "\n",
              "    <script>\n",
              "      const buttonEl =\n",
              "        document.querySelector('#df-5657f530-ab1d-4959-b80f-7d3ae277a8de button.colab-df-convert');\n",
              "      buttonEl.style.display =\n",
              "        google.colab.kernel.accessAllowed ? 'block' : 'none';\n",
              "\n",
              "      async function convertToInteractive(key) {\n",
              "        const element = document.querySelector('#df-5657f530-ab1d-4959-b80f-7d3ae277a8de');\n",
              "        const dataTable =\n",
              "          await google.colab.kernel.invokeFunction('convertToInteractive',\n",
              "                                                    [key], {});\n",
              "        if (!dataTable) return;\n",
              "\n",
              "        const docLinkHtml = 'Like what you see? Visit the ' +\n",
              "          '<a target=\"_blank\" href=https://colab.research.google.com/notebooks/data_table.ipynb>data table notebook</a>'\n",
              "          + ' to learn more about interactive tables.';\n",
              "        element.innerHTML = '';\n",
              "        dataTable['output_type'] = 'display_data';\n",
              "        await google.colab.output.renderOutput(dataTable, element);\n",
              "        const docLink = document.createElement('div');\n",
              "        docLink.innerHTML = docLinkHtml;\n",
              "        element.appendChild(docLink);\n",
              "      }\n",
              "    </script>\n",
              "  </div>\n",
              "\n",
              "\n",
              "<div id=\"df-e704f8ac-0584-4df8-a89f-b5db6abd8d67\">\n",
              "  <button class=\"colab-df-quickchart\" onclick=\"quickchart('df-e704f8ac-0584-4df8-a89f-b5db6abd8d67')\"\n",
              "            title=\"Suggest charts\"\n",
              "            style=\"display:none;\">\n",
              "\n",
              "<svg xmlns=\"http://www.w3.org/2000/svg\" height=\"24px\"viewBox=\"0 0 24 24\"\n",
              "     width=\"24px\">\n",
              "    <g>\n",
              "        <path d=\"M19 3H5c-1.1 0-2 .9-2 2v14c0 1.1.9 2 2 2h14c1.1 0 2-.9 2-2V5c0-1.1-.9-2-2-2zM9 17H7v-7h2v7zm4 0h-2V7h2v10zm4 0h-2v-4h2v4z\"/>\n",
              "    </g>\n",
              "</svg>\n",
              "  </button>\n",
              "\n",
              "<style>\n",
              "  .colab-df-quickchart {\n",
              "      --bg-color: #E8F0FE;\n",
              "      --fill-color: #1967D2;\n",
              "      --hover-bg-color: #E2EBFA;\n",
              "      --hover-fill-color: #174EA6;\n",
              "      --disabled-fill-color: #AAA;\n",
              "      --disabled-bg-color: #DDD;\n",
              "  }\n",
              "\n",
              "  [theme=dark] .colab-df-quickchart {\n",
              "      --bg-color: #3B4455;\n",
              "      --fill-color: #D2E3FC;\n",
              "      --hover-bg-color: #434B5C;\n",
              "      --hover-fill-color: #FFFFFF;\n",
              "      --disabled-bg-color: #3B4455;\n",
              "      --disabled-fill-color: #666;\n",
              "  }\n",
              "\n",
              "  .colab-df-quickchart {\n",
              "    background-color: var(--bg-color);\n",
              "    border: none;\n",
              "    border-radius: 50%;\n",
              "    cursor: pointer;\n",
              "    display: none;\n",
              "    fill: var(--fill-color);\n",
              "    height: 32px;\n",
              "    padding: 0;\n",
              "    width: 32px;\n",
              "  }\n",
              "\n",
              "  .colab-df-quickchart:hover {\n",
              "    background-color: var(--hover-bg-color);\n",
              "    box-shadow: 0 1px 2px rgba(60, 64, 67, 0.3), 0 1px 3px 1px rgba(60, 64, 67, 0.15);\n",
              "    fill: var(--button-hover-fill-color);\n",
              "  }\n",
              "\n",
              "  .colab-df-quickchart-complete:disabled,\n",
              "  .colab-df-quickchart-complete:disabled:hover {\n",
              "    background-color: var(--disabled-bg-color);\n",
              "    fill: var(--disabled-fill-color);\n",
              "    box-shadow: none;\n",
              "  }\n",
              "\n",
              "  .colab-df-spinner {\n",
              "    border: 2px solid var(--fill-color);\n",
              "    border-color: transparent;\n",
              "    border-bottom-color: var(--fill-color);\n",
              "    animation:\n",
              "      spin 1s steps(1) infinite;\n",
              "  }\n",
              "\n",
              "  @keyframes spin {\n",
              "    0% {\n",
              "      border-color: transparent;\n",
              "      border-bottom-color: var(--fill-color);\n",
              "      border-left-color: var(--fill-color);\n",
              "    }\n",
              "    20% {\n",
              "      border-color: transparent;\n",
              "      border-left-color: var(--fill-color);\n",
              "      border-top-color: var(--fill-color);\n",
              "    }\n",
              "    30% {\n",
              "      border-color: transparent;\n",
              "      border-left-color: var(--fill-color);\n",
              "      border-top-color: var(--fill-color);\n",
              "      border-right-color: var(--fill-color);\n",
              "    }\n",
              "    40% {\n",
              "      border-color: transparent;\n",
              "      border-right-color: var(--fill-color);\n",
              "      border-top-color: var(--fill-color);\n",
              "    }\n",
              "    60% {\n",
              "      border-color: transparent;\n",
              "      border-right-color: var(--fill-color);\n",
              "    }\n",
              "    80% {\n",
              "      border-color: transparent;\n",
              "      border-right-color: var(--fill-color);\n",
              "      border-bottom-color: var(--fill-color);\n",
              "    }\n",
              "    90% {\n",
              "      border-color: transparent;\n",
              "      border-bottom-color: var(--fill-color);\n",
              "    }\n",
              "  }\n",
              "</style>\n",
              "\n",
              "  <script>\n",
              "    async function quickchart(key) {\n",
              "      const quickchartButtonEl =\n",
              "        document.querySelector('#' + key + ' button');\n",
              "      quickchartButtonEl.disabled = true;  // To prevent multiple clicks.\n",
              "      quickchartButtonEl.classList.add('colab-df-spinner');\n",
              "      try {\n",
              "        const charts = await google.colab.kernel.invokeFunction(\n",
              "            'suggestCharts', [key], {});\n",
              "      } catch (error) {\n",
              "        console.error('Error during call to suggestCharts:', error);\n",
              "      }\n",
              "      quickchartButtonEl.classList.remove('colab-df-spinner');\n",
              "      quickchartButtonEl.classList.add('colab-df-quickchart-complete');\n",
              "    }\n",
              "    (() => {\n",
              "      let quickchartButtonEl =\n",
              "        document.querySelector('#df-e704f8ac-0584-4df8-a89f-b5db6abd8d67 button');\n",
              "      quickchartButtonEl.style.display =\n",
              "        google.colab.kernel.accessAllowed ? 'block' : 'none';\n",
              "    })();\n",
              "  </script>\n",
              "</div>\n",
              "    </div>\n",
              "  </div>\n"
            ],
            "application/vnd.google.colaboratory.intrinsic+json": {
              "type": "dataframe",
              "variable_name": "df_models",
              "summary": "{\n  \"name\": \"df_models\",\n  \"rows\": 3,\n  \"fields\": [\n    {\n      \"column\": \"Training score\",\n      \"properties\": {\n        \"dtype\": \"number\",\n        \"std\": 0.0,\n        \"min\": 1.0,\n        \"max\": 1.0,\n        \"num_unique_values\": 1,\n        \"samples\": [\n          1.0\n        ],\n        \"semantic_type\": \"\",\n        \"description\": \"\"\n      }\n    },\n    {\n      \"column\": \"Accuracy\",\n      \"properties\": {\n        \"dtype\": \"number\",\n        \"std\": 0.007693464755221073,\n        \"min\": 0.9776824034334763,\n        \"max\": 0.9914163090128756,\n        \"num_unique_values\": 3,\n        \"samples\": [\n          0.9776824034334763\n        ],\n        \"semantic_type\": \"\",\n        \"description\": \"\"\n      }\n    },\n    {\n      \"column\": \"Precision\",\n      \"properties\": {\n        \"dtype\": \"number\",\n        \"std\": 0.007195400892858795,\n        \"min\": 0.9801980198019802,\n        \"max\": 0.9933884297520661,\n        \"num_unique_values\": 3,\n        \"samples\": [\n          0.9801980198019802\n        ],\n        \"semantic_type\": \"\",\n        \"description\": \"\"\n      }\n    },\n    {\n      \"column\": \"Recall\",\n      \"properties\": {\n        \"dtype\": \"number\",\n        \"std\": 0.007772723069494412,\n        \"min\": 0.9769736842105263,\n        \"max\": 0.9917763157894737,\n        \"num_unique_values\": 3,\n        \"samples\": [\n          0.9769736842105263\n        ],\n        \"semantic_type\": \"\",\n        \"description\": \"\"\n      }\n    },\n    {\n      \"column\": \"Training time\",\n      \"properties\": {\n        \"dtype\": \"number\",\n        \"std\": 0.20183767742575826,\n        \"min\": 0.027631044387817383,\n        \"max\": 0.4224567413330078,\n        \"num_unique_values\": 3,\n        \"samples\": [\n          0.027631044387817383\n        ],\n        \"semantic_type\": \"\",\n        \"description\": \"\"\n      }\n    }\n  ]\n}"
            }
          },
          "metadata": {},
          "execution_count": 38
        }
      ],
      "source": [
        "df_models"
      ]
    },
    {
      "cell_type": "code",
      "source": [],
      "metadata": {
        "id": "EpbXyVsU17lQ"
      },
      "id": "EpbXyVsU17lQ",
      "execution_count": null,
      "outputs": []
    },
    {
      "cell_type": "code",
      "execution_count": null,
      "id": "9532866e",
      "metadata": {
        "execution": {
          "iopub.execute_input": "2024-01-18T09:22:55.484656Z",
          "iopub.status.busy": "2024-01-18T09:22:55.484187Z",
          "iopub.status.idle": "2024-01-18T09:22:55.492995Z",
          "shell.execute_reply": "2024-01-18T09:22:55.491927Z"
        },
        "papermill": {
          "duration": 0.045908,
          "end_time": "2024-01-18T09:22:55.495495",
          "exception": false,
          "start_time": "2024-01-18T09:22:55.449587",
          "status": "completed"
        },
        "tags": [],
        "id": "9532866e"
      },
      "outputs": [],
      "source": [
        "scaler = StandardScaler().fit(X_train)\n",
        "X_train = scaler.transform(X_train)\n",
        "X_test = scaler.transform(X_test)"
      ]
    },
    {
      "cell_type": "code",
      "execution_count": null,
      "id": "06a6c6a0",
      "metadata": {
        "execution": {
          "iopub.execute_input": "2024-01-18T09:22:55.564562Z",
          "iopub.status.busy": "2024-01-18T09:22:55.564110Z",
          "iopub.status.idle": "2024-01-18T09:24:24.157478Z",
          "shell.execute_reply": "2024-01-18T09:24:24.156118Z"
        },
        "papermill": {
          "duration": 88.632613,
          "end_time": "2024-01-18T09:24:24.160281",
          "exception": false,
          "start_time": "2024-01-18T09:22:55.527668",
          "status": "completed"
        },
        "tags": [],
        "colab": {
          "base_uri": "https://localhost:8080/"
        },
        "id": "06a6c6a0",
        "outputId": "03ab695a-dcd3-4526-f508-2769eb1ac1bf"
      },
      "outputs": [
        {
          "output_type": "stream",
          "name": "stdout",
          "text": [
            "Epoch 1/100\n",
            "110/110 [==============================] - ETA: 0s - loss: 0.4908 - accuracy: 0.8194"
          ]
        },
        {
          "output_type": "stream",
          "name": "stderr",
          "text": [
            "WARNING:tensorflow:Early stopping conditioned on metric `val_loss` which is not available. Available metrics are: loss,accuracy\n"
          ]
        },
        {
          "output_type": "stream",
          "name": "stdout",
          "text": [
            "\b\b\b\b\b\b\b\b\b\b\b\b\b\b\b\b\b\b\b\b\b\b\b\b\b\b\b\b\b\b\b\b\b\b\b\b\b\b\b\b\b\b\b\b\b\b\b\b\b\b\b\b\b\b\b\b\b\b\b\b\b\b\b\b\b\b\b\b\b\b\b\b\b\b\b\b\b\b\b\b\b\b\b\b\r110/110 [==============================] - 7s 7ms/step - loss: 0.4908 - accuracy: 0.8194\n",
            "Epoch 2/100\n",
            "106/110 [===========================>..] - ETA: 0s - loss: 0.2722 - accuracy: 0.8774"
          ]
        },
        {
          "output_type": "stream",
          "name": "stderr",
          "text": [
            "WARNING:tensorflow:Early stopping conditioned on metric `val_loss` which is not available. Available metrics are: loss,accuracy\n"
          ]
        },
        {
          "output_type": "stream",
          "name": "stdout",
          "text": [
            "\b\b\b\b\b\b\b\b\b\b\b\b\b\b\b\b\b\b\b\b\b\b\b\b\b\b\b\b\b\b\b\b\b\b\b\b\b\b\b\b\b\b\b\b\b\b\b\b\b\b\b\b\b\b\b\b\b\b\b\b\b\b\b\b\b\b\b\b\b\b\b\b\b\b\b\b\b\b\b\b\b\b\b\b\r110/110 [==============================] - 1s 8ms/step - loss: 0.2696 - accuracy: 0.8792\n",
            "Epoch 3/100\n",
            "110/110 [==============================] - ETA: 0s - loss: 0.2220 - accuracy: 0.8975"
          ]
        },
        {
          "output_type": "stream",
          "name": "stderr",
          "text": [
            "WARNING:tensorflow:Early stopping conditioned on metric `val_loss` which is not available. Available metrics are: loss,accuracy\n"
          ]
        },
        {
          "output_type": "stream",
          "name": "stdout",
          "text": [
            "\b\b\b\b\b\b\b\b\b\b\b\b\b\b\b\b\b\b\b\b\b\b\b\b\b\b\b\b\b\b\b\b\b\b\b\b\b\b\b\b\b\b\b\b\b\b\b\b\b\b\b\b\b\b\b\b\b\b\b\b\b\b\b\b\b\b\b\b\b\b\b\b\b\b\b\b\b\b\b\b\b\b\b\b\r110/110 [==============================] - 1s 7ms/step - loss: 0.2220 - accuracy: 0.8975\n",
            "Epoch 4/100\n",
            "110/110 [==============================] - ETA: 0s - loss: 0.1955 - accuracy: 0.9095"
          ]
        },
        {
          "output_type": "stream",
          "name": "stderr",
          "text": [
            "WARNING:tensorflow:Early stopping conditioned on metric `val_loss` which is not available. Available metrics are: loss,accuracy\n"
          ]
        },
        {
          "output_type": "stream",
          "name": "stdout",
          "text": [
            "\b\b\b\b\b\b\b\b\b\b\b\b\b\b\b\b\b\b\b\b\b\b\b\b\b\b\b\b\b\b\b\b\b\b\b\b\b\b\b\b\b\b\b\b\b\b\b\b\b\b\b\b\b\b\b\b\b\b\b\b\b\b\b\b\b\b\b\b\b\b\b\b\b\b\b\b\b\b\b\b\b\b\b\b\r110/110 [==============================] - 1s 8ms/step - loss: 0.1955 - accuracy: 0.9095\n",
            "Epoch 5/100\n",
            "109/110 [============================>.] - ETA: 0s - loss: 0.1775 - accuracy: 0.9226"
          ]
        },
        {
          "output_type": "stream",
          "name": "stderr",
          "text": [
            "WARNING:tensorflow:Early stopping conditioned on metric `val_loss` which is not available. Available metrics are: loss,accuracy\n"
          ]
        },
        {
          "output_type": "stream",
          "name": "stdout",
          "text": [
            "\b\b\b\b\b\b\b\b\b\b\b\b\b\b\b\b\b\b\b\b\b\b\b\b\b\b\b\b\b\b\b\b\b\b\b\b\b\b\b\b\b\b\b\b\b\b\b\b\b\b\b\b\b\b\b\b\b\b\b\b\b\b\b\b\b\b\b\b\b\b\b\b\b\b\b\b\b\b\b\b\b\b\b\b\r110/110 [==============================] - 1s 8ms/step - loss: 0.1774 - accuracy: 0.9227\n",
            "Epoch 6/100\n",
            "108/110 [============================>.] - ETA: 0s - loss: 0.1698 - accuracy: 0.9308"
          ]
        },
        {
          "output_type": "stream",
          "name": "stderr",
          "text": [
            "WARNING:tensorflow:Early stopping conditioned on metric `val_loss` which is not available. Available metrics are: loss,accuracy\n"
          ]
        },
        {
          "output_type": "stream",
          "name": "stdout",
          "text": [
            "\b\b\b\b\b\b\b\b\b\b\b\b\b\b\b\b\b\b\b\b\b\b\b\b\b\b\b\b\b\b\b\b\b\b\b\b\b\b\b\b\b\b\b\b\b\b\b\b\b\b\b\b\b\b\b\b\b\b\b\b\b\b\b\b\b\b\b\b\b\b\b\b\b\b\b\b\b\b\b\b\b\b\b\b\r110/110 [==============================] - 1s 8ms/step - loss: 0.1704 - accuracy: 0.9304\n",
            "Epoch 7/100\n",
            "107/110 [============================>.] - ETA: 0s - loss: 0.1620 - accuracy: 0.9360"
          ]
        },
        {
          "output_type": "stream",
          "name": "stderr",
          "text": [
            "WARNING:tensorflow:Early stopping conditioned on metric `val_loss` which is not available. Available metrics are: loss,accuracy\n"
          ]
        },
        {
          "output_type": "stream",
          "name": "stdout",
          "text": [
            "\b\b\b\b\b\b\b\b\b\b\b\b\b\b\b\b\b\b\b\b\b\b\b\b\b\b\b\b\b\b\b\b\b\b\b\b\b\b\b\b\b\b\b\b\b\b\b\b\b\b\b\b\b\b\b\b\b\b\b\b\b\b\b\b\b\b\b\b\b\b\b\b\b\b\b\b\b\b\b\b\b\b\b\b\r110/110 [==============================] - 1s 6ms/step - loss: 0.1625 - accuracy: 0.9359\n",
            "Epoch 8/100\n",
            "107/110 [============================>.] - ETA: 0s - loss: 0.1639 - accuracy: 0.9352"
          ]
        },
        {
          "output_type": "stream",
          "name": "stderr",
          "text": [
            "WARNING:tensorflow:Early stopping conditioned on metric `val_loss` which is not available. Available metrics are: loss,accuracy\n"
          ]
        },
        {
          "output_type": "stream",
          "name": "stdout",
          "text": [
            "\b\b\b\b\b\b\b\b\b\b\b\b\b\b\b\b\b\b\b\b\b\b\b\b\b\b\b\b\b\b\b\b\b\b\b\b\b\b\b\b\b\b\b\b\b\b\b\b\b\b\b\b\b\b\b\b\b\b\b\b\b\b\b\b\b\b\b\b\b\b\b\b\b\b\b\b\b\b\b\b\b\b\b\b\r110/110 [==============================] - 1s 5ms/step - loss: 0.1624 - accuracy: 0.9356\n",
            "Epoch 9/100\n",
            "103/110 [===========================>..] - ETA: 0s - loss: 0.1563 - accuracy: 0.9399"
          ]
        },
        {
          "output_type": "stream",
          "name": "stderr",
          "text": [
            "WARNING:tensorflow:Early stopping conditioned on metric `val_loss` which is not available. Available metrics are: loss,accuracy\n"
          ]
        },
        {
          "output_type": "stream",
          "name": "stdout",
          "text": [
            "\b\b\b\b\b\b\b\b\b\b\b\b\b\b\b\b\b\b\b\b\b\b\b\b\b\b\b\b\b\b\b\b\b\b\b\b\b\b\b\b\b\b\b\b\b\b\b\b\b\b\b\b\b\b\b\b\b\b\b\b\b\b\b\b\b\b\b\b\b\b\b\b\b\b\b\b\b\b\b\b\b\b\b\b\r110/110 [==============================] - 1s 6ms/step - loss: 0.1555 - accuracy: 0.9399\n",
            "Epoch 10/100\n",
            "109/110 [============================>.] - ETA: 0s - loss: 0.1506 - accuracy: 0.9404"
          ]
        },
        {
          "output_type": "stream",
          "name": "stderr",
          "text": [
            "WARNING:tensorflow:Early stopping conditioned on metric `val_loss` which is not available. Available metrics are: loss,accuracy\n"
          ]
        },
        {
          "output_type": "stream",
          "name": "stdout",
          "text": [
            "\b\b\b\b\b\b\b\b\b\b\b\b\b\b\b\b\b\b\b\b\b\b\b\b\b\b\b\b\b\b\b\b\b\b\b\b\b\b\b\b\b\b\b\b\b\b\b\b\b\b\b\b\b\b\b\b\b\b\b\b\b\b\b\b\b\b\b\b\b\b\b\b\b\b\b\b\b\b\b\b\b\b\b\b\r110/110 [==============================] - 1s 5ms/step - loss: 0.1504 - accuracy: 0.9405\n",
            "Epoch 11/100\n",
            "103/110 [===========================>..] - ETA: 0s - loss: 0.1463 - accuracy: 0.9433"
          ]
        },
        {
          "output_type": "stream",
          "name": "stderr",
          "text": [
            "WARNING:tensorflow:Early stopping conditioned on metric `val_loss` which is not available. Available metrics are: loss,accuracy\n"
          ]
        },
        {
          "output_type": "stream",
          "name": "stdout",
          "text": [
            "\b\b\b\b\b\b\b\b\b\b\b\b\b\b\b\b\b\b\b\b\b\b\b\b\b\b\b\b\b\b\b\b\b\b\b\b\b\b\b\b\b\b\b\b\b\b\b\b\b\b\b\b\b\b\b\b\b\b\b\b\b\b\b\b\b\b\b\b\b\b\b\b\b\b\b\b\b\b\b\b\b\b\b\b\r110/110 [==============================] - 1s 6ms/step - loss: 0.1475 - accuracy: 0.9425\n",
            "Epoch 12/100\n",
            "109/110 [============================>.] - ETA: 0s - loss: 0.1466 - accuracy: 0.9438"
          ]
        },
        {
          "output_type": "stream",
          "name": "stderr",
          "text": [
            "WARNING:tensorflow:Early stopping conditioned on metric `val_loss` which is not available. Available metrics are: loss,accuracy\n"
          ]
        },
        {
          "output_type": "stream",
          "name": "stdout",
          "text": [
            "\b\b\b\b\b\b\b\b\b\b\b\b\b\b\b\b\b\b\b\b\b\b\b\b\b\b\b\b\b\b\b\b\b\b\b\b\b\b\b\b\b\b\b\b\b\b\b\b\b\b\b\b\b\b\b\b\b\b\b\b\b\b\b\b\b\b\b\b\b\b\b\b\b\b\b\b\b\b\b\b\b\b\b\b\r110/110 [==============================] - 1s 5ms/step - loss: 0.1466 - accuracy: 0.9439\n",
            "Epoch 13/100\n",
            "108/110 [============================>.] - ETA: 0s - loss: 0.1453 - accuracy: 0.9430"
          ]
        },
        {
          "output_type": "stream",
          "name": "stderr",
          "text": [
            "WARNING:tensorflow:Early stopping conditioned on metric `val_loss` which is not available. Available metrics are: loss,accuracy\n"
          ]
        },
        {
          "output_type": "stream",
          "name": "stdout",
          "text": [
            "\b\b\b\b\b\b\b\b\b\b\b\b\b\b\b\b\b\b\b\b\b\b\b\b\b\b\b\b\b\b\b\b\b\b\b\b\b\b\b\b\b\b\b\b\b\b\b\b\b\b\b\b\b\b\b\b\b\b\b\b\b\b\b\b\b\b\b\b\b\b\b\b\b\b\b\b\b\b\b\b\b\b\b\b\r110/110 [==============================] - 1s 5ms/step - loss: 0.1456 - accuracy: 0.9427\n",
            "Epoch 14/100\n",
            "109/110 [============================>.] - ETA: 0s - loss: 0.1445 - accuracy: 0.9458"
          ]
        },
        {
          "output_type": "stream",
          "name": "stderr",
          "text": [
            "WARNING:tensorflow:Early stopping conditioned on metric `val_loss` which is not available. Available metrics are: loss,accuracy\n"
          ]
        },
        {
          "output_type": "stream",
          "name": "stdout",
          "text": [
            "\b\b\b\b\b\b\b\b\b\b\b\b\b\b\b\b\b\b\b\b\b\b\b\b\b\b\b\b\b\b\b\b\b\b\b\b\b\b\b\b\b\b\b\b\b\b\b\b\b\b\b\b\b\b\b\b\b\b\b\b\b\b\b\b\b\b\b\b\b\b\b\b\b\b\b\b\b\b\b\b\b\b\b\b\r110/110 [==============================] - 1s 6ms/step - loss: 0.1444 - accuracy: 0.9459\n",
            "Epoch 15/100\n",
            "104/110 [===========================>..] - ETA: 0s - loss: 0.1419 - accuracy: 0.9417"
          ]
        },
        {
          "output_type": "stream",
          "name": "stderr",
          "text": [
            "WARNING:tensorflow:Early stopping conditioned on metric `val_loss` which is not available. Available metrics are: loss,accuracy\n"
          ]
        },
        {
          "output_type": "stream",
          "name": "stdout",
          "text": [
            "\b\b\b\b\b\b\b\b\b\b\b\b\b\b\b\b\b\b\b\b\b\b\b\b\b\b\b\b\b\b\b\b\b\b\b\b\b\b\b\b\b\b\b\b\b\b\b\b\b\b\b\b\b\b\b\b\b\b\b\b\b\b\b\b\b\b\b\b\b\b\b\b\b\b\b\b\b\b\b\b\b\b\b\b\r110/110 [==============================] - 1s 6ms/step - loss: 0.1420 - accuracy: 0.9416\n",
            "Epoch 16/100\n",
            "107/110 [============================>.] - ETA: 0s - loss: 0.1431 - accuracy: 0.9468"
          ]
        },
        {
          "output_type": "stream",
          "name": "stderr",
          "text": [
            "WARNING:tensorflow:Early stopping conditioned on metric `val_loss` which is not available. Available metrics are: loss,accuracy\n"
          ]
        },
        {
          "output_type": "stream",
          "name": "stdout",
          "text": [
            "\b\b\b\b\b\b\b\b\b\b\b\b\b\b\b\b\b\b\b\b\b\b\b\b\b\b\b\b\b\b\b\b\b\b\b\b\b\b\b\b\b\b\b\b\b\b\b\b\b\b\b\b\b\b\b\b\b\b\b\b\b\b\b\b\b\b\b\b\b\b\b\b\b\b\b\b\b\b\b\b\b\b\b\b\r110/110 [==============================] - 1s 5ms/step - loss: 0.1438 - accuracy: 0.9462\n",
            "Epoch 17/100\n",
            "104/110 [===========================>..] - ETA: 0s - loss: 0.1347 - accuracy: 0.9480"
          ]
        },
        {
          "output_type": "stream",
          "name": "stderr",
          "text": [
            "WARNING:tensorflow:Early stopping conditioned on metric `val_loss` which is not available. Available metrics are: loss,accuracy\n"
          ]
        },
        {
          "output_type": "stream",
          "name": "stdout",
          "text": [
            "\b\b\b\b\b\b\b\b\b\b\b\b\b\b\b\b\b\b\b\b\b\b\b\b\b\b\b\b\b\b\b\b\b\b\b\b\b\b\b\b\b\b\b\b\b\b\b\b\b\b\b\b\b\b\b\b\b\b\b\b\b\b\b\b\b\b\b\b\b\b\b\b\b\b\b\b\b\b\b\b\b\b\b\b\r110/110 [==============================] - 1s 6ms/step - loss: 0.1370 - accuracy: 0.9465\n",
            "Epoch 18/100\n",
            "101/110 [==========================>...] - ETA: 0s - loss: 0.1398 - accuracy: 0.9471"
          ]
        },
        {
          "output_type": "stream",
          "name": "stderr",
          "text": [
            "WARNING:tensorflow:Early stopping conditioned on metric `val_loss` which is not available. Available metrics are: loss,accuracy\n"
          ]
        },
        {
          "output_type": "stream",
          "name": "stdout",
          "text": [
            "\b\b\b\b\b\b\b\b\b\b\b\b\b\b\b\b\b\b\b\b\b\b\b\b\b\b\b\b\b\b\b\b\b\b\b\b\b\b\b\b\b\b\b\b\b\b\b\b\b\b\b\b\b\b\b\b\b\b\b\b\b\b\b\b\b\b\b\b\b\b\b\b\b\b\b\b\b\b\b\b\b\b\b\b\r110/110 [==============================] - 1s 6ms/step - loss: 0.1376 - accuracy: 0.9468\n",
            "Epoch 19/100\n",
            "106/110 [===========================>..] - ETA: 0s - loss: 0.1347 - accuracy: 0.9481"
          ]
        },
        {
          "output_type": "stream",
          "name": "stderr",
          "text": [
            "WARNING:tensorflow:Early stopping conditioned on metric `val_loss` which is not available. Available metrics are: loss,accuracy\n"
          ]
        },
        {
          "output_type": "stream",
          "name": "stdout",
          "text": [
            "\b\b\b\b\b\b\b\b\b\b\b\b\b\b\b\b\b\b\b\b\b\b\b\b\b\b\b\b\b\b\b\b\b\b\b\b\b\b\b\b\b\b\b\b\b\b\b\b\b\b\b\b\b\b\b\b\b\b\b\b\b\b\b\b\b\b\b\b\b\b\b\b\b\b\b\b\b\b\b\b\b\b\b\b\r110/110 [==============================] - 1s 6ms/step - loss: 0.1346 - accuracy: 0.9482\n",
            "Epoch 20/100\n",
            "109/110 [============================>.] - ETA: 0s - loss: 0.1311 - accuracy: 0.9484"
          ]
        },
        {
          "output_type": "stream",
          "name": "stderr",
          "text": [
            "WARNING:tensorflow:Early stopping conditioned on metric `val_loss` which is not available. Available metrics are: loss,accuracy\n"
          ]
        },
        {
          "output_type": "stream",
          "name": "stdout",
          "text": [
            "\b\b\b\b\b\b\b\b\b\b\b\b\b\b\b\b\b\b\b\b\b\b\b\b\b\b\b\b\b\b\b\b\b\b\b\b\b\b\b\b\b\b\b\b\b\b\b\b\b\b\b\b\b\b\b\b\b\b\b\b\b\b\b\b\b\b\b\b\b\b\b\b\b\b\b\b\b\b\b\b\b\b\b\b\r110/110 [==============================] - 1s 6ms/step - loss: 0.1315 - accuracy: 0.9482\n",
            "Epoch 21/100\n",
            "102/110 [==========================>...] - ETA: 0s - loss: 0.1303 - accuracy: 0.9510"
          ]
        },
        {
          "output_type": "stream",
          "name": "stderr",
          "text": [
            "WARNING:tensorflow:Early stopping conditioned on metric `val_loss` which is not available. Available metrics are: loss,accuracy\n"
          ]
        },
        {
          "output_type": "stream",
          "name": "stdout",
          "text": [
            "\b\b\b\b\b\b\b\b\b\b\b\b\b\b\b\b\b\b\b\b\b\b\b\b\b\b\b\b\b\b\b\b\b\b\b\b\b\b\b\b\b\b\b\b\b\b\b\b\b\b\b\b\b\b\b\b\b\b\b\b\b\b\b\b\b\b\b\b\b\b\b\b\b\b\b\b\b\b\b\b\b\b\b\b\r110/110 [==============================] - 1s 6ms/step - loss: 0.1315 - accuracy: 0.9496\n",
            "Epoch 22/100\n",
            "105/110 [===========================>..] - ETA: 0s - loss: 0.1299 - accuracy: 0.9461"
          ]
        },
        {
          "output_type": "stream",
          "name": "stderr",
          "text": [
            "WARNING:tensorflow:Early stopping conditioned on metric `val_loss` which is not available. Available metrics are: loss,accuracy\n"
          ]
        },
        {
          "output_type": "stream",
          "name": "stdout",
          "text": [
            "\b\b\b\b\b\b\b\b\b\b\b\b\b\b\b\b\b\b\b\b\b\b\b\b\b\b\b\b\b\b\b\b\b\b\b\b\b\b\b\b\b\b\b\b\b\b\b\b\b\b\b\b\b\b\b\b\b\b\b\b\b\b\b\b\b\b\b\b\b\b\b\b\b\b\b\b\b\b\b\b\b\b\b\b\r110/110 [==============================] - 1s 6ms/step - loss: 0.1280 - accuracy: 0.9476\n",
            "Epoch 23/100\n",
            "106/110 [===========================>..] - ETA: 0s - loss: 0.1249 - accuracy: 0.9519"
          ]
        },
        {
          "output_type": "stream",
          "name": "stderr",
          "text": [
            "WARNING:tensorflow:Early stopping conditioned on metric `val_loss` which is not available. Available metrics are: loss,accuracy\n"
          ]
        },
        {
          "output_type": "stream",
          "name": "stdout",
          "text": [
            "\b\b\b\b\b\b\b\b\b\b\b\b\b\b\b\b\b\b\b\b\b\b\b\b\b\b\b\b\b\b\b\b\b\b\b\b\b\b\b\b\b\b\b\b\b\b\b\b\b\b\b\b\b\b\b\b\b\b\b\b\b\b\b\b\b\b\b\b\b\b\b\b\b\b\b\b\b\b\b\b\b\b\b\b\r110/110 [==============================] - 1s 8ms/step - loss: 0.1261 - accuracy: 0.9510\n",
            "Epoch 24/100\n",
            "110/110 [==============================] - ETA: 0s - loss: 0.1224 - accuracy: 0.9502"
          ]
        },
        {
          "output_type": "stream",
          "name": "stderr",
          "text": [
            "WARNING:tensorflow:Early stopping conditioned on metric `val_loss` which is not available. Available metrics are: loss,accuracy\n"
          ]
        },
        {
          "output_type": "stream",
          "name": "stdout",
          "text": [
            "\b\b\b\b\b\b\b\b\b\b\b\b\b\b\b\b\b\b\b\b\b\b\b\b\b\b\b\b\b\b\b\b\b\b\b\b\b\b\b\b\b\b\b\b\b\b\b\b\b\b\b\b\b\b\b\b\b\b\b\b\b\b\b\b\b\b\b\b\b\b\b\b\b\b\b\b\b\b\b\b\b\b\b\b\r110/110 [==============================] - 1s 8ms/step - loss: 0.1224 - accuracy: 0.9502\n",
            "Epoch 25/100\n",
            "107/110 [============================>.] - ETA: 0s - loss: 0.1160 - accuracy: 0.9544"
          ]
        },
        {
          "output_type": "stream",
          "name": "stderr",
          "text": [
            "WARNING:tensorflow:Early stopping conditioned on metric `val_loss` which is not available. Available metrics are: loss,accuracy\n"
          ]
        },
        {
          "output_type": "stream",
          "name": "stdout",
          "text": [
            "\b\b\b\b\b\b\b\b\b\b\b\b\b\b\b\b\b\b\b\b\b\b\b\b\b\b\b\b\b\b\b\b\b\b\b\b\b\b\b\b\b\b\b\b\b\b\b\b\b\b\b\b\b\b\b\b\b\b\b\b\b\b\b\b\b\b\b\b\b\b\b\b\b\b\b\b\b\b\b\b\b\b\b\b\r110/110 [==============================] - 1s 8ms/step - loss: 0.1169 - accuracy: 0.9539\n",
            "Epoch 26/100\n",
            "109/110 [============================>.] - ETA: 0s - loss: 0.1185 - accuracy: 0.9538"
          ]
        },
        {
          "output_type": "stream",
          "name": "stderr",
          "text": [
            "WARNING:tensorflow:Early stopping conditioned on metric `val_loss` which is not available. Available metrics are: loss,accuracy\n"
          ]
        },
        {
          "output_type": "stream",
          "name": "stdout",
          "text": [
            "\b\b\b\b\b\b\b\b\b\b\b\b\b\b\b\b\b\b\b\b\b\b\b\b\b\b\b\b\b\b\b\b\b\b\b\b\b\b\b\b\b\b\b\b\b\b\b\b\b\b\b\b\b\b\b\b\b\b\b\b\b\b\b\b\b\b\b\b\b\b\b\b\b\b\b\b\b\b\b\b\b\b\b\b\r110/110 [==============================] - 1s 8ms/step - loss: 0.1183 - accuracy: 0.9539\n",
            "Epoch 27/100\n",
            "105/110 [===========================>..] - ETA: 0s - loss: 0.1179 - accuracy: 0.9536"
          ]
        },
        {
          "output_type": "stream",
          "name": "stderr",
          "text": [
            "WARNING:tensorflow:Early stopping conditioned on metric `val_loss` which is not available. Available metrics are: loss,accuracy\n"
          ]
        },
        {
          "output_type": "stream",
          "name": "stdout",
          "text": [
            "\b\b\b\b\b\b\b\b\b\b\b\b\b\b\b\b\b\b\b\b\b\b\b\b\b\b\b\b\b\b\b\b\b\b\b\b\b\b\b\b\b\b\b\b\b\b\b\b\b\b\b\b\b\b\b\b\b\b\b\b\b\b\b\b\b\b\b\b\b\b\b\b\b\b\b\b\b\b\b\b\b\b\b\b\r110/110 [==============================] - 1s 8ms/step - loss: 0.1165 - accuracy: 0.9539\n",
            "Epoch 28/100\n",
            "105/110 [===========================>..] - ETA: 0s - loss: 0.1121 - accuracy: 0.9560"
          ]
        },
        {
          "output_type": "stream",
          "name": "stderr",
          "text": [
            "WARNING:tensorflow:Early stopping conditioned on metric `val_loss` which is not available. Available metrics are: loss,accuracy\n"
          ]
        },
        {
          "output_type": "stream",
          "name": "stdout",
          "text": [
            "\b\b\b\b\b\b\b\b\b\b\b\b\b\b\b\b\b\b\b\b\b\b\b\b\b\b\b\b\b\b\b\b\b\b\b\b\b\b\b\b\b\b\b\b\b\b\b\b\b\b\b\b\b\b\b\b\b\b\b\b\b\b\b\b\b\b\b\b\b\b\b\b\b\b\b\b\b\b\b\b\b\b\b\b\r110/110 [==============================] - 1s 8ms/step - loss: 0.1124 - accuracy: 0.9565\n",
            "Epoch 29/100\n",
            "109/110 [============================>.] - ETA: 0s - loss: 0.1111 - accuracy: 0.9556"
          ]
        },
        {
          "output_type": "stream",
          "name": "stderr",
          "text": [
            "WARNING:tensorflow:Early stopping conditioned on metric `val_loss` which is not available. Available metrics are: loss,accuracy\n"
          ]
        },
        {
          "output_type": "stream",
          "name": "stdout",
          "text": [
            "\b\b\b\b\b\b\b\b\b\b\b\b\b\b\b\b\b\b\b\b\b\b\b\b\b\b\b\b\b\b\b\b\b\b\b\b\b\b\b\b\b\b\b\b\b\b\b\b\b\b\b\b\b\b\b\b\b\b\b\b\b\b\b\b\b\b\b\b\b\b\b\b\b\b\b\b\b\b\b\b\b\b\b\b\r110/110 [==============================] - 1s 6ms/step - loss: 0.1110 - accuracy: 0.9556\n",
            "Epoch 30/100\n",
            "110/110 [==============================] - ETA: 0s - loss: 0.1126 - accuracy: 0.9536"
          ]
        },
        {
          "output_type": "stream",
          "name": "stderr",
          "text": [
            "WARNING:tensorflow:Early stopping conditioned on metric `val_loss` which is not available. Available metrics are: loss,accuracy\n"
          ]
        },
        {
          "output_type": "stream",
          "name": "stdout",
          "text": [
            "\b\b\b\b\b\b\b\b\b\b\b\b\b\b\b\b\b\b\b\b\b\b\b\b\b\b\b\b\b\b\b\b\b\b\b\b\b\b\b\b\b\b\b\b\b\b\b\b\b\b\b\b\b\b\b\b\b\b\b\b\b\b\b\b\b\b\b\b\b\b\b\b\b\b\b\b\b\b\b\b\b\b\b\b\r110/110 [==============================] - 1s 6ms/step - loss: 0.1126 - accuracy: 0.9536\n",
            "Epoch 31/100\n",
            "108/110 [============================>.] - ETA: 0s - loss: 0.1080 - accuracy: 0.9586"
          ]
        },
        {
          "output_type": "stream",
          "name": "stderr",
          "text": [
            "WARNING:tensorflow:Early stopping conditioned on metric `val_loss` which is not available. Available metrics are: loss,accuracy\n"
          ]
        },
        {
          "output_type": "stream",
          "name": "stdout",
          "text": [
            "\b\b\b\b\b\b\b\b\b\b\b\b\b\b\b\b\b\b\b\b\b\b\b\b\b\b\b\b\b\b\b\b\b\b\b\b\b\b\b\b\b\b\b\b\b\b\b\b\b\b\b\b\b\b\b\b\b\b\b\b\b\b\b\b\b\b\b\b\b\b\b\b\b\b\b\b\b\b\b\b\b\b\b\b\r110/110 [==============================] - 1s 6ms/step - loss: 0.1074 - accuracy: 0.9588\n",
            "Epoch 32/100\n",
            "105/110 [===========================>..] - ETA: 0s - loss: 0.1022 - accuracy: 0.9583"
          ]
        },
        {
          "output_type": "stream",
          "name": "stderr",
          "text": [
            "WARNING:tensorflow:Early stopping conditioned on metric `val_loss` which is not available. Available metrics are: loss,accuracy\n"
          ]
        },
        {
          "output_type": "stream",
          "name": "stdout",
          "text": [
            "\b\b\b\b\b\b\b\b\b\b\b\b\b\b\b\b\b\b\b\b\b\b\b\b\b\b\b\b\b\b\b\b\b\b\b\b\b\b\b\b\b\b\b\b\b\b\b\b\b\b\b\b\b\b\b\b\b\b\b\b\b\b\b\b\b\b\b\b\b\b\b\b\b\b\b\b\b\b\b\b\b\b\b\b\r110/110 [==============================] - 1s 6ms/step - loss: 0.1039 - accuracy: 0.9576\n",
            "Epoch 33/100\n",
            "104/110 [===========================>..] - ETA: 0s - loss: 0.1003 - accuracy: 0.9606"
          ]
        },
        {
          "output_type": "stream",
          "name": "stderr",
          "text": [
            "WARNING:tensorflow:Early stopping conditioned on metric `val_loss` which is not available. Available metrics are: loss,accuracy\n"
          ]
        },
        {
          "output_type": "stream",
          "name": "stdout",
          "text": [
            "\b\b\b\b\b\b\b\b\b\b\b\b\b\b\b\b\b\b\b\b\b\b\b\b\b\b\b\b\b\b\b\b\b\b\b\b\b\b\b\b\b\b\b\b\b\b\b\b\b\b\b\b\b\b\b\b\b\b\b\b\b\b\b\b\b\b\b\b\b\b\b\b\b\b\b\b\b\b\b\b\b\b\b\b\r110/110 [==============================] - 1s 6ms/step - loss: 0.0998 - accuracy: 0.9608\n",
            "Epoch 34/100\n",
            "110/110 [==============================] - ETA: 0s - loss: 0.0992 - accuracy: 0.9616"
          ]
        },
        {
          "output_type": "stream",
          "name": "stderr",
          "text": [
            "WARNING:tensorflow:Early stopping conditioned on metric `val_loss` which is not available. Available metrics are: loss,accuracy\n"
          ]
        },
        {
          "output_type": "stream",
          "name": "stdout",
          "text": [
            "\b\b\b\b\b\b\b\b\b\b\b\b\b\b\b\b\b\b\b\b\b\b\b\b\b\b\b\b\b\b\b\b\b\b\b\b\b\b\b\b\b\b\b\b\b\b\b\b\b\b\b\b\b\b\b\b\b\b\b\b\b\b\b\b\b\b\b\b\b\b\b\b\b\b\b\b\b\b\b\b\b\b\b\b\r110/110 [==============================] - 1s 6ms/step - loss: 0.0992 - accuracy: 0.9616\n",
            "Epoch 35/100\n",
            "107/110 [============================>.] - ETA: 0s - loss: 0.0989 - accuracy: 0.9597"
          ]
        },
        {
          "output_type": "stream",
          "name": "stderr",
          "text": [
            "WARNING:tensorflow:Early stopping conditioned on metric `val_loss` which is not available. Available metrics are: loss,accuracy\n"
          ]
        },
        {
          "output_type": "stream",
          "name": "stdout",
          "text": [
            "\b\b\b\b\b\b\b\b\b\b\b\b\b\b\b\b\b\b\b\b\b\b\b\b\b\b\b\b\b\b\b\b\b\b\b\b\b\b\b\b\b\b\b\b\b\b\b\b\b\b\b\b\b\b\b\b\b\b\b\b\b\b\b\b\b\b\b\b\b\b\b\b\b\b\b\b\b\b\b\b\b\b\b\b\r110/110 [==============================] - 1s 6ms/step - loss: 0.0978 - accuracy: 0.9602\n",
            "Epoch 36/100\n",
            "109/110 [============================>.] - ETA: 0s - loss: 0.0986 - accuracy: 0.9604"
          ]
        },
        {
          "output_type": "stream",
          "name": "stderr",
          "text": [
            "WARNING:tensorflow:Early stopping conditioned on metric `val_loss` which is not available. Available metrics are: loss,accuracy\n"
          ]
        },
        {
          "output_type": "stream",
          "name": "stdout",
          "text": [
            "\b\b\b\b\b\b\b\b\b\b\b\b\b\b\b\b\b\b\b\b\b\b\b\b\b\b\b\b\b\b\b\b\b\b\b\b\b\b\b\b\b\b\b\b\b\b\b\b\b\b\b\b\b\b\b\b\b\b\b\b\b\b\b\b\b\b\b\b\b\b\b\b\b\b\b\b\b\b\b\b\b\b\b\b\r110/110 [==============================] - 1s 5ms/step - loss: 0.0987 - accuracy: 0.9605\n",
            "Epoch 37/100\n",
            "110/110 [==============================] - ETA: 0s - loss: 0.0978 - accuracy: 0.9602"
          ]
        },
        {
          "output_type": "stream",
          "name": "stderr",
          "text": [
            "WARNING:tensorflow:Early stopping conditioned on metric `val_loss` which is not available. Available metrics are: loss,accuracy\n"
          ]
        },
        {
          "output_type": "stream",
          "name": "stdout",
          "text": [
            "\b\b\b\b\b\b\b\b\b\b\b\b\b\b\b\b\b\b\b\b\b\b\b\b\b\b\b\b\b\b\b\b\b\b\b\b\b\b\b\b\b\b\b\b\b\b\b\b\b\b\b\b\b\b\b\b\b\b\b\b\b\b\b\b\b\b\b\b\b\b\b\b\b\b\b\b\b\b\b\b\b\b\b\b\r110/110 [==============================] - 1s 6ms/step - loss: 0.0978 - accuracy: 0.9602\n",
            "Epoch 38/100\n",
            "108/110 [============================>.] - ETA: 0s - loss: 0.0954 - accuracy: 0.9630"
          ]
        },
        {
          "output_type": "stream",
          "name": "stderr",
          "text": [
            "WARNING:tensorflow:Early stopping conditioned on metric `val_loss` which is not available. Available metrics are: loss,accuracy\n"
          ]
        },
        {
          "output_type": "stream",
          "name": "stdout",
          "text": [
            "\b\b\b\b\b\b\b\b\b\b\b\b\b\b\b\b\b\b\b\b\b\b\b\b\b\b\b\b\b\b\b\b\b\b\b\b\b\b\b\b\b\b\b\b\b\b\b\b\b\b\b\b\b\b\b\b\b\b\b\b\b\b\b\b\b\b\b\b\b\b\b\b\b\b\b\b\b\b\b\b\b\b\b\b\r110/110 [==============================] - 1s 6ms/step - loss: 0.0959 - accuracy: 0.9625\n",
            "Epoch 39/100\n",
            "107/110 [============================>.] - ETA: 0s - loss: 0.0954 - accuracy: 0.9629"
          ]
        },
        {
          "output_type": "stream",
          "name": "stderr",
          "text": [
            "WARNING:tensorflow:Early stopping conditioned on metric `val_loss` which is not available. Available metrics are: loss,accuracy\n"
          ]
        },
        {
          "output_type": "stream",
          "name": "stdout",
          "text": [
            "\b\b\b\b\b\b\b\b\b\b\b\b\b\b\b\b\b\b\b\b\b\b\b\b\b\b\b\b\b\b\b\b\b\b\b\b\b\b\b\b\b\b\b\b\b\b\b\b\b\b\b\b\b\b\b\b\b\b\b\b\b\b\b\b\b\b\b\b\b\b\b\b\b\b\b\b\b\b\b\b\b\b\b\b\r110/110 [==============================] - 1s 6ms/step - loss: 0.0946 - accuracy: 0.9636\n",
            "Epoch 40/100\n",
            "105/110 [===========================>..] - ETA: 0s - loss: 0.0914 - accuracy: 0.9592"
          ]
        },
        {
          "output_type": "stream",
          "name": "stderr",
          "text": [
            "WARNING:tensorflow:Early stopping conditioned on metric `val_loss` which is not available. Available metrics are: loss,accuracy\n"
          ]
        },
        {
          "output_type": "stream",
          "name": "stdout",
          "text": [
            "\b\b\b\b\b\b\b\b\b\b\b\b\b\b\b\b\b\b\b\b\b\b\b\b\b\b\b\b\b\b\b\b\b\b\b\b\b\b\b\b\b\b\b\b\b\b\b\b\b\b\b\b\b\b\b\b\b\b\b\b\b\b\b\b\b\b\b\b\b\b\b\b\b\b\b\b\b\b\b\b\b\b\b\b\r110/110 [==============================] - 1s 6ms/step - loss: 0.0929 - accuracy: 0.9588\n",
            "Epoch 41/100\n",
            "108/110 [============================>.] - ETA: 0s - loss: 0.0917 - accuracy: 0.9633"
          ]
        },
        {
          "output_type": "stream",
          "name": "stderr",
          "text": [
            "WARNING:tensorflow:Early stopping conditioned on metric `val_loss` which is not available. Available metrics are: loss,accuracy\n"
          ]
        },
        {
          "output_type": "stream",
          "name": "stdout",
          "text": [
            "\b\b\b\b\b\b\b\b\b\b\b\b\b\b\b\b\b\b\b\b\b\b\b\b\b\b\b\b\b\b\b\b\b\b\b\b\b\b\b\b\b\b\b\b\b\b\b\b\b\b\b\b\b\b\b\b\b\b\b\b\b\b\b\b\b\b\b\b\b\b\b\b\b\b\b\b\b\b\b\b\b\b\b\b\r110/110 [==============================] - 1s 6ms/step - loss: 0.0921 - accuracy: 0.9631\n",
            "Epoch 42/100\n",
            "103/110 [===========================>..] - ETA: 0s - loss: 0.0902 - accuracy: 0.9624"
          ]
        },
        {
          "output_type": "stream",
          "name": "stderr",
          "text": [
            "WARNING:tensorflow:Early stopping conditioned on metric `val_loss` which is not available. Available metrics are: loss,accuracy\n"
          ]
        },
        {
          "output_type": "stream",
          "name": "stdout",
          "text": [
            "\b\b\b\b\b\b\b\b\b\b\b\b\b\b\b\b\b\b\b\b\b\b\b\b\b\b\b\b\b\b\b\b\b\b\b\b\b\b\b\b\b\b\b\b\b\b\b\b\b\b\b\b\b\b\b\b\b\b\b\b\b\b\b\b\b\b\b\b\b\b\b\b\b\b\b\b\b\b\b\b\b\b\b\b\r110/110 [==============================] - 1s 6ms/step - loss: 0.0887 - accuracy: 0.9628\n",
            "Epoch 43/100\n",
            "105/110 [===========================>..] - ETA: 0s - loss: 0.0882 - accuracy: 0.9628"
          ]
        },
        {
          "output_type": "stream",
          "name": "stderr",
          "text": [
            "WARNING:tensorflow:Early stopping conditioned on metric `val_loss` which is not available. Available metrics are: loss,accuracy\n"
          ]
        },
        {
          "output_type": "stream",
          "name": "stdout",
          "text": [
            "\b\b\b\b\b\b\b\b\b\b\b\b\b\b\b\b\b\b\b\b\b\b\b\b\b\b\b\b\b\b\b\b\b\b\b\b\b\b\b\b\b\b\b\b\b\b\b\b\b\b\b\b\b\b\b\b\b\b\b\b\b\b\b\b\b\b\b\b\b\b\b\b\b\b\b\b\b\b\b\b\b\b\b\b\r110/110 [==============================] - 1s 6ms/step - loss: 0.0882 - accuracy: 0.9628\n",
            "Epoch 44/100\n",
            "104/110 [===========================>..] - ETA: 0s - loss: 0.0863 - accuracy: 0.9624"
          ]
        },
        {
          "output_type": "stream",
          "name": "stderr",
          "text": [
            "WARNING:tensorflow:Early stopping conditioned on metric `val_loss` which is not available. Available metrics are: loss,accuracy\n"
          ]
        },
        {
          "output_type": "stream",
          "name": "stdout",
          "text": [
            "\b\b\b\b\b\b\b\b\b\b\b\b\b\b\b\b\b\b\b\b\b\b\b\b\b\b\b\b\b\b\b\b\b\b\b\b\b\b\b\b\b\b\b\b\b\b\b\b\b\b\b\b\b\b\b\b\b\b\b\b\b\b\b\b\b\b\b\b\b\b\b\b\b\b\b\b\b\b\b\b\b\b\b\b\r110/110 [==============================] - 1s 6ms/step - loss: 0.0875 - accuracy: 0.9614\n",
            "Epoch 45/100\n",
            "106/110 [===========================>..] - ETA: 0s - loss: 0.0837 - accuracy: 0.9649"
          ]
        },
        {
          "output_type": "stream",
          "name": "stderr",
          "text": [
            "WARNING:tensorflow:Early stopping conditioned on metric `val_loss` which is not available. Available metrics are: loss,accuracy\n"
          ]
        },
        {
          "output_type": "stream",
          "name": "stdout",
          "text": [
            "\b\b\b\b\b\b\b\b\b\b\b\b\b\b\b\b\b\b\b\b\b\b\b\b\b\b\b\b\b\b\b\b\b\b\b\b\b\b\b\b\b\b\b\b\b\b\b\b\b\b\b\b\b\b\b\b\b\b\b\b\b\b\b\b\b\b\b\b\b\b\b\b\b\b\b\b\b\b\b\b\b\b\b\b\r110/110 [==============================] - 1s 8ms/step - loss: 0.0866 - accuracy: 0.9642\n",
            "Epoch 46/100\n",
            "108/110 [============================>.] - ETA: 0s - loss: 0.0875 - accuracy: 0.9647"
          ]
        },
        {
          "output_type": "stream",
          "name": "stderr",
          "text": [
            "WARNING:tensorflow:Early stopping conditioned on metric `val_loss` which is not available. Available metrics are: loss,accuracy\n"
          ]
        },
        {
          "output_type": "stream",
          "name": "stdout",
          "text": [
            "\b\b\b\b\b\b\b\b\b\b\b\b\b\b\b\b\b\b\b\b\b\b\b\b\b\b\b\b\b\b\b\b\b\b\b\b\b\b\b\b\b\b\b\b\b\b\b\b\b\b\b\b\b\b\b\b\b\b\b\b\b\b\b\b\b\b\b\b\b\b\b\b\b\b\b\b\b\b\b\b\b\b\b\b\r110/110 [==============================] - 1s 8ms/step - loss: 0.0875 - accuracy: 0.9645\n",
            "Epoch 47/100\n",
            "105/110 [===========================>..] - ETA: 0s - loss: 0.0846 - accuracy: 0.9643"
          ]
        },
        {
          "output_type": "stream",
          "name": "stderr",
          "text": [
            "WARNING:tensorflow:Early stopping conditioned on metric `val_loss` which is not available. Available metrics are: loss,accuracy\n"
          ]
        },
        {
          "output_type": "stream",
          "name": "stdout",
          "text": [
            "\b\b\b\b\b\b\b\b\b\b\b\b\b\b\b\b\b\b\b\b\b\b\b\b\b\b\b\b\b\b\b\b\b\b\b\b\b\b\b\b\b\b\b\b\b\b\b\b\b\b\b\b\b\b\b\b\b\b\b\b\b\b\b\b\b\b\b\b\b\b\b\b\b\b\b\b\b\b\b\b\b\b\b\b\r110/110 [==============================] - 1s 8ms/step - loss: 0.0848 - accuracy: 0.9648\n",
            "Epoch 48/100\n",
            "110/110 [==============================] - ETA: 0s - loss: 0.0819 - accuracy: 0.9674"
          ]
        },
        {
          "output_type": "stream",
          "name": "stderr",
          "text": [
            "WARNING:tensorflow:Early stopping conditioned on metric `val_loss` which is not available. Available metrics are: loss,accuracy\n"
          ]
        },
        {
          "output_type": "stream",
          "name": "stdout",
          "text": [
            "\b\b\b\b\b\b\b\b\b\b\b\b\b\b\b\b\b\b\b\b\b\b\b\b\b\b\b\b\b\b\b\b\b\b\b\b\b\b\b\b\b\b\b\b\b\b\b\b\b\b\b\b\b\b\b\b\b\b\b\b\b\b\b\b\b\b\b\b\b\b\b\b\b\b\b\b\b\b\b\b\b\b\b\b\r110/110 [==============================] - 1s 8ms/step - loss: 0.0819 - accuracy: 0.9674\n",
            "Epoch 49/100\n",
            "105/110 [===========================>..] - ETA: 0s - loss: 0.0847 - accuracy: 0.9664"
          ]
        },
        {
          "output_type": "stream",
          "name": "stderr",
          "text": [
            "WARNING:tensorflow:Early stopping conditioned on metric `val_loss` which is not available. Available metrics are: loss,accuracy\n"
          ]
        },
        {
          "output_type": "stream",
          "name": "stdout",
          "text": [
            "\b\b\b\b\b\b\b\b\b\b\b\b\b\b\b\b\b\b\b\b\b\b\b\b\b\b\b\b\b\b\b\b\b\b\b\b\b\b\b\b\b\b\b\b\b\b\b\b\b\b\b\b\b\b\b\b\b\b\b\b\b\b\b\b\b\b\b\b\b\b\b\b\b\b\b\b\b\b\b\b\b\b\b\b\r110/110 [==============================] - 1s 8ms/step - loss: 0.0850 - accuracy: 0.9656\n",
            "Epoch 50/100\n",
            "101/110 [==========================>...] - ETA: 0s - loss: 0.0831 - accuracy: 0.9688"
          ]
        },
        {
          "output_type": "stream",
          "name": "stderr",
          "text": [
            "WARNING:tensorflow:Early stopping conditioned on metric `val_loss` which is not available. Available metrics are: loss,accuracy\n"
          ]
        },
        {
          "output_type": "stream",
          "name": "stdout",
          "text": [
            "\b\b\b\b\b\b\b\b\b\b\b\b\b\b\b\b\b\b\b\b\b\b\b\b\b\b\b\b\b\b\b\b\b\b\b\b\b\b\b\b\b\b\b\b\b\b\b\b\b\b\b\b\b\b\b\b\b\b\b\b\b\b\b\b\b\b\b\b\b\b\b\b\b\b\b\b\b\b\b\b\b\b\b\b\r110/110 [==============================] - 1s 7ms/step - loss: 0.0818 - accuracy: 0.9694\n",
            "Epoch 51/100\n",
            "109/110 [============================>.] - ETA: 0s - loss: 0.0835 - accuracy: 0.9665"
          ]
        },
        {
          "output_type": "stream",
          "name": "stderr",
          "text": [
            "WARNING:tensorflow:Early stopping conditioned on metric `val_loss` which is not available. Available metrics are: loss,accuracy\n"
          ]
        },
        {
          "output_type": "stream",
          "name": "stdout",
          "text": [
            "\b\b\b\b\b\b\b\b\b\b\b\b\b\b\b\b\b\b\b\b\b\b\b\b\b\b\b\b\b\b\b\b\b\b\b\b\b\b\b\b\b\b\b\b\b\b\b\b\b\b\b\b\b\b\b\b\b\b\b\b\b\b\b\b\b\b\b\b\b\b\b\b\b\b\b\b\b\b\b\b\b\b\b\b\r110/110 [==============================] - 1s 6ms/step - loss: 0.0835 - accuracy: 0.9665\n",
            "Epoch 52/100\n",
            "102/110 [==========================>...] - ETA: 0s - loss: 0.0796 - accuracy: 0.9691"
          ]
        },
        {
          "output_type": "stream",
          "name": "stderr",
          "text": [
            "WARNING:tensorflow:Early stopping conditioned on metric `val_loss` which is not available. Available metrics are: loss,accuracy\n"
          ]
        },
        {
          "output_type": "stream",
          "name": "stdout",
          "text": [
            "\b\b\b\b\b\b\b\b\b\b\b\b\b\b\b\b\b\b\b\b\b\b\b\b\b\b\b\b\b\b\b\b\b\b\b\b\b\b\b\b\b\b\b\b\b\b\b\b\b\b\b\b\b\b\b\b\b\b\b\b\b\b\b\b\b\b\b\b\b\b\b\b\b\b\b\b\b\b\b\b\b\b\b\b\r110/110 [==============================] - 1s 6ms/step - loss: 0.0796 - accuracy: 0.9688\n",
            "Epoch 53/100\n",
            "106/110 [===========================>..] - ETA: 0s - loss: 0.0808 - accuracy: 0.9682"
          ]
        },
        {
          "output_type": "stream",
          "name": "stderr",
          "text": [
            "WARNING:tensorflow:Early stopping conditioned on metric `val_loss` which is not available. Available metrics are: loss,accuracy\n"
          ]
        },
        {
          "output_type": "stream",
          "name": "stdout",
          "text": [
            "\b\b\b\b\b\b\b\b\b\b\b\b\b\b\b\b\b\b\b\b\b\b\b\b\b\b\b\b\b\b\b\b\b\b\b\b\b\b\b\b\b\b\b\b\b\b\b\b\b\b\b\b\b\b\b\b\b\b\b\b\b\b\b\b\b\b\b\b\b\b\b\b\b\b\b\b\b\b\b\b\b\b\b\b\r110/110 [==============================] - 1s 6ms/step - loss: 0.0809 - accuracy: 0.9679\n",
            "Epoch 54/100\n",
            "109/110 [============================>.] - ETA: 0s - loss: 0.0797 - accuracy: 0.9685"
          ]
        },
        {
          "output_type": "stream",
          "name": "stderr",
          "text": [
            "WARNING:tensorflow:Early stopping conditioned on metric `val_loss` which is not available. Available metrics are: loss,accuracy\n"
          ]
        },
        {
          "output_type": "stream",
          "name": "stdout",
          "text": [
            "\b\b\b\b\b\b\b\b\b\b\b\b\b\b\b\b\b\b\b\b\b\b\b\b\b\b\b\b\b\b\b\b\b\b\b\b\b\b\b\b\b\b\b\b\b\b\b\b\b\b\b\b\b\b\b\b\b\b\b\b\b\b\b\b\b\b\b\b\b\b\b\b\b\b\b\b\b\b\b\b\b\b\b\b\r110/110 [==============================] - 1s 7ms/step - loss: 0.0796 - accuracy: 0.9685\n",
            "Epoch 55/100\n",
            "105/110 [===========================>..] - ETA: 0s - loss: 0.0764 - accuracy: 0.9664"
          ]
        },
        {
          "output_type": "stream",
          "name": "stderr",
          "text": [
            "WARNING:tensorflow:Early stopping conditioned on metric `val_loss` which is not available. Available metrics are: loss,accuracy\n"
          ]
        },
        {
          "output_type": "stream",
          "name": "stdout",
          "text": [
            "\b\b\b\b\b\b\b\b\b\b\b\b\b\b\b\b\b\b\b\b\b\b\b\b\b\b\b\b\b\b\b\b\b\b\b\b\b\b\b\b\b\b\b\b\b\b\b\b\b\b\b\b\b\b\b\b\b\b\b\b\b\b\b\b\b\b\b\b\b\b\b\b\b\b\b\b\b\b\b\b\b\b\b\b\r110/110 [==============================] - 1s 7ms/step - loss: 0.0770 - accuracy: 0.9671\n",
            "Epoch 56/100\n",
            "108/110 [============================>.] - ETA: 0s - loss: 0.0759 - accuracy: 0.9688"
          ]
        },
        {
          "output_type": "stream",
          "name": "stderr",
          "text": [
            "WARNING:tensorflow:Early stopping conditioned on metric `val_loss` which is not available. Available metrics are: loss,accuracy\n"
          ]
        },
        {
          "output_type": "stream",
          "name": "stdout",
          "text": [
            "\b\b\b\b\b\b\b\b\b\b\b\b\b\b\b\b\b\b\b\b\b\b\b\b\b\b\b\b\b\b\b\b\b\b\b\b\b\b\b\b\b\b\b\b\b\b\b\b\b\b\b\b\b\b\b\b\b\b\b\b\b\b\b\b\b\b\b\b\b\b\b\b\b\b\b\b\b\b\b\b\b\b\b\b\r110/110 [==============================] - 1s 8ms/step - loss: 0.0757 - accuracy: 0.9688\n",
            "Epoch 57/100\n",
            "108/110 [============================>.] - ETA: 0s - loss: 0.0774 - accuracy: 0.9693"
          ]
        },
        {
          "output_type": "stream",
          "name": "stderr",
          "text": [
            "WARNING:tensorflow:Early stopping conditioned on metric `val_loss` which is not available. Available metrics are: loss,accuracy\n"
          ]
        },
        {
          "output_type": "stream",
          "name": "stdout",
          "text": [
            "\b\b\b\b\b\b\b\b\b\b\b\b\b\b\b\b\b\b\b\b\b\b\b\b\b\b\b\b\b\b\b\b\b\b\b\b\b\b\b\b\b\b\b\b\b\b\b\b\b\b\b\b\b\b\b\b\b\b\b\b\b\b\b\b\b\b\b\b\b\b\b\b\b\b\b\b\b\b\b\b\b\b\b\b\r110/110 [==============================] - 1s 9ms/step - loss: 0.0768 - accuracy: 0.9697\n",
            "Epoch 58/100\n",
            "107/110 [============================>.] - ETA: 0s - loss: 0.0760 - accuracy: 0.9699"
          ]
        },
        {
          "output_type": "stream",
          "name": "stderr",
          "text": [
            "WARNING:tensorflow:Early stopping conditioned on metric `val_loss` which is not available. Available metrics are: loss,accuracy\n"
          ]
        },
        {
          "output_type": "stream",
          "name": "stdout",
          "text": [
            "\b\b\b\b\b\b\b\b\b\b\b\b\b\b\b\b\b\b\b\b\b\b\b\b\b\b\b\b\b\b\b\b\b\b\b\b\b\b\b\b\b\b\b\b\b\b\b\b\b\b\b\b\b\b\b\b\b\b\b\b\b\b\b\b\b\b\b\b\b\b\b\b\b\b\b\b\b\b\b\b\b\b\b\b\r110/110 [==============================] - 1s 9ms/step - loss: 0.0756 - accuracy: 0.9702\n",
            "Epoch 59/100\n",
            "106/110 [===========================>..] - ETA: 0s - loss: 0.0763 - accuracy: 0.9696"
          ]
        },
        {
          "output_type": "stream",
          "name": "stderr",
          "text": [
            "WARNING:tensorflow:Early stopping conditioned on metric `val_loss` which is not available. Available metrics are: loss,accuracy\n"
          ]
        },
        {
          "output_type": "stream",
          "name": "stdout",
          "text": [
            "\b\b\b\b\b\b\b\b\b\b\b\b\b\b\b\b\b\b\b\b\b\b\b\b\b\b\b\b\b\b\b\b\b\b\b\b\b\b\b\b\b\b\b\b\b\b\b\b\b\b\b\b\b\b\b\b\b\b\b\b\b\b\b\b\b\b\b\b\b\b\b\b\b\b\b\b\b\b\b\b\b\b\b\b\r110/110 [==============================] - 1s 6ms/step - loss: 0.0754 - accuracy: 0.9702\n",
            "Epoch 60/100\n",
            "103/110 [===========================>..] - ETA: 0s - loss: 0.0779 - accuracy: 0.9675"
          ]
        },
        {
          "output_type": "stream",
          "name": "stderr",
          "text": [
            "WARNING:tensorflow:Early stopping conditioned on metric `val_loss` which is not available. Available metrics are: loss,accuracy\n"
          ]
        },
        {
          "output_type": "stream",
          "name": "stdout",
          "text": [
            "\b\b\b\b\b\b\b\b\b\b\b\b\b\b\b\b\b\b\b\b\b\b\b\b\b\b\b\b\b\b\b\b\b\b\b\b\b\b\b\b\b\b\b\b\b\b\b\b\b\b\b\b\b\b\b\b\b\b\b\b\b\b\b\b\b\b\b\b\b\b\b\b\b\b\b\b\b\b\b\b\b\b\b\b\r110/110 [==============================] - 1s 6ms/step - loss: 0.0767 - accuracy: 0.9679\n",
            "Epoch 61/100\n",
            "102/110 [==========================>...] - ETA: 0s - loss: 0.0742 - accuracy: 0.9709"
          ]
        },
        {
          "output_type": "stream",
          "name": "stderr",
          "text": [
            "WARNING:tensorflow:Early stopping conditioned on metric `val_loss` which is not available. Available metrics are: loss,accuracy\n"
          ]
        },
        {
          "output_type": "stream",
          "name": "stdout",
          "text": [
            "\b\b\b\b\b\b\b\b\b\b\b\b\b\b\b\b\b\b\b\b\b\b\b\b\b\b\b\b\b\b\b\b\b\b\b\b\b\b\b\b\b\b\b\b\b\b\b\b\b\b\b\b\b\b\b\b\b\b\b\b\b\b\b\b\b\b\b\b\b\b\b\b\b\b\b\b\b\b\b\b\b\b\b\b\r110/110 [==============================] - 1s 6ms/step - loss: 0.0745 - accuracy: 0.9699\n",
            "Epoch 62/100\n",
            "103/110 [===========================>..] - ETA: 0s - loss: 0.0723 - accuracy: 0.9700"
          ]
        },
        {
          "output_type": "stream",
          "name": "stderr",
          "text": [
            "WARNING:tensorflow:Early stopping conditioned on metric `val_loss` which is not available. Available metrics are: loss,accuracy\n"
          ]
        },
        {
          "output_type": "stream",
          "name": "stdout",
          "text": [
            "\b\b\b\b\b\b\b\b\b\b\b\b\b\b\b\b\b\b\b\b\b\b\b\b\b\b\b\b\b\b\b\b\b\b\b\b\b\b\b\b\b\b\b\b\b\b\b\b\b\b\b\b\b\b\b\b\b\b\b\b\b\b\b\b\b\b\b\b\b\b\b\b\b\b\b\b\b\b\b\b\b\b\b\b\r110/110 [==============================] - 1s 6ms/step - loss: 0.0760 - accuracy: 0.9699\n",
            "Epoch 63/100\n",
            "107/110 [============================>.] - ETA: 0s - loss: 0.0736 - accuracy: 0.9714"
          ]
        },
        {
          "output_type": "stream",
          "name": "stderr",
          "text": [
            "WARNING:tensorflow:Early stopping conditioned on metric `val_loss` which is not available. Available metrics are: loss,accuracy\n"
          ]
        },
        {
          "output_type": "stream",
          "name": "stdout",
          "text": [
            "\b\b\b\b\b\b\b\b\b\b\b\b\b\b\b\b\b\b\b\b\b\b\b\b\b\b\b\b\b\b\b\b\b\b\b\b\b\b\b\b\b\b\b\b\b\b\b\b\b\b\b\b\b\b\b\b\b\b\b\b\b\b\b\b\b\b\b\b\b\b\b\b\b\b\b\b\b\b\b\b\b\b\b\b\r110/110 [==============================] - 1s 6ms/step - loss: 0.0740 - accuracy: 0.9714\n",
            "Epoch 64/100\n",
            "107/110 [============================>.] - ETA: 0s - loss: 0.0753 - accuracy: 0.9723"
          ]
        },
        {
          "output_type": "stream",
          "name": "stderr",
          "text": [
            "WARNING:tensorflow:Early stopping conditioned on metric `val_loss` which is not available. Available metrics are: loss,accuracy\n"
          ]
        },
        {
          "output_type": "stream",
          "name": "stdout",
          "text": [
            "\b\b\b\b\b\b\b\b\b\b\b\b\b\b\b\b\b\b\b\b\b\b\b\b\b\b\b\b\b\b\b\b\b\b\b\b\b\b\b\b\b\b\b\b\b\b\b\b\b\b\b\b\b\b\b\b\b\b\b\b\b\b\b\b\b\b\b\b\b\b\b\b\b\b\b\b\b\b\b\b\b\b\b\b\r110/110 [==============================] - 1s 7ms/step - loss: 0.0754 - accuracy: 0.9719\n",
            "Epoch 65/100\n",
            "110/110 [==============================] - ETA: 0s - loss: 0.0700 - accuracy: 0.9725"
          ]
        },
        {
          "output_type": "stream",
          "name": "stderr",
          "text": [
            "WARNING:tensorflow:Early stopping conditioned on metric `val_loss` which is not available. Available metrics are: loss,accuracy\n"
          ]
        },
        {
          "output_type": "stream",
          "name": "stdout",
          "text": [
            "\b\b\b\b\b\b\b\b\b\b\b\b\b\b\b\b\b\b\b\b\b\b\b\b\b\b\b\b\b\b\b\b\b\b\b\b\b\b\b\b\b\b\b\b\b\b\b\b\b\b\b\b\b\b\b\b\b\b\b\b\b\b\b\b\b\b\b\b\b\b\b\b\b\b\b\b\b\b\b\b\b\b\b\b\r110/110 [==============================] - 1s 8ms/step - loss: 0.0700 - accuracy: 0.9725\n",
            "Epoch 66/100\n",
            "104/110 [===========================>..] - ETA: 0s - loss: 0.0735 - accuracy: 0.9721"
          ]
        },
        {
          "output_type": "stream",
          "name": "stderr",
          "text": [
            "WARNING:tensorflow:Early stopping conditioned on metric `val_loss` which is not available. Available metrics are: loss,accuracy\n"
          ]
        },
        {
          "output_type": "stream",
          "name": "stdout",
          "text": [
            "\b\b\b\b\b\b\b\b\b\b\b\b\b\b\b\b\b\b\b\b\b\b\b\b\b\b\b\b\b\b\b\b\b\b\b\b\b\b\b\b\b\b\b\b\b\b\b\b\b\b\b\b\b\b\b\b\b\b\b\b\b\b\b\b\b\b\b\b\b\b\b\b\b\b\b\b\b\b\b\b\b\b\b\b\r110/110 [==============================] - 1s 7ms/step - loss: 0.0722 - accuracy: 0.9725\n",
            "Epoch 67/100\n",
            "107/110 [============================>.] - ETA: 0s - loss: 0.0745 - accuracy: 0.9711"
          ]
        },
        {
          "output_type": "stream",
          "name": "stderr",
          "text": [
            "WARNING:tensorflow:Early stopping conditioned on metric `val_loss` which is not available. Available metrics are: loss,accuracy\n"
          ]
        },
        {
          "output_type": "stream",
          "name": "stdout",
          "text": [
            "\b\b\b\b\b\b\b\b\b\b\b\b\b\b\b\b\b\b\b\b\b\b\b\b\b\b\b\b\b\b\b\b\b\b\b\b\b\b\b\b\b\b\b\b\b\b\b\b\b\b\b\b\b\b\b\b\b\b\b\b\b\b\b\b\b\b\b\b\b\b\b\b\b\b\b\b\b\b\b\b\b\b\b\b\r110/110 [==============================] - 1s 8ms/step - loss: 0.0743 - accuracy: 0.9711\n",
            "Epoch 68/100\n",
            "106/110 [===========================>..] - ETA: 0s - loss: 0.0690 - accuracy: 0.9720"
          ]
        },
        {
          "output_type": "stream",
          "name": "stderr",
          "text": [
            "WARNING:tensorflow:Early stopping conditioned on metric `val_loss` which is not available. Available metrics are: loss,accuracy\n"
          ]
        },
        {
          "output_type": "stream",
          "name": "stdout",
          "text": [
            "\b\b\b\b\b\b\b\b\b\b\b\b\b\b\b\b\b\b\b\b\b\b\b\b\b\b\b\b\b\b\b\b\b\b\b\b\b\b\b\b\b\b\b\b\b\b\b\b\b\b\b\b\b\b\b\b\b\b\b\b\b\b\b\b\b\b\b\b\b\b\b\b\b\b\b\b\b\b\b\b\b\b\b\b\r110/110 [==============================] - 1s 8ms/step - loss: 0.0697 - accuracy: 0.9714\n",
            "Epoch 69/100\n",
            "107/110 [============================>.] - ETA: 0s - loss: 0.0717 - accuracy: 0.9725"
          ]
        },
        {
          "output_type": "stream",
          "name": "stderr",
          "text": [
            "WARNING:tensorflow:Early stopping conditioned on metric `val_loss` which is not available. Available metrics are: loss,accuracy\n"
          ]
        },
        {
          "output_type": "stream",
          "name": "stdout",
          "text": [
            "\b\b\b\b\b\b\b\b\b\b\b\b\b\b\b\b\b\b\b\b\b\b\b\b\b\b\b\b\b\b\b\b\b\b\b\b\b\b\b\b\b\b\b\b\b\b\b\b\b\b\b\b\b\b\b\b\b\b\b\b\b\b\b\b\b\b\b\b\b\b\b\b\b\b\b\b\b\b\b\b\b\b\b\b\r110/110 [==============================] - 1s 8ms/step - loss: 0.0707 - accuracy: 0.9731\n",
            "Epoch 70/100\n",
            "104/110 [===========================>..] - ETA: 0s - loss: 0.0721 - accuracy: 0.9733"
          ]
        },
        {
          "output_type": "stream",
          "name": "stderr",
          "text": [
            "WARNING:tensorflow:Early stopping conditioned on metric `val_loss` which is not available. Available metrics are: loss,accuracy\n"
          ]
        },
        {
          "output_type": "stream",
          "name": "stdout",
          "text": [
            "\b\b\b\b\b\b\b\b\b\b\b\b\b\b\b\b\b\b\b\b\b\b\b\b\b\b\b\b\b\b\b\b\b\b\b\b\b\b\b\b\b\b\b\b\b\b\b\b\b\b\b\b\b\b\b\b\b\b\b\b\b\b\b\b\b\b\b\b\b\b\b\b\b\b\b\b\b\b\b\b\b\b\b\b\r110/110 [==============================] - 1s 7ms/step - loss: 0.0698 - accuracy: 0.9739\n",
            "Epoch 71/100\n",
            "103/110 [===========================>..] - ETA: 0s - loss: 0.0682 - accuracy: 0.9739"
          ]
        },
        {
          "output_type": "stream",
          "name": "stderr",
          "text": [
            "WARNING:tensorflow:Early stopping conditioned on metric `val_loss` which is not available. Available metrics are: loss,accuracy\n"
          ]
        },
        {
          "output_type": "stream",
          "name": "stdout",
          "text": [
            "\b\b\b\b\b\b\b\b\b\b\b\b\b\b\b\b\b\b\b\b\b\b\b\b\b\b\b\b\b\b\b\b\b\b\b\b\b\b\b\b\b\b\b\b\b\b\b\b\b\b\b\b\b\b\b\b\b\b\b\b\b\b\b\b\b\b\b\b\b\b\b\b\b\b\b\b\b\b\b\b\b\b\b\b\r110/110 [==============================] - 1s 6ms/step - loss: 0.0681 - accuracy: 0.9737\n",
            "Epoch 72/100\n",
            "105/110 [===========================>..] - ETA: 0s - loss: 0.0681 - accuracy: 0.9732"
          ]
        },
        {
          "output_type": "stream",
          "name": "stderr",
          "text": [
            "WARNING:tensorflow:Early stopping conditioned on metric `val_loss` which is not available. Available metrics are: loss,accuracy\n"
          ]
        },
        {
          "output_type": "stream",
          "name": "stdout",
          "text": [
            "\b\b\b\b\b\b\b\b\b\b\b\b\b\b\b\b\b\b\b\b\b\b\b\b\b\b\b\b\b\b\b\b\b\b\b\b\b\b\b\b\b\b\b\b\b\b\b\b\b\b\b\b\b\b\b\b\b\b\b\b\b\b\b\b\b\b\b\b\b\b\b\b\b\b\b\b\b\b\b\b\b\b\b\b\r110/110 [==============================] - 1s 6ms/step - loss: 0.0680 - accuracy: 0.9731\n",
            "Epoch 73/100\n",
            "109/110 [============================>.] - ETA: 0s - loss: 0.0707 - accuracy: 0.9745"
          ]
        },
        {
          "output_type": "stream",
          "name": "stderr",
          "text": [
            "WARNING:tensorflow:Early stopping conditioned on metric `val_loss` which is not available. Available metrics are: loss,accuracy\n"
          ]
        },
        {
          "output_type": "stream",
          "name": "stdout",
          "text": [
            "\b\b\b\b\b\b\b\b\b\b\b\b\b\b\b\b\b\b\b\b\b\b\b\b\b\b\b\b\b\b\b\b\b\b\b\b\b\b\b\b\b\b\b\b\b\b\b\b\b\b\b\b\b\b\b\b\b\b\b\b\b\b\b\b\b\b\b\b\b\b\b\b\b\b\b\b\b\b\b\b\b\b\b\b\r110/110 [==============================] - 1s 6ms/step - loss: 0.0706 - accuracy: 0.9745\n",
            "Epoch 74/100\n",
            "102/110 [==========================>...] - ETA: 0s - loss: 0.0680 - accuracy: 0.9733"
          ]
        },
        {
          "output_type": "stream",
          "name": "stderr",
          "text": [
            "WARNING:tensorflow:Early stopping conditioned on metric `val_loss` which is not available. Available metrics are: loss,accuracy\n"
          ]
        },
        {
          "output_type": "stream",
          "name": "stdout",
          "text": [
            "\b\b\b\b\b\b\b\b\b\b\b\b\b\b\b\b\b\b\b\b\b\b\b\b\b\b\b\b\b\b\b\b\b\b\b\b\b\b\b\b\b\b\b\b\b\b\b\b\b\b\b\b\b\b\b\b\b\b\b\b\b\b\b\b\b\b\b\b\b\b\b\b\b\b\b\b\b\b\b\b\b\b\b\b\r110/110 [==============================] - 1s 6ms/step - loss: 0.0672 - accuracy: 0.9734\n",
            "Epoch 75/100\n",
            "103/110 [===========================>..] - ETA: 0s - loss: 0.0650 - accuracy: 0.9772"
          ]
        },
        {
          "output_type": "stream",
          "name": "stderr",
          "text": [
            "WARNING:tensorflow:Early stopping conditioned on metric `val_loss` which is not available. Available metrics are: loss,accuracy\n"
          ]
        },
        {
          "output_type": "stream",
          "name": "stdout",
          "text": [
            "\b\b\b\b\b\b\b\b\b\b\b\b\b\b\b\b\b\b\b\b\b\b\b\b\b\b\b\b\b\b\b\b\b\b\b\b\b\b\b\b\b\b\b\b\b\b\b\b\b\b\b\b\b\b\b\b\b\b\b\b\b\b\b\b\b\b\b\b\b\b\b\b\b\b\b\b\b\b\b\b\b\b\b\b\r110/110 [==============================] - 1s 6ms/step - loss: 0.0653 - accuracy: 0.9762\n",
            "Epoch 76/100\n",
            "104/110 [===========================>..] - ETA: 0s - loss: 0.0733 - accuracy: 0.9733"
          ]
        },
        {
          "output_type": "stream",
          "name": "stderr",
          "text": [
            "WARNING:tensorflow:Early stopping conditioned on metric `val_loss` which is not available. Available metrics are: loss,accuracy\n"
          ]
        },
        {
          "output_type": "stream",
          "name": "stdout",
          "text": [
            "\b\b\b\b\b\b\b\b\b\b\b\b\b\b\b\b\b\b\b\b\b\b\b\b\b\b\b\b\b\b\b\b\b\b\b\b\b\b\b\b\b\b\b\b\b\b\b\b\b\b\b\b\b\b\b\b\b\b\b\b\b\b\b\b\b\b\b\b\b\b\b\b\b\b\b\b\b\b\b\b\b\b\b\b\r110/110 [==============================] - 1s 6ms/step - loss: 0.0728 - accuracy: 0.9739\n",
            "Epoch 77/100\n",
            "102/110 [==========================>...] - ETA: 0s - loss: 0.0685 - accuracy: 0.9724"
          ]
        },
        {
          "output_type": "stream",
          "name": "stderr",
          "text": [
            "WARNING:tensorflow:Early stopping conditioned on metric `val_loss` which is not available. Available metrics are: loss,accuracy\n"
          ]
        },
        {
          "output_type": "stream",
          "name": "stdout",
          "text": [
            "\b\b\b\b\b\b\b\b\b\b\b\b\b\b\b\b\b\b\b\b\b\b\b\b\b\b\b\b\b\b\b\b\b\b\b\b\b\b\b\b\b\b\b\b\b\b\b\b\b\b\b\b\b\b\b\b\b\b\b\b\b\b\b\b\b\b\b\b\b\b\b\b\b\b\b\b\b\b\b\b\b\b\b\b\r110/110 [==============================] - 1s 6ms/step - loss: 0.0667 - accuracy: 0.9737\n",
            "Epoch 78/100\n",
            "102/110 [==========================>...] - ETA: 0s - loss: 0.0709 - accuracy: 0.9749"
          ]
        },
        {
          "output_type": "stream",
          "name": "stderr",
          "text": [
            "WARNING:tensorflow:Early stopping conditioned on metric `val_loss` which is not available. Available metrics are: loss,accuracy\n"
          ]
        },
        {
          "output_type": "stream",
          "name": "stdout",
          "text": [
            "\b\b\b\b\b\b\b\b\b\b\b\b\b\b\b\b\b\b\b\b\b\b\b\b\b\b\b\b\b\b\b\b\b\b\b\b\b\b\b\b\b\b\b\b\b\b\b\b\b\b\b\b\b\b\b\b\b\b\b\b\b\b\b\b\b\b\b\b\b\b\b\b\b\b\b\b\b\b\b\b\b\b\b\b\r110/110 [==============================] - 1s 6ms/step - loss: 0.0704 - accuracy: 0.9754\n",
            "Epoch 79/100\n",
            "102/110 [==========================>...] - ETA: 0s - loss: 0.0662 - accuracy: 0.9749"
          ]
        },
        {
          "output_type": "stream",
          "name": "stderr",
          "text": [
            "WARNING:tensorflow:Early stopping conditioned on metric `val_loss` which is not available. Available metrics are: loss,accuracy\n"
          ]
        },
        {
          "output_type": "stream",
          "name": "stdout",
          "text": [
            "\b\b\b\b\b\b\b\b\b\b\b\b\b\b\b\b\b\b\b\b\b\b\b\b\b\b\b\b\b\b\b\b\b\b\b\b\b\b\b\b\b\b\b\b\b\b\b\b\b\b\b\b\b\b\b\b\b\b\b\b\b\b\b\b\b\b\b\b\b\b\b\b\b\b\b\b\b\b\b\b\b\b\b\b\r110/110 [==============================] - 1s 6ms/step - loss: 0.0652 - accuracy: 0.9748\n",
            "Epoch 80/100\n",
            "102/110 [==========================>...] - ETA: 0s - loss: 0.0682 - accuracy: 0.9740"
          ]
        },
        {
          "output_type": "stream",
          "name": "stderr",
          "text": [
            "WARNING:tensorflow:Early stopping conditioned on metric `val_loss` which is not available. Available metrics are: loss,accuracy\n"
          ]
        },
        {
          "output_type": "stream",
          "name": "stdout",
          "text": [
            "\b\b\b\b\b\b\b\b\b\b\b\b\b\b\b\b\b\b\b\b\b\b\b\b\b\b\b\b\b\b\b\b\b\b\b\b\b\b\b\b\b\b\b\b\b\b\b\b\b\b\b\b\b\b\b\b\b\b\b\b\b\b\b\b\b\b\b\b\b\b\b\b\b\b\b\b\b\b\b\b\b\b\b\b\r110/110 [==============================] - 1s 6ms/step - loss: 0.0674 - accuracy: 0.9737\n",
            "Epoch 81/100\n",
            "110/110 [==============================] - ETA: 0s - loss: 0.0639 - accuracy: 0.9748"
          ]
        },
        {
          "output_type": "stream",
          "name": "stderr",
          "text": [
            "WARNING:tensorflow:Early stopping conditioned on metric `val_loss` which is not available. Available metrics are: loss,accuracy\n"
          ]
        },
        {
          "output_type": "stream",
          "name": "stdout",
          "text": [
            "\b\b\b\b\b\b\b\b\b\b\b\b\b\b\b\b\b\b\b\b\b\b\b\b\b\b\b\b\b\b\b\b\b\b\b\b\b\b\b\b\b\b\b\b\b\b\b\b\b\b\b\b\b\b\b\b\b\b\b\b\b\b\b\b\b\b\b\b\b\b\b\b\b\b\b\b\b\b\b\b\b\b\b\b\r110/110 [==============================] - 1s 5ms/step - loss: 0.0639 - accuracy: 0.9748\n",
            "Epoch 82/100\n",
            "103/110 [===========================>..] - ETA: 0s - loss: 0.0613 - accuracy: 0.9751"
          ]
        },
        {
          "output_type": "stream",
          "name": "stderr",
          "text": [
            "WARNING:tensorflow:Early stopping conditioned on metric `val_loss` which is not available. Available metrics are: loss,accuracy\n"
          ]
        },
        {
          "output_type": "stream",
          "name": "stdout",
          "text": [
            "\b\b\b\b\b\b\b\b\b\b\b\b\b\b\b\b\b\b\b\b\b\b\b\b\b\b\b\b\b\b\b\b\b\b\b\b\b\b\b\b\b\b\b\b\b\b\b\b\b\b\b\b\b\b\b\b\b\b\b\b\b\b\b\b\b\b\b\b\b\b\b\b\b\b\b\b\b\b\b\b\b\b\b\b\r110/110 [==============================] - 1s 6ms/step - loss: 0.0635 - accuracy: 0.9748\n",
            "Epoch 83/100\n",
            "108/110 [============================>.] - ETA: 0s - loss: 0.0616 - accuracy: 0.9774"
          ]
        },
        {
          "output_type": "stream",
          "name": "stderr",
          "text": [
            "WARNING:tensorflow:Early stopping conditioned on metric `val_loss` which is not available. Available metrics are: loss,accuracy\n"
          ]
        },
        {
          "output_type": "stream",
          "name": "stdout",
          "text": [
            "\b\b\b\b\b\b\b\b\b\b\b\b\b\b\b\b\b\b\b\b\b\b\b\b\b\b\b\b\b\b\b\b\b\b\b\b\b\b\b\b\b\b\b\b\b\b\b\b\b\b\b\b\b\b\b\b\b\b\b\b\b\b\b\b\b\b\b\b\b\b\b\b\b\b\b\b\b\b\b\b\b\b\b\b\r110/110 [==============================] - 1s 5ms/step - loss: 0.0617 - accuracy: 0.9774\n",
            "Epoch 84/100\n",
            "106/110 [===========================>..] - ETA: 0s - loss: 0.0834 - accuracy: 0.9676"
          ]
        },
        {
          "output_type": "stream",
          "name": "stderr",
          "text": [
            "WARNING:tensorflow:Early stopping conditioned on metric `val_loss` which is not available. Available metrics are: loss,accuracy\n"
          ]
        },
        {
          "output_type": "stream",
          "name": "stdout",
          "text": [
            "\b\b\b\b\b\b\b\b\b\b\b\b\b\b\b\b\b\b\b\b\b\b\b\b\b\b\b\b\b\b\b\b\b\b\b\b\b\b\b\b\b\b\b\b\b\b\b\b\b\b\b\b\b\b\b\b\b\b\b\b\b\b\b\b\b\b\b\b\b\b\b\b\b\b\b\b\b\b\b\b\b\b\b\b\r110/110 [==============================] - 1s 5ms/step - loss: 0.0815 - accuracy: 0.9685\n",
            "Epoch 85/100\n",
            "104/110 [===========================>..] - ETA: 0s - loss: 0.0655 - accuracy: 0.9751"
          ]
        },
        {
          "output_type": "stream",
          "name": "stderr",
          "text": [
            "WARNING:tensorflow:Early stopping conditioned on metric `val_loss` which is not available. Available metrics are: loss,accuracy\n"
          ]
        },
        {
          "output_type": "stream",
          "name": "stdout",
          "text": [
            "\b\b\b\b\b\b\b\b\b\b\b\b\b\b\b\b\b\b\b\b\b\b\b\b\b\b\b\b\b\b\b\b\b\b\b\b\b\b\b\b\b\b\b\b\b\b\b\b\b\b\b\b\b\b\b\b\b\b\b\b\b\b\b\b\b\b\b\b\b\b\b\b\b\b\b\b\b\b\b\b\b\b\b\b\r110/110 [==============================] - 1s 6ms/step - loss: 0.0642 - accuracy: 0.9757\n",
            "Epoch 86/100\n",
            "104/110 [===========================>..] - ETA: 0s - loss: 0.0659 - accuracy: 0.9760"
          ]
        },
        {
          "output_type": "stream",
          "name": "stderr",
          "text": [
            "WARNING:tensorflow:Early stopping conditioned on metric `val_loss` which is not available. Available metrics are: loss,accuracy\n"
          ]
        },
        {
          "output_type": "stream",
          "name": "stdout",
          "text": [
            "\b\b\b\b\b\b\b\b\b\b\b\b\b\b\b\b\b\b\b\b\b\b\b\b\b\b\b\b\b\b\b\b\b\b\b\b\b\b\b\b\b\b\b\b\b\b\b\b\b\b\b\b\b\b\b\b\b\b\b\b\b\b\b\b\b\b\b\b\b\b\b\b\b\b\b\b\b\b\b\b\b\b\b\b\r110/110 [==============================] - 1s 6ms/step - loss: 0.0644 - accuracy: 0.9762\n",
            "Epoch 87/100\n",
            "107/110 [============================>.] - ETA: 0s - loss: 0.0614 - accuracy: 0.9775"
          ]
        },
        {
          "output_type": "stream",
          "name": "stderr",
          "text": [
            "WARNING:tensorflow:Early stopping conditioned on metric `val_loss` which is not available. Available metrics are: loss,accuracy\n"
          ]
        },
        {
          "output_type": "stream",
          "name": "stdout",
          "text": [
            "\b\b\b\b\b\b\b\b\b\b\b\b\b\b\b\b\b\b\b\b\b\b\b\b\b\b\b\b\b\b\b\b\b\b\b\b\b\b\b\b\b\b\b\b\b\b\b\b\b\b\b\b\b\b\b\b\b\b\b\b\b\b\b\b\b\b\b\b\b\b\b\b\b\b\b\b\b\b\b\b\b\b\b\b\r110/110 [==============================] - 1s 8ms/step - loss: 0.0613 - accuracy: 0.9777\n",
            "Epoch 88/100\n",
            "108/110 [============================>.] - ETA: 0s - loss: 0.0606 - accuracy: 0.9766"
          ]
        },
        {
          "output_type": "stream",
          "name": "stderr",
          "text": [
            "WARNING:tensorflow:Early stopping conditioned on metric `val_loss` which is not available. Available metrics are: loss,accuracy\n"
          ]
        },
        {
          "output_type": "stream",
          "name": "stdout",
          "text": [
            "\b\b\b\b\b\b\b\b\b\b\b\b\b\b\b\b\b\b\b\b\b\b\b\b\b\b\b\b\b\b\b\b\b\b\b\b\b\b\b\b\b\b\b\b\b\b\b\b\b\b\b\b\b\b\b\b\b\b\b\b\b\b\b\b\b\b\b\b\b\b\b\b\b\b\b\b\b\b\b\b\b\b\b\b\r110/110 [==============================] - 1s 8ms/step - loss: 0.0608 - accuracy: 0.9765\n",
            "Epoch 89/100\n",
            "107/110 [============================>.] - ETA: 0s - loss: 0.0609 - accuracy: 0.9766"
          ]
        },
        {
          "output_type": "stream",
          "name": "stderr",
          "text": [
            "WARNING:tensorflow:Early stopping conditioned on metric `val_loss` which is not available. Available metrics are: loss,accuracy\n"
          ]
        },
        {
          "output_type": "stream",
          "name": "stdout",
          "text": [
            "\b\b\b\b\b\b\b\b\b\b\b\b\b\b\b\b\b\b\b\b\b\b\b\b\b\b\b\b\b\b\b\b\b\b\b\b\b\b\b\b\b\b\b\b\b\b\b\b\b\b\b\b\b\b\b\b\b\b\b\b\b\b\b\b\b\b\b\b\b\b\b\b\b\b\b\b\b\b\b\b\b\b\b\b\r110/110 [==============================] - 1s 9ms/step - loss: 0.0611 - accuracy: 0.9768\n",
            "Epoch 90/100\n",
            "107/110 [============================>.] - ETA: 0s - loss: 0.0625 - accuracy: 0.9749"
          ]
        },
        {
          "output_type": "stream",
          "name": "stderr",
          "text": [
            "WARNING:tensorflow:Early stopping conditioned on metric `val_loss` which is not available. Available metrics are: loss,accuracy\n"
          ]
        },
        {
          "output_type": "stream",
          "name": "stdout",
          "text": [
            "\b\b\b\b\b\b\b\b\b\b\b\b\b\b\b\b\b\b\b\b\b\b\b\b\b\b\b\b\b\b\b\b\b\b\b\b\b\b\b\b\b\b\b\b\b\b\b\b\b\b\b\b\b\b\b\b\b\b\b\b\b\b\b\b\b\b\b\b\b\b\b\b\b\b\b\b\b\b\b\b\b\b\b\b\r110/110 [==============================] - 1s 13ms/step - loss: 0.0620 - accuracy: 0.9748\n",
            "Epoch 91/100\n",
            "110/110 [==============================] - ETA: 0s - loss: 0.0607 - accuracy: 0.9768"
          ]
        },
        {
          "output_type": "stream",
          "name": "stderr",
          "text": [
            "WARNING:tensorflow:Early stopping conditioned on metric `val_loss` which is not available. Available metrics are: loss,accuracy\n"
          ]
        },
        {
          "output_type": "stream",
          "name": "stdout",
          "text": [
            "\b\b\b\b\b\b\b\b\b\b\b\b\b\b\b\b\b\b\b\b\b\b\b\b\b\b\b\b\b\b\b\b\b\b\b\b\b\b\b\b\b\b\b\b\b\b\b\b\b\b\b\b\b\b\b\b\b\b\b\b\b\b\b\b\b\b\b\b\b\b\b\b\b\b\b\b\b\b\b\b\b\b\b\b\r110/110 [==============================] - 2s 14ms/step - loss: 0.0607 - accuracy: 0.9768\n",
            "Epoch 92/100\n",
            "106/110 [===========================>..] - ETA: 0s - loss: 0.0604 - accuracy: 0.9779"
          ]
        },
        {
          "output_type": "stream",
          "name": "stderr",
          "text": [
            "WARNING:tensorflow:Early stopping conditioned on metric `val_loss` which is not available. Available metrics are: loss,accuracy\n"
          ]
        },
        {
          "output_type": "stream",
          "name": "stdout",
          "text": [
            "\b\b\b\b\b\b\b\b\b\b\b\b\b\b\b\b\b\b\b\b\b\b\b\b\b\b\b\b\b\b\b\b\b\b\b\b\b\b\b\b\b\b\b\b\b\b\b\b\b\b\b\b\b\b\b\b\b\b\b\b\b\b\b\b\b\b\b\b\b\b\b\b\b\b\b\b\b\b\b\b\b\b\b\b\r110/110 [==============================] - 1s 10ms/step - loss: 0.0604 - accuracy: 0.9777\n",
            "Epoch 93/100\n",
            "105/110 [===========================>..] - ETA: 0s - loss: 0.0628 - accuracy: 0.9774"
          ]
        },
        {
          "output_type": "stream",
          "name": "stderr",
          "text": [
            "WARNING:tensorflow:Early stopping conditioned on metric `val_loss` which is not available. Available metrics are: loss,accuracy\n"
          ]
        },
        {
          "output_type": "stream",
          "name": "stdout",
          "text": [
            "\b\b\b\b\b\b\b\b\b\b\b\b\b\b\b\b\b\b\b\b\b\b\b\b\b\b\b\b\b\b\b\b\b\b\b\b\b\b\b\b\b\b\b\b\b\b\b\b\b\b\b\b\b\b\b\b\b\b\b\b\b\b\b\b\b\b\b\b\b\b\b\b\b\b\b\b\b\b\b\b\b\b\b\b\r110/110 [==============================] - 1s 9ms/step - loss: 0.0622 - accuracy: 0.9774\n",
            "Epoch 94/100\n",
            "104/110 [===========================>..] - ETA: 0s - loss: 0.0625 - accuracy: 0.9775"
          ]
        },
        {
          "output_type": "stream",
          "name": "stderr",
          "text": [
            "WARNING:tensorflow:Early stopping conditioned on metric `val_loss` which is not available. Available metrics are: loss,accuracy\n"
          ]
        },
        {
          "output_type": "stream",
          "name": "stdout",
          "text": [
            "\b\b\b\b\b\b\b\b\b\b\b\b\b\b\b\b\b\b\b\b\b\b\b\b\b\b\b\b\b\b\b\b\b\b\b\b\b\b\b\b\b\b\b\b\b\b\b\b\b\b\b\b\b\b\b\b\b\b\b\b\b\b\b\b\b\b\b\b\b\b\b\b\b\b\b\b\b\b\b\b\b\b\b\b\r110/110 [==============================] - 1s 9ms/step - loss: 0.0625 - accuracy: 0.9774\n",
            "Epoch 95/100\n",
            "108/110 [============================>.] - ETA: 0s - loss: 0.0610 - accuracy: 0.9757"
          ]
        },
        {
          "output_type": "stream",
          "name": "stderr",
          "text": [
            "WARNING:tensorflow:Early stopping conditioned on metric `val_loss` which is not available. Available metrics are: loss,accuracy\n"
          ]
        },
        {
          "output_type": "stream",
          "name": "stdout",
          "text": [
            "\b\b\b\b\b\b\b\b\b\b\b\b\b\b\b\b\b\b\b\b\b\b\b\b\b\b\b\b\b\b\b\b\b\b\b\b\b\b\b\b\b\b\b\b\b\b\b\b\b\b\b\b\b\b\b\b\b\b\b\b\b\b\b\b\b\b\b\b\b\b\b\b\b\b\b\b\b\b\b\b\b\b\b\b\r110/110 [==============================] - 1s 10ms/step - loss: 0.0610 - accuracy: 0.9757\n",
            "Epoch 96/100\n",
            "107/110 [============================>.] - ETA: 0s - loss: 0.0627 - accuracy: 0.9734"
          ]
        },
        {
          "output_type": "stream",
          "name": "stderr",
          "text": [
            "WARNING:tensorflow:Early stopping conditioned on metric `val_loss` which is not available. Available metrics are: loss,accuracy\n"
          ]
        },
        {
          "output_type": "stream",
          "name": "stdout",
          "text": [
            "\b\b\b\b\b\b\b\b\b\b\b\b\b\b\b\b\b\b\b\b\b\b\b\b\b\b\b\b\b\b\b\b\b\b\b\b\b\b\b\b\b\b\b\b\b\b\b\b\b\b\b\b\b\b\b\b\b\b\b\b\b\b\b\b\b\b\b\b\b\b\b\b\b\b\b\b\b\b\b\b\b\b\b\b\r110/110 [==============================] - 1s 10ms/step - loss: 0.0617 - accuracy: 0.9739\n",
            "Epoch 97/100\n",
            "110/110 [==============================] - ETA: 0s - loss: 0.0585 - accuracy: 0.9780"
          ]
        },
        {
          "output_type": "stream",
          "name": "stderr",
          "text": [
            "WARNING:tensorflow:Early stopping conditioned on metric `val_loss` which is not available. Available metrics are: loss,accuracy\n"
          ]
        },
        {
          "output_type": "stream",
          "name": "stdout",
          "text": [
            "\b\b\b\b\b\b\b\b\b\b\b\b\b\b\b\b\b\b\b\b\b\b\b\b\b\b\b\b\b\b\b\b\b\b\b\b\b\b\b\b\b\b\b\b\b\b\b\b\b\b\b\b\b\b\b\b\b\b\b\b\b\b\b\b\b\b\b\b\b\b\b\b\b\b\b\b\b\b\b\b\b\b\b\b\r110/110 [==============================] - 1s 8ms/step - loss: 0.0585 - accuracy: 0.9780\n",
            "Epoch 98/100\n",
            "109/110 [============================>.] - ETA: 0s - loss: 0.0584 - accuracy: 0.9768"
          ]
        },
        {
          "output_type": "stream",
          "name": "stderr",
          "text": [
            "WARNING:tensorflow:Early stopping conditioned on metric `val_loss` which is not available. Available metrics are: loss,accuracy\n"
          ]
        },
        {
          "output_type": "stream",
          "name": "stdout",
          "text": [
            "\b\b\b\b\b\b\b\b\b\b\b\b\b\b\b\b\b\b\b\b\b\b\b\b\b\b\b\b\b\b\b\b\b\b\b\b\b\b\b\b\b\b\b\b\b\b\b\b\b\b\b\b\b\b\b\b\b\b\b\b\b\b\b\b\b\b\b\b\b\b\b\b\b\b\b\b\b\b\b\b\b\b\b\b\r110/110 [==============================] - 1s 9ms/step - loss: 0.0583 - accuracy: 0.9768\n",
            "Epoch 99/100\n",
            "105/110 [===========================>..] - ETA: 0s - loss: 0.0609 - accuracy: 0.9777"
          ]
        },
        {
          "output_type": "stream",
          "name": "stderr",
          "text": [
            "WARNING:tensorflow:Early stopping conditioned on metric `val_loss` which is not available. Available metrics are: loss,accuracy\n"
          ]
        },
        {
          "output_type": "stream",
          "name": "stdout",
          "text": [
            "\b\b\b\b\b\b\b\b\b\b\b\b\b\b\b\b\b\b\b\b\b\b\b\b\b\b\b\b\b\b\b\b\b\b\b\b\b\b\b\b\b\b\b\b\b\b\b\b\b\b\b\b\b\b\b\b\b\b\b\b\b\b\b\b\b\b\b\b\b\b\b\b\b\b\b\b\b\b\b\b\b\b\b\b\r110/110 [==============================] - 1s 11ms/step - loss: 0.0601 - accuracy: 0.9782\n",
            "Epoch 100/100\n",
            "107/110 [============================>.] - ETA: 0s - loss: 0.0611 - accuracy: 0.9743"
          ]
        },
        {
          "output_type": "stream",
          "name": "stderr",
          "text": [
            "WARNING:tensorflow:Early stopping conditioned on metric `val_loss` which is not available. Available metrics are: loss,accuracy\n"
          ]
        },
        {
          "output_type": "stream",
          "name": "stdout",
          "text": [
            "110/110 [==============================] - 1s 9ms/step - loss: 0.0602 - accuracy: 0.9748\n",
            "37/37 [==============================] - 3s 8ms/step - loss: 0.1190 - accuracy: 0.9605\n",
            "37/37 [==============================] - 2s 5ms/step\n"
          ]
        }
      ],
      "source": [
        "from sklearn.preprocessing import MinMaxScaler\n",
        "from keras.models import Sequential\n",
        "from keras.layers import LSTM, Dense, Dropout\n",
        "from keras.optimizers import Adam\n",
        "from keras.callbacks import EarlyStopping\n",
        "\n",
        "# Assuming X_train, y_train, X_val, and y_val are defined elsewhere in your code\n",
        "\n",
        "# Preprocess data\n",
        "scaler = MinMaxScaler()\n",
        "X_train_scaled = scaler.fit_transform(X_train)\n",
        "joblib.dump(scaler, 'scaler.joblib')\n",
        "\n",
        "\n",
        "\n",
        "# Reshape data for LSTM\n",
        "X_train_reshaped = X_train_scaled.reshape(X_train_scaled.shape[0], 1, X_train_scaled.shape[1])\n",
        "# Build LSTM model\n",
        "lstm_model=Sequential()\n",
        "lstm_model.add(LSTM(units=100, return_sequences=True, input_shape=(X_train_reshaped.shape[1], X_train_reshaped.shape[2])))\n",
        "lstm_model.add(LSTM(units=100))\n",
        "lstm_model.add(Dropout(0.2))  # Adding dropout for regularization\n",
        "lstm_model.add(Dense(1, activation='sigmoid'))\n",
        "\n",
        "# Compile the model with an adaptive learning rate\n",
        "optimizer = Adam(learning_rate=0.001)\n",
        "lstm_model.compile(optimizer=optimizer, loss='binary_crossentropy', metrics=['accuracy'])\n",
        "\n",
        "# Implement early stopping\n",
        "early_stopping = EarlyStopping(monitor='val_loss', patience=5, restore_best_weights=True)\n",
        "\n",
        "# Train the LSTM model\n",
        "start_time = time.time()\n",
        "history = lstm_model.fit(X_train_reshaped, y_train, epochs=100, batch_size=32, callbacks=[early_stopping])\n",
        "end_time = time.time()\n",
        "\n",
        "# Evaluate the model on the test set\n",
        "X_test_scaled = scaler.transform(X_test)\n",
        "X_test_reshaped = X_test_scaled.reshape(X_test_scaled.shape[0], 1, X_test_scaled.shape[1])\n",
        "\n",
        "test_loss, test_accuracy = lstm_model.evaluate(X_test_reshaped, y_test)\n",
        "\n",
        "# Calculate additional metrics\n",
        "y_pred = lstm_model.predict(X_test_reshaped)\n",
        "y_pred_binary = (y_pred > 0.5).astype(int)  # Assuming binary\n",
        "precision = precision_score(y_test, y_pred_binary)\n",
        "recall = recall_score(y_test, y_pred_binary)\n",
        "\n",
        "\n"
      ]
    },
    {
      "cell_type": "code",
      "execution_count": null,
      "id": "fc2ef6b8",
      "metadata": {
        "execution": {
          "iopub.execute_input": "2024-01-18T09:24:24.543034Z",
          "iopub.status.busy": "2024-01-18T09:24:24.542609Z",
          "iopub.status.idle": "2024-01-18T09:24:25.606764Z",
          "shell.execute_reply": "2024-01-18T09:24:25.605776Z"
        },
        "papermill": {
          "duration": 1.259331,
          "end_time": "2024-01-18T09:24:25.609410",
          "exception": false,
          "start_time": "2024-01-18T09:24:24.350079",
          "status": "completed"
        },
        "tags": [],
        "colab": {
          "base_uri": "https://localhost:8080/"
        },
        "id": "fc2ef6b8",
        "outputId": "3f0e1d13-3e2e-466b-9b0b-7b58539bd366"
      },
      "outputs": [
        {
          "output_type": "stream",
          "name": "stderr",
          "text": [
            "/usr/local/lib/python3.10/dist-packages/keras/src/engine/training.py:3103: UserWarning: You are saving your model as an HDF5 file via `model.save()`. This file format is considered legacy. We recommend using instead the native Keras format, e.g. `model.save('my_model.keras')`.\n",
            "  saving_api.save_model(\n"
          ]
        },
        {
          "output_type": "stream",
          "name": "stdout",
          "text": [
            "Trained LSTM model saved to lstm_model.h5\n"
          ]
        }
      ],
      "source": [
        "# Save the trained LSTM model to a file\n",
        "model_filename = 'lstm_model.h5'\n",
        "lstm_model.save(model_filename)\n",
        "print(f\"Trained LSTM model saved to {model_filename}\")\n",
        "from keras.models import load_model\n",
        "\n",
        "# Load the saved LSTM model\n",
        "loaded_model = load_model('lstm_model.h5')\n",
        "loaded_scaler = joblib.load('scaler.joblib')\n"
      ]
    },
    {
      "cell_type": "code",
      "execution_count": null,
      "id": "21449dd1",
      "metadata": {
        "execution": {
          "iopub.execute_input": "2024-01-18T09:24:25.994164Z",
          "iopub.status.busy": "2024-01-18T09:24:25.992624Z",
          "iopub.status.idle": "2024-01-18T09:24:26.296789Z",
          "shell.execute_reply": "2024-01-18T09:24:26.295523Z"
        },
        "papermill": {
          "duration": 0.500617,
          "end_time": "2024-01-18T09:24:26.299825",
          "exception": false,
          "start_time": "2024-01-18T09:24:25.799208",
          "status": "completed"
        },
        "tags": [],
        "colab": {
          "base_uri": "https://localhost:8080/",
          "height": 651
        },
        "id": "21449dd1",
        "outputId": "2a4ce68f-bf28-4d48-c75e-174915cf1a49"
      },
      "outputs": [
        {
          "output_type": "display_data",
          "data": {
            "text/plain": [
              "<Figure size 600x600 with 2 Axes>"
            ],
            "image/png": "[encoded data removed]"
          },
          "metadata": {}
        },
        {
          "output_type": "stream",
          "name": "stdout",
          "text": [
            "Metrics:\n",
            "      Metric                                              Score\n",
            "0   Accuracy  {'Naive Bayes': 0.9776824034334763, 'Random Fo...\n",
            "1  Precision                                           0.948882\n",
            "2     Recall                                           0.976974\n"
          ]
        }
      ],
      "source": [
        "# Confusion Matrix\n",
        "conf_matrix = confusion_matrix(y_test, y_pred_binary)\n",
        "\n",
        "metrics_df = pd.DataFrame({\n",
        "    'Metric': ['Accuracy', 'Precision', 'Recall'],\n",
        "    'Score': [accuracy, precision, recall]\n",
        "})\n",
        "\n",
        "# Display Confusion Matrix\n",
        "plt.figure(figsize=(6, 6))\n",
        "sns.heatmap(conf_matrix, annot=True, fmt=\"d\", cmap=\"Blues\", xticklabels=[\"0\", \"1\"], yticklabels=[\"0\", \"1\"])\n",
        "plt.title(\"Confusion Matrix\")\n",
        "plt.xlabel(\"Predicted\")\n",
        "plt.ylabel(\"True\")\n",
        "plt.show()\n",
        "print(\"Metrics:\")\n",
        "print(metrics_df)"
      ]
    }
  ],
  "metadata": {
    "kaggle": {
      "accelerator": "none",
      "dataSources": [
        {
          "datasetId": 111554,
          "sourceId": 267091,
          "sourceType": "datasetVersion"
        }
      ],
      "dockerImageVersionId": 30558,
      "isGpuEnabled": false,
      "isInternetEnabled": true,
      "language": "python",
      "sourceType": "notebook"
    },
    "kernelspec": {
      "display_name": "Python 3",
      "name": "python3"
    },
    "language_info": {
      "codemirror_mode": {
        "name": "ipython",
        "version": 3
      },
      "file_extension": ".py",
      "mimetype": "text/x-python",
      "name": "python",
      "nbconvert_exporter": "python",
      "pygments_lexer": "ipython3",
      "version": "3.10.12"
    },
    "papermill": {
      "default_parameters": {},
      "duration": 144.070453,
      "end_time": "2024-01-18T09:24:38.351474",
      "environment_variables": {},
      "exception": null,
      "input_path": "__notebook__.ipynb",
      "output_path": "__notebook__.ipynb",
      "parameters": {},
      "start_time": "2024-01-18T09:22:14.281021",
      "version": "2.4.0"
    },
    "colab": {
      "provenance": [],
      "gpuType": "T4"
    },
    "accelerator": "GPU"
  },
  "nbformat": 4,
  "nbformat_minor": 5
}